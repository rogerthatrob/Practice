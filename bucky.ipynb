{
 "metadata": {
  "language_info": {
   "codemirror_mode": {
    "name": "ipython",
    "version": 3
   },
   "file_extension": ".py",
   "mimetype": "text/x-python",
   "name": "python",
   "nbconvert_exporter": "python",
   "pygments_lexer": "ipython3",
   "version": 3
  },
  "orig_nbformat": 2,
  "kernelspec": {
   "name": "python_defaultSpec_1596486102732",
   "display_name": "Python 3.8.5 64-bit"
  }
 },
 "nbformat": 4,
 "nbformat_minor": 2,
 "cells": [
  {
   "cell_type": "markdown",
   "metadata": {},
   "source": [
    "# guess the magic number"
   ]
  },
  {
   "cell_type": "code",
   "execution_count": 56,
   "metadata": {
    "tags": []
   },
   "outputs": [
    {
     "output_type": "stream",
     "name": "stdout",
     "text": "num guessed 0 is divis by 4\n0 is not the magic number, try again\n1 is not the magic number, try again\n2 is not the magic number, try again\n3 is not the magic number, try again\nnum guessed 4 is divis by 4\n4 is not the magic number, try again\n5 is not the magic number, try again\n6 is not the magic number, try again\n7 is not the magic number, try again\nnum guessed 8 is divis by 4\n8 is not the magic number, try again\n9 is not the magic number, try again\n10 is not the magic number, try again\n11 is not the magic number, try again\nnum guessed 12 is divis by 4\n12 is not the magic number, try again\n13 is not the magic number, try again\n14 is not the magic number, try again\n15 is not the magic number, try again\nnum guessed 16 is divis by 4\n16 is not the magic number, try again\n17 is not the magic number, try again\n18 is not the magic number, try again\n19 is not the magic number, try again\nnum guessed 20 is divis by 4\n20 is not the magic number, try again\n21 is not the magic number, try again\n22 is not the magic number, try again\n23 is not the magic number, try again\nnum guessed 24 is divis by 4\n24 is not the magic number, try again\n25 is not the magic number, try again\nfound number that is magic 26\n"
    }
   ],
   "source": [
    "magicNumber = 26\n",
    "\n",
    "for n in range(101):\n",
    "    if n is magicNumber:\n",
    "        print(\"found number that is magic\" , n)\n",
    "        break \n",
    "    else:\n",
    "        if n % 4 == 0:\n",
    "            print(\"num guessed\", n, \"is divis by 4\")\n",
    "        print(n, \"is not the magic number, try again\")"
   ]
  },
  {
   "cell_type": "markdown",
   "metadata": {},
   "source": [
    "# bucky video 12 - functions\n"
   ]
  },
  {
   "cell_type": "code",
   "execution_count": 19,
   "metadata": {
    "tags": []
   },
   "outputs": [
    {
     "output_type": "stream",
     "name": "stdout",
     "text": "fuctions are cool!\n$ 43893.85\n"
    }
   ],
   "source": [
    "def beef():\n",
    "    print(\"fuctions are cool!\")\n",
    "\n",
    "def bitcoin_to_usd(btc):\n",
    "    amount = btc * 11401 # 8-3-20\n",
    "    print('$', amount) #need to concate to remove space\n",
    "\n",
    "beef()\n",
    "bitcoin_to_usd(3.85)    "
   ]
  },
  {
   "cell_type": "markdown",
   "metadata": {},
   "source": [
    "# bucky 13 - return values"
   ]
  },
  {
   "cell_type": "code",
   "execution_count": 54,
   "metadata": {
    "tags": []
   },
   "outputs": [
    {
     "output_type": "stream",
     "name": "stdout",
     "text": "you are not over 21, wait another 11 years\n"
    }
   ],
   "source": [
    "\n",
    "def GetAge(my_age):\n",
    "    drinking_age = my_age - 21\n",
    "    return drinking_age\n",
    "\n",
    "def AllowedToDrink(yearsOver):\n",
    "    if yearsOver >= 0:\n",
    "        print(\"you are\", yearsOver, 'years over 21')\n",
    "    else:\n",
    "        yearsToWait = yearsOver * -1\n",
    "        print('you are not over 21, wait another', yearsToWait, 'years')        \n",
    "\n",
    "yearsOver = GetAge(10)\n",
    "\n",
    "AllowedToDrink(yearsOver)\n",
    "\n",
    "\n",
    "    "
   ]
  },
  {
   "cell_type": "code",
   "execution_count": null,
   "metadata": {},
   "outputs": [],
   "source": []
  }
 ]
}