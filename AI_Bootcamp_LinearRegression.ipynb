{
  "nbformat": 4,
  "nbformat_minor": 0,
  "metadata": {
    "anaconda-cloud": {},
    "kernelspec": {
      "display_name": "Python 3",
      "language": "python",
      "name": "python3"
    },
    "language_info": {
      "codemirror_mode": {
        "name": "ipython",
        "version": 3
      },
      "file_extension": ".py",
      "mimetype": "text/x-python",
      "name": "python",
      "nbconvert_exporter": "python",
      "pygments_lexer": "ipython3",
      "version": "3.5.1"
    },
    "colab": {
      "name": "Copy of LinearRegression.ipynb",
      "provenance": [],
      "collapsed_sections": [],
      "toc_visible": true,
      "include_colab_link": true
    },
    "widgets": {
      "application/vnd.jupyter.widget-state+json": {
        "69924f22d7c0425c9f6a7d721930a7de": {
          "model_module": "@jupyter-widgets/controls",
          "model_name": "VBoxModel",
          "model_module_version": "1.5.0",
          "state": {
            "_view_name": "VBoxView",
            "_dom_classes": [
              "widget-interact"
            ],
            "_model_name": "VBoxModel",
            "_view_module": "@jupyter-widgets/controls",
            "_model_module_version": "1.5.0",
            "_view_count": null,
            "_view_module_version": "1.5.0",
            "box_style": "",
            "layout": "IPY_MODEL_3985e90078a5482590e616ebc8da98bb",
            "_model_module": "@jupyter-widgets/controls",
            "children": [
              "IPY_MODEL_1cf5a3ba4dec4723a9f5f8418cb1612d",
              "IPY_MODEL_3539a0651f774da28f5e834b71966777"
            ]
          }
        },
        "3985e90078a5482590e616ebc8da98bb": {
          "model_module": "@jupyter-widgets/base",
          "model_name": "LayoutModel",
          "model_module_version": "1.2.0",
          "state": {
            "_view_name": "LayoutView",
            "grid_template_rows": null,
            "right": null,
            "justify_content": null,
            "_view_module": "@jupyter-widgets/base",
            "overflow": null,
            "_model_module_version": "1.2.0",
            "_view_count": null,
            "flex_flow": null,
            "width": null,
            "min_width": null,
            "border": null,
            "align_items": null,
            "bottom": null,
            "_model_module": "@jupyter-widgets/base",
            "top": null,
            "grid_column": null,
            "overflow_y": null,
            "overflow_x": null,
            "grid_auto_flow": null,
            "grid_area": null,
            "grid_template_columns": null,
            "flex": null,
            "_model_name": "LayoutModel",
            "justify_items": null,
            "grid_row": null,
            "max_height": null,
            "align_content": null,
            "visibility": null,
            "align_self": null,
            "height": null,
            "min_height": null,
            "padding": null,
            "grid_auto_rows": null,
            "grid_gap": null,
            "max_width": null,
            "order": null,
            "_view_module_version": "1.2.0",
            "grid_template_areas": null,
            "object_position": null,
            "object_fit": null,
            "grid_auto_columns": null,
            "margin": null,
            "display": null,
            "left": null
          }
        },
        "1cf5a3ba4dec4723a9f5f8418cb1612d": {
          "model_module": "@jupyter-widgets/controls",
          "model_name": "IntSliderModel",
          "model_module_version": "1.5.0",
          "state": {
            "_view_name": "IntSliderView",
            "style": "IPY_MODEL_bf6c13062c114c07a1175846a3acaa9b",
            "_dom_classes": [],
            "description": "degree",
            "step": 1,
            "_model_name": "IntSliderModel",
            "orientation": "horizontal",
            "max": 17,
            "_view_module": "@jupyter-widgets/controls",
            "_model_module_version": "1.5.0",
            "value": 4,
            "_view_count": null,
            "disabled": false,
            "_view_module_version": "1.5.0",
            "min": 1,
            "continuous_update": true,
            "readout_format": "d",
            "description_tooltip": null,
            "readout": true,
            "_model_module": "@jupyter-widgets/controls",
            "layout": "IPY_MODEL_de11265fe9cc4062a1db151e912e64ff"
          }
        },
        "3539a0651f774da28f5e834b71966777": {
          "model_module": "@jupyter-widgets/output",
          "model_name": "OutputModel",
          "model_module_version": "1.0.0",
          "state": {
            "_view_name": "OutputView",
            "msg_id": "",
            "_dom_classes": [],
            "_model_name": "OutputModel",
            "outputs": [
              {
                "output_type": "stream",
                "metadata": {
                  "tags": []
                },
                "text": "The polynomial degree is 4.\n",
                "stream": "stdout"
              },
              {
                "output_type": "display_data",
                "metadata": {
                  "tags": [],
                  "needs_background": "light"
                },
                "image/png": "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\n",
                "text/plain": "<Figure size 432x288 with 1 Axes>"
              }
            ],
            "_view_module": "@jupyter-widgets/output",
            "_model_module_version": "1.0.0",
            "_view_count": null,
            "_view_module_version": "1.0.0",
            "layout": "IPY_MODEL_8084c119461040c3bcd8542dae7aab37",
            "_model_module": "@jupyter-widgets/output"
          }
        },
        "bf6c13062c114c07a1175846a3acaa9b": {
          "model_module": "@jupyter-widgets/controls",
          "model_name": "SliderStyleModel",
          "model_module_version": "1.5.0",
          "state": {
            "_view_name": "StyleView",
            "handle_color": null,
            "_model_name": "SliderStyleModel",
            "description_width": "",
            "_view_module": "@jupyter-widgets/base",
            "_model_module_version": "1.5.0",
            "_view_count": null,
            "_view_module_version": "1.2.0",
            "_model_module": "@jupyter-widgets/controls"
          }
        },
        "de11265fe9cc4062a1db151e912e64ff": {
          "model_module": "@jupyter-widgets/base",
          "model_name": "LayoutModel",
          "model_module_version": "1.2.0",
          "state": {
            "_view_name": "LayoutView",
            "grid_template_rows": null,
            "right": null,
            "justify_content": null,
            "_view_module": "@jupyter-widgets/base",
            "overflow": null,
            "_model_module_version": "1.2.0",
            "_view_count": null,
            "flex_flow": null,
            "width": null,
            "min_width": null,
            "border": null,
            "align_items": null,
            "bottom": null,
            "_model_module": "@jupyter-widgets/base",
            "top": null,
            "grid_column": null,
            "overflow_y": null,
            "overflow_x": null,
            "grid_auto_flow": null,
            "grid_area": null,
            "grid_template_columns": null,
            "flex": null,
            "_model_name": "LayoutModel",
            "justify_items": null,
            "grid_row": null,
            "max_height": null,
            "align_content": null,
            "visibility": null,
            "align_self": null,
            "height": null,
            "min_height": null,
            "padding": null,
            "grid_auto_rows": null,
            "grid_gap": null,
            "max_width": null,
            "order": null,
            "_view_module_version": "1.2.0",
            "grid_template_areas": null,
            "object_position": null,
            "object_fit": null,
            "grid_auto_columns": null,
            "margin": null,
            "display": null,
            "left": null
          }
        },
        "8084c119461040c3bcd8542dae7aab37": {
          "model_module": "@jupyter-widgets/base",
          "model_name": "LayoutModel",
          "model_module_version": "1.2.0",
          "state": {
            "_view_name": "LayoutView",
            "grid_template_rows": null,
            "right": null,
            "justify_content": null,
            "_view_module": "@jupyter-widgets/base",
            "overflow": null,
            "_model_module_version": "1.2.0",
            "_view_count": null,
            "flex_flow": null,
            "width": null,
            "min_width": null,
            "border": null,
            "align_items": null,
            "bottom": null,
            "_model_module": "@jupyter-widgets/base",
            "top": null,
            "grid_column": null,
            "overflow_y": null,
            "overflow_x": null,
            "grid_auto_flow": null,
            "grid_area": null,
            "grid_template_columns": null,
            "flex": null,
            "_model_name": "LayoutModel",
            "justify_items": null,
            "grid_row": null,
            "max_height": null,
            "align_content": null,
            "visibility": null,
            "align_self": null,
            "height": null,
            "min_height": null,
            "padding": null,
            "grid_auto_rows": null,
            "grid_gap": null,
            "max_width": null,
            "order": null,
            "_view_module_version": "1.2.0",
            "grid_template_areas": null,
            "object_position": null,
            "object_fit": null,
            "grid_auto_columns": null,
            "margin": null,
            "display": null,
            "left": null
          }
        }
      }
    }
  },
  "cells": [
    {
      "cell_type": "markdown",
      "metadata": {
        "id": "view-in-github",
        "colab_type": "text"
      },
      "source": [
        "<a href=\"https://colab.research.google.com/github/rogerthatrob/Practice/blob/master/AI_Bootcamp_LinearRegression.ipynb\" target=\"_parent\"><img src=\"https://colab.research.google.com/assets/colab-badge.svg\" alt=\"Open In Colab\"/></a>"
      ]
    },
    {
      "cell_type": "markdown",
      "metadata": {
        "deletable": true,
        "editable": true,
        "id": "Hm2uIBqIg6pe"
      },
      "source": [
        "# Linear Regression Example\n",
        "\n",
        "<!--BOOK_INFORMATION-->\n",
        "<img align=\"left\" style=\"padding-right:10px;\" src=\"https://github.com/jakevdp/PythonDataScienceHandbook/blob/master/notebooks/figures/PDSH-cover-small.png?raw=1\">\n",
        "\n",
        "*This notebook is based on the [Python Data Science Handbook](http://shop.oreilly.com/product/0636920034919.do) by Jake VanderPlas; the content is available [on GitHub](https://github.com/jakevdp/PythonDataScienceHandbook).*"
      ]
    },
    {
      "cell_type": "markdown",
      "metadata": {
        "id": "sBurUI42So0K"
      },
      "source": [
        "## About Colabs\n",
        "\n",
        "This example uses Colaboratories (**Colabs**). Colab is Google's implementation of [Jupyter Notebook](https://jupyter.org/). Like all Jupyter Notebooks, a Colab consists of two kinds of components:\n",
        "\n",
        "  * **Text cells**, which contain explanations. You are currently reading a text cell.\n",
        "  * **Code cells**, which contain Python code for you to run. Code cells have a light gray background.\n",
        "\n",
        "You *read* the text cells and *run* the code cells."
      ]
    },
    {
      "cell_type": "markdown",
      "metadata": {
        "id": "oqNz3YfzS3AU"
      },
      "source": [
        "### Running code cells\n",
        "\n",
        "You must run code cells in order. In other words, you may only run a code cell once all the code cells preceding it have already been run. \n",
        "\n",
        "To run a code cell:\n",
        "\n",
        "  1. Place the cursor anywhere inside the [ ] area at the top left of a code cell. The area inside the [ ] will display an arrow.\n",
        "  2. Click the arrow.\n",
        "\n",
        "Alternatively, you may invoke **Runtime->Run all**. Note, though, that some of the code cells will fail because not all the coding is complete. (You'll complete the coding as part of the exercise.)"
      ]
    },
    {
      "cell_type": "markdown",
      "metadata": {
        "id": "BUff_coBS7x4"
      },
      "source": [
        "### Why did you see an error?\n",
        "\n",
        "If a code cell returns an error when you run it, consider two common problems:\n",
        "\n",
        "  * You didn't run *all* of the code cells preceding the current code cell.\n",
        "  * If the code cell is labeled as a **Task**, then you haven't written the necessary code. "
      ]
    },
    {
      "cell_type": "markdown",
      "metadata": {
        "id": "m983dsBCg6ph"
      },
      "source": [
        "# Linear Regression"
      ]
    },
    {
      "cell_type": "markdown",
      "metadata": {
        "deletable": true,
        "editable": true,
        "id": "gMW4AIXug6ph"
      },
      "source": [
        "Linear regression models are a good starting point for regression tasks.\n",
        "Such models are popular because they can be fit very quickly, and are very interpretable.\n",
        "You are probably familiar with the simplest form of a linear regression model (i.e., fitting a straight line to data) but such models can be extended to model more complicated data behavior.\n",
        "\n",
        "In this notebook we will start with a quick intuitive walk-through of the mathematics behind this well-known problem, before seeing how before moving on to see how linear models can be generalized to account for more complicated patterns in data.\n",
        "\n",
        "We begin with the standard imports:"
      ]
    },
    {
      "cell_type": "code",
      "metadata": {
        "deletable": true,
        "editable": true,
        "id": "nNlfUu9Dg6pi"
      },
      "source": [
        "%matplotlib inline\n",
        "import matplotlib.pyplot as plt\n",
        "import seaborn as sns; sns.set()\n",
        "import numpy as np"
      ],
      "execution_count": null,
      "outputs": []
    },
    {
      "cell_type": "markdown",
      "metadata": {
        "deletable": true,
        "editable": true,
        "id": "W7rptsxXg6pv"
      },
      "source": [
        "## Simple Linear Regression\n",
        "\n",
        "We will start with the most familiar linear regression, a straight-line fit to data.\n",
        "A straight-line fit is a model of the form\n",
        "$$\n",
        "y = ax + b\n",
        "$$\n",
        "where $a$ is commonly known as the *slope*, and $b$ is commonly known as the *intercept*.\n",
        "\n",
        "Consider the following data, which is scattered about a line with a slope of 2 and an intercept of -5:"
      ]
    },
    {
      "cell_type": "code",
      "metadata": {
        "deletable": true,
        "editable": true,
        "id": "Nm_793Gkg6pv",
        "colab": {
          "base_uri": "https://localhost:8080/",
          "height": 268
        },
        "outputId": "065c552c-9f70-4b7c-faa7-6a28fcf41afd"
      },
      "source": [
        "rng = np.random.RandomState(1)\n",
        "x = 10 * rng.rand(50)\n",
        "y = 2 * x - 5 + rng.randn(50)\n",
        "plt.scatter(x, y);"
      ],
      "execution_count": null,
      "outputs": [
        {
          "output_type": "display_data",
          "data": {
            "image/png": "[encoded data removed]",
            "text/plain": [
              "<Figure size 432x288 with 1 Axes>"
            ]
          },
          "metadata": {
            "tags": [],
            "needs_background": "light"
          }
        }
      ]
    },
    {
      "cell_type": "markdown",
      "metadata": {
        "deletable": true,
        "editable": true,
        "id": "2sQlKteUg6pz"
      },
      "source": [
        "We can use Scikit-Learn's ``LinearRegression`` estimator to fit this data and construct the best-fit line:"
      ]
    },
    {
      "cell_type": "code",
      "metadata": {
        "deletable": true,
        "editable": true,
        "id": "-jeV9vdFg6p3",
        "colab": {
          "base_uri": "https://localhost:8080/",
          "height": 268
        },
        "outputId": "56914bc9-eab0-4a9e-8b3d-461624fd4e9d"
      },
      "source": [
        "from sklearn.linear_model import LinearRegression\n",
        "model = LinearRegression(fit_intercept=True)\n",
        "\n",
        "model.fit(x[:, np.newaxis], y)\n",
        "\n",
        "xfit = np.linspace(0, 10, 1000)\n",
        "yfit = model.predict(xfit[:, np.newaxis])\n",
        "\n",
        "plt.scatter(x, y)\n",
        "plt.plot(xfit, yfit);"
      ],
      "execution_count": null,
      "outputs": [
        {
          "output_type": "display_data",
          "data": {
            "image/png": "[encoded data removed]",
            "text/plain": [
              "<Figure size 432x288 with 1 Axes>"
            ]
          },
          "metadata": {
            "tags": [],
            "needs_background": "light"
          }
        }
      ]
    },
    {
      "cell_type": "markdown",
      "metadata": {
        "deletable": true,
        "editable": true,
        "id": "HAJjsEf-g6p6"
      },
      "source": [
        "The slope and intercept of the data are contained in the model's fit parameters, which in Scikit-Learn are always marked by a trailing underscore.\n",
        "Here the relevant parameters are ``coef_`` and ``intercept_``:"
      ]
    },
    {
      "cell_type": "code",
      "metadata": {
        "deletable": true,
        "editable": true,
        "id": "rsxD3MKRg6p7",
        "colab": {
          "base_uri": "https://localhost:8080/"
        },
        "outputId": "74296612-17ea-446e-8cb1-b1adc3a36cc9"
      },
      "source": [
        "print(\"Model slope:    \", model.coef_[0])\n",
        "print(\"Model intercept:\", model.intercept_)"
      ],
      "execution_count": null,
      "outputs": [
        {
          "output_type": "stream",
          "text": [
            "Model slope:     2.0272088103606953\n",
            "Model intercept: -4.998577085553204\n"
          ],
          "name": "stdout"
        }
      ]
    },
    {
      "cell_type": "markdown",
      "metadata": {
        "deletable": true,
        "editable": true,
        "id": "rJPbeEUNg6p_"
      },
      "source": [
        "We see that the results are very close to the inputs, as we might hope."
      ]
    },
    {
      "cell_type": "markdown",
      "metadata": {
        "deletable": true,
        "editable": true,
        "id": "odYnnx4Vg6p_"
      },
      "source": [
        "The ``LinearRegression`` estimator is much more capable than this, however—in addition to simple straight-line fits, it can also handle multidimensional linear models of the form\n",
        "$$\n",
        "y = a_0 + a_1 x_1 + a_2 x_2 + \\cdots\n",
        "$$\n",
        "where there are multiple $x$ values.\n",
        "Geometrically, this is akin to fitting a plane to points in three dimensions, or fitting a hyper-plane to points in higher dimensions.\n",
        "\n",
        "The multidimensional nature of such regressions makes them more difficult to visualize, but we can see one of these fits in action by building some example data, using NumPy's matrix multiplication operator:"
      ]
    },
    {
      "cell_type": "code",
      "metadata": {
        "deletable": true,
        "editable": true,
        "id": "bbkwCLJ5g6qA",
        "colab": {
          "base_uri": "https://localhost:8080/"
        },
        "outputId": "e235058d-0249-411c-d8b4-c381fc183d90"
      },
      "source": [
        "rng = np.random.RandomState(1)\n",
        "X = 10 * rng.rand(100, 3)\n",
        "y = 0.5 + np.dot(X, [1.5, -2., 1.])\n",
        "\n",
        "model.fit(X, y)\n",
        "print(model.intercept_)\n",
        "print(model.coef_)"
      ],
      "execution_count": null,
      "outputs": [
        {
          "output_type": "stream",
          "text": [
            "0.5000000000000051\n",
            "[ 1.5 -2.   1. ]\n"
          ],
          "name": "stdout"
        }
      ]
    },
    {
      "cell_type": "markdown",
      "metadata": {
        "deletable": true,
        "editable": true,
        "id": "nrYWs6S_g6qH"
      },
      "source": [
        "Here the $y$ data is constructed from three random $x$ values, and the linear regression recovers the coefficients used to construct the data.\n",
        "\n",
        "In this way, we can use the single ``LinearRegression`` estimator to fit lines, planes, or hyperplanes to our data.\n",
        "It still appears that this approach would be limited to strictly linear relationships between variables, but it turns out we can relax this as well."
      ]
    },
    {
      "cell_type": "markdown",
      "metadata": {
        "deletable": true,
        "editable": true,
        "id": "_2kI_fwCg6qJ"
      },
      "source": [
        "## Basis Function Regression\n",
        "\n",
        "One trick you can use to adapt linear regression to nonlinear relationships between variables is to transform the data according to *basis functions*.\n",
        "\n",
        "The idea is to take our multidimensional linear model:\n",
        "$$\n",
        "y = a_0 + a_1 x_1 + a_2 x_2 + a_3 x_3 + \\cdots\n",
        "$$\n",
        "and build the $x_1, x_2, x_3,$ and so on, from our single-dimensional input $x$.\n",
        "That is, we let $x_n = f_n(x)$, where $f_n()$ is some function that transforms our data.\n",
        "\n",
        "For example, if $f_n(x) = x^n$, our model becomes a polynomial regression:\n",
        "$$\n",
        "y = a_0 + a_1 x + a_2 x^2 + a_3 x^3 + \\cdots\n",
        "$$\n",
        "Notice that this is *still a linear model*—the linearity refers to the fact that the coefficients $a_n$ never multiply or divide each other.\n",
        "What we have effectively done is taken our one-dimensional $x$ values and projected them into a higher dimension, so that a linear fit can fit more complicated relationships between $x$ and $y$."
      ]
    },
    {
      "cell_type": "markdown",
      "metadata": {
        "deletable": true,
        "editable": true,
        "id": "VXN2VnVJg6qN"
      },
      "source": [
        "### Polynomial basis functions\n",
        "\n",
        "This polynomial projection is useful enough that it is built into Scikit-Learn, using the ``PolynomialFeatures`` transformer:"
      ]
    },
    {
      "cell_type": "code",
      "metadata": {
        "deletable": true,
        "editable": true,
        "id": "TDacOS6Sg6qO",
        "colab": {
          "base_uri": "https://localhost:8080/"
        },
        "outputId": "021123ed-43e6-422b-db73-a430c8fd9b9e"
      },
      "source": [
        "from sklearn.preprocessing import PolynomialFeatures\n",
        "x = np.array([2, 3, 4])\n",
        "poly = PolynomialFeatures(3, include_bias=False)\n",
        "poly.fit_transform(x[:, None])"
      ],
      "execution_count": null,
      "outputs": [
        {
          "output_type": "execute_result",
          "data": {
            "text/plain": [
              "array([[ 2.,  4.,  8.],\n",
              "       [ 3.,  9., 27.],\n",
              "       [ 4., 16., 64.]])"
            ]
          },
          "metadata": {
            "tags": []
          },
          "execution_count": 6
        }
      ]
    },
    {
      "cell_type": "markdown",
      "metadata": {
        "deletable": true,
        "editable": true,
        "id": "D3jGCvtwg6qT"
      },
      "source": [
        "We see here that the transformer has converted our one-dimensional array into a three-dimensional array by taking the exponent of each value.\n",
        "This new, higher-dimensional data representation can then be plugged into a linear regression.\n",
        "\n",
        "As we saw in [Feature Engineering](05.04-Feature-Engineering.ipynb), the cleanest way to accomplish this is to use a pipeline.\n",
        "Let's make a 7th-degree polynomial model in this way:"
      ]
    },
    {
      "cell_type": "code",
      "metadata": {
        "deletable": true,
        "editable": true,
        "id": "_CPDLU0Og6qT"
      },
      "source": [
        "from sklearn.pipeline import make_pipeline\n",
        "poly_model = make_pipeline(PolynomialFeatures(7),\n",
        "                           LinearRegression())"
      ],
      "execution_count": null,
      "outputs": []
    },
    {
      "cell_type": "markdown",
      "metadata": {
        "deletable": true,
        "editable": true,
        "id": "79tdzlSpg6qW"
      },
      "source": [
        "With this transform in place, we can use the linear model to fit much more complicated relationships between $x$ and $y$. \n",
        "For example, here is a sine wave with noise:"
      ]
    },
    {
      "cell_type": "code",
      "metadata": {
        "deletable": true,
        "editable": true,
        "id": "UroBn1Bdg6qX",
        "colab": {
          "base_uri": "https://localhost:8080/",
          "height": 268
        },
        "outputId": "76128dbb-c141-4c66-909f-fddda0962804"
      },
      "source": [
        "rng = np.random.RandomState(1)\n",
        "x = 10 * rng.rand(50)\n",
        "y = np.sin(x) + 0.1 * rng.randn(50)\n",
        "\n",
        "poly_model.fit(x[:, np.newaxis], y)\n",
        "yfit = poly_model.predict(xfit[:, np.newaxis])\n",
        "\n",
        "plt.scatter(x, y)\n",
        "plt.plot(xfit, yfit);"
      ],
      "execution_count": null,
      "outputs": [
        {
          "output_type": "display_data",
          "data": {
            "image/png": "[encoded data removed]",
            "text/plain": [
              "<Figure size 432x288 with 1 Axes>"
            ]
          },
          "metadata": {
            "tags": [],
            "needs_background": "light"
          }
        }
      ]
    },
    {
      "cell_type": "markdown",
      "metadata": {
        "deletable": true,
        "editable": true,
        "id": "TE8zmo-ig6qe"
      },
      "source": [
        "Our linear model, through the use of 7th-order polynomial basis functions, can provide an excellent fit to this non-linear data!"
      ]
    },
    {
      "cell_type": "markdown",
      "metadata": {
        "id": "HTeJfZZ7Pgfn"
      },
      "source": [
        "##Bonus\n",
        "The final piece of code below (not found in vanderPlas' book/code) is a simple interactive widget to help you understand (and play with) the impact of the degree of the polynomial on the actual result.\n"
      ]
    },
    {
      "cell_type": "code",
      "metadata": {
        "id": "CHSJXBWeniQY"
      },
      "source": [
        "import ipywidgets as widgets\n",
        "from ipywidgets import interact, interact_manual"
      ],
      "execution_count": null,
      "outputs": []
    },
    {
      "cell_type": "code",
      "metadata": {
        "id": "aSn3aJKxn86S",
        "colab": {
          "base_uri": "https://localhost:8080/",
          "height": 317,
          "referenced_widgets": [
            "69924f22d7c0425c9f6a7d721930a7de",
            "3985e90078a5482590e616ebc8da98bb",
            "1cf5a3ba4dec4723a9f5f8418cb1612d",
            "3539a0651f774da28f5e834b71966777",
            "bf6c13062c114c07a1175846a3acaa9b",
            "de11265fe9cc4062a1db151e912e64ff",
            "8084c119461040c3bcd8542dae7aab37"
          ]
        },
        "outputId": "c4907d79-e8a6-443b-c579-4e7a9861a673"
      },
      "source": [
        "rng = np.random.RandomState(1)\n",
        "x = 10 * rng.rand(50)\n",
        "y = np.sin(x) + 0.1 * rng.randn(50)\n",
        "\n",
        "# use interact decorator \n",
        "@interact(degree=(1, 17))\n",
        "def interactive_polynomial_regression(degree):\n",
        "  poly_model = make_pipeline(PolynomialFeatures(degree),\n",
        "                           LinearRegression())\n",
        "  poly_model.fit(x[:, np.newaxis], y)\n",
        "  yfit = poly_model.predict(xfit[:, np.newaxis])\n",
        "  plt.scatter(x, y)\n",
        "  plt.plot(xfit, yfit);\n",
        "  print(\"The polynomial degree is %d.\" % (degree))"
      ],
      "execution_count": null,
      "outputs": [
        {
          "output_type": "display_data",
          "data": {
            "application/vnd.jupyter.widget-view+json": {
              "model_id": "69924f22d7c0425c9f6a7d721930a7de",
              "version_minor": 0,
              "version_major": 2
            },
            "text/plain": [
              "interactive(children=(IntSlider(value=9, description='degree', max=17, min=1), Output()), _dom_classes=('widge…"
            ]
          },
          "metadata": {
            "tags": []
          }
        }
      ]
    }
  ]
}