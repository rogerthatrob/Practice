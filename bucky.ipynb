{
 "metadata": {
  "language_info": {
   "codemirror_mode": {
    "name": "ipython",
    "version": 3
   },
   "file_extension": ".py",
   "mimetype": "text/x-python",
   "name": "python",
   "nbconvert_exporter": "python",
   "pygments_lexer": "ipython3",
   "version": "3.8.5-final"
  },
  "orig_nbformat": 2,
  "kernelspec": {
   "name": "Python 3.8.5 64-bit",
   "display_name": "Python 3.8.5 64-bit",
   "metadata": {
    "interpreter": {
     "hash": "aee8b7b246df8f9039afb4144a1f6fd8d2ca17a180786b69acc140d282b71a49"
    }
   }
  }
 },
 "nbformat": 4,
 "nbformat_minor": 2,
 "cells": [
  {
   "cell_type": "markdown",
   "metadata": {},
   "source": [
    "# 11- guess the magic number"
   ]
  },
  {
   "cell_type": "code",
   "execution_count": 56,
   "metadata": {
    "tags": []
   },
   "outputs": [
    {
     "output_type": "stream",
     "name": "stdout",
     "text": "num guessed 0 is divis by 4\n0 is not the magic number, try again\n1 is not the magic number, try again\n2 is not the magic number, try again\n3 is not the magic number, try again\nnum guessed 4 is divis by 4\n4 is not the magic number, try again\n5 is not the magic number, try again\n6 is not the magic number, try again\n7 is not the magic number, try again\nnum guessed 8 is divis by 4\n8 is not the magic number, try again\n9 is not the magic number, try again\n10 is not the magic number, try again\n11 is not the magic number, try again\nnum guessed 12 is divis by 4\n12 is not the magic number, try again\n13 is not the magic number, try again\n14 is not the magic number, try again\n15 is not the magic number, try again\nnum guessed 16 is divis by 4\n16 is not the magic number, try again\n17 is not the magic number, try again\n18 is not the magic number, try again\n19 is not the magic number, try again\nnum guessed 20 is divis by 4\n20 is not the magic number, try again\n21 is not the magic number, try again\n22 is not the magic number, try again\n23 is not the magic number, try again\nnum guessed 24 is divis by 4\n24 is not the magic number, try again\n25 is not the magic number, try again\nfound number that is magic 26\n"
    }
   ],
   "source": [
    "magicNumber = 26\n",
    "\n",
    "for n in range(101):\n",
    "    if n is magicNumber:\n",
    "        print(\"found number that is magic\" , n)\n",
    "        break \n",
    "    else:\n",
    "        if n % 4 == 0:\n",
    "            print(\"num guessed\", n, \"is divis by 4\")\n",
    "        print(n, \"is not the magic number, try again\")"
   ]
  },
  {
   "cell_type": "markdown",
   "metadata": {},
   "source": [
    "# 12 - functions\n"
   ]
  },
  {
   "cell_type": "code",
   "execution_count": 19,
   "metadata": {
    "tags": []
   },
   "outputs": [
    {
     "output_type": "stream",
     "name": "stdout",
     "text": "fuctions are cool!\n$ 43893.85\n"
    }
   ],
   "source": [
    "def beef():\n",
    "    print(\"fuctions are cool!\")\n",
    "\n",
    "def bitcoin_to_usd(btc):\n",
    "    amount = btc * 11401 # 8-3-20\n",
    "    print('$', amount) #need to concate to remove space\n",
    "\n",
    "beef()\n",
    "bitcoin_to_usd(3.85)    "
   ]
  },
  {
   "cell_type": "markdown",
   "metadata": {},
   "source": [
    "# 13 - return values"
   ]
  },
  {
   "cell_type": "code",
   "execution_count": 54,
   "metadata": {
    "tags": []
   },
   "outputs": [
    {
     "output_type": "stream",
     "name": "stdout",
     "text": "you are not over 21, wait another 11 years\n"
    }
   ],
   "source": [
    "\n",
    "def GetAge(my_age):\n",
    "    drinking_age = my_age - 21\n",
    "    return drinking_age\n",
    "\n",
    "def AllowedToDrink(yearsOver):\n",
    "    if yearsOver >= 0:\n",
    "        print(\"you are\", yearsOver, 'years over 21')\n",
    "    else:\n",
    "        yearsToWait = yearsOver * -1\n",
    "        print('you are not over 21, wait another', yearsToWait, 'years')        \n",
    "\n",
    "yearsOver = GetAge(10)\n",
    "\n",
    "AllowedToDrink(yearsOver)\n",
    "\n",
    "\n",
    "    "
   ]
  },
  {
   "cell_type": "markdown",
   "metadata": {},
   "source": [
    "# 14 - default values for aruguments"
   ]
  },
  {
   "cell_type": "code",
   "execution_count": 3,
   "metadata": {
    "tags": []
   },
   "outputs": [
    {
     "output_type": "stream",
     "name": "stdout",
     "text": "number is less than 5\n"
    }
   ],
   "source": [
    "def getValue(x = 0): #when no argument is passed it, program will us the default\n",
    "    if x == 0:\n",
    "        print('add value between 1 and 10')\n",
    "    elif x >= 5:\n",
    "        print('your number is greater than or equal to 5')\n",
    "    elif x < 5:\n",
    "        print('number is less than 5')\n",
    "\n",
    "getValue(1)"
   ]
  },
  {
   "cell_type": "markdown",
   "metadata": {},
   "source": [
    "# 15 - variable scope\n",
    "- when ever a variable is created inside a function, can only use it in that function. \n",
    "- the placement of the variable decides where it can be accessed\n"
   ]
  },
  {
   "cell_type": "markdown",
   "metadata": {},
   "source": [
    "# 16 - keyword arguments"
   ]
  },
  {
   "cell_type": "code",
   "execution_count": 10,
   "metadata": {
    "tags": []
   },
   "outputs": [
    {
     "output_type": "stream",
     "name": "stdout",
     "text": "bucky ate tuna\nrob grabbed armor\nbucky jumped tuna\n"
    }
   ],
   "source": [
    "def dumbSentence(name = 'bucky', action = 'ate', item = 'tuna' ):\n",
    "    print(name, action, item)\n",
    "\n",
    "dumbSentence()\n",
    "dumbSentence('rob', 'grabbed', 'armor')\n",
    "dumbSentence(action = 'jumped')"
   ]
  },
  {
   "cell_type": "markdown",
   "metadata": {},
   "source": [
    "# 17 - flexible number of arguments"
   ]
  },
  {
   "cell_type": "code",
   "execution_count": 9,
   "metadata": {
    "tags": []
   },
   "outputs": [
    {
     "output_type": "stream",
     "name": "stdout",
     "text": "3\n3691\n"
    }
   ],
   "source": [
    "def addNumbers(*args): #use when don't know how many arguments will be needed\n",
    "    total = 0\n",
    "    for a in args:\n",
    "        total += a\n",
    "    print(total)\n",
    "\n",
    "addNumbers(3)\n",
    "addNumbers(3,32,323,3333)\n",
    "\n",
    "    "
   ]
  },
  {
   "cell_type": "markdown",
   "metadata": {},
   "source": [
    "# 18 - unpacking arguments\n"
   ]
  },
  {
   "cell_type": "code",
   "execution_count": 11,
   "metadata": {
    "tags": []
   },
   "outputs": [
    {
     "output_type": "stream",
     "name": "stdout",
     "text": "105.0\n"
    }
   ],
   "source": [
    "def healthCalculator(age, apples, smoked):\n",
    "    answer = (100 - age) + (apples * 3.5) - (smoked * 2)\n",
    "    print(answer)\n",
    "\n",
    "data = [30, 10, 0]\n",
    "\n",
    "healthCalculator(*data)"
   ]
  },
  {
   "cell_type": "markdown",
   "metadata": {},
   "source": [
    "# 19 - sets"
   ]
  },
  {
   "cell_type": "code",
   "execution_count": null,
   "metadata": {},
   "outputs": [],
   "source": [
    "def"
   ]
  },
  {
   "cell_type": "markdown",
   "metadata": {},
   "source": [
    "### 20 - dictionary\n",
    "- dictName = {'key':'value','key2':'value'}\n",
    "    - each key:value is seperated by comma\n",
    "- loops through each k (key) and v (value) in the classmates dictionary and for each item in the dictionary is printed each key and each value"
   ]
  },
  {
   "cell_type": "code",
   "execution_count": 15,
   "metadata": {
    "tags": []
   },
   "outputs": [
    {
     "output_type": "stream",
     "name": "stdout",
     "text": "tony cool but smells\nsteve stands too much\nrod too smart\n"
    }
   ],
   "source": [
    "classmates = {'tony ':'cool but smells', 'steve ':'stands too much', 'rod ':'too smart'}\n",
    "\n",
    "# print(classmates)\n",
    "# print(classmates['emma'])\n",
    "\n",
    "for k, v, in classmates.items():  #k is the key, v is the value\n",
    "    print(k + v)"
   ]
  },
  {
   "cell_type": "markdown",
   "metadata": {},
   "source": [
    "# 21 - modules"
   ]
  },
  {
   "cell_type": "code",
   "execution_count": 2,
   "metadata": {},
   "outputs": [],
   "source": [
    "#function in another file, create a seperate file\n",
    "#tuna.py\n",
    "def fish():\n",
    "    print(\"tuna fish\")\n"
   ]
  },
  {
   "cell_type": "code",
   "execution_count": 4,
   "metadata": {},
   "outputs": [
    {
     "output_type": "error",
     "ename": "ModuleNotFoundError",
     "evalue": "No module named 'tuna'",
     "traceback": [
      "\u001b[0;31m---------------------------------------------------------------------------\u001b[0m",
      "\u001b[0;31mModuleNotFoundError\u001b[0m                       Traceback (most recent call last)",
      "\u001b[0;32m<ipython-input-4-b3021426bbdf>\u001b[0m in \u001b[0;36m<module>\u001b[0;34m\u001b[0m\n\u001b[1;32m      1\u001b[0m \u001b[0;31m#in seperate main file\u001b[0m\u001b[0;34m\u001b[0m\u001b[0;34m\u001b[0m\u001b[0;34m\u001b[0m\u001b[0m\n\u001b[0;32m----> 2\u001b[0;31m \u001b[0;32mimport\u001b[0m \u001b[0mtuna\u001b[0m\u001b[0;34m\u001b[0m\u001b[0;34m\u001b[0m\u001b[0m\n\u001b[0m\u001b[1;32m      3\u001b[0m \u001b[0;32mimport\u001b[0m \u001b[0mrandom\u001b[0m\u001b[0;34m\u001b[0m\u001b[0;34m\u001b[0m\u001b[0m\n\u001b[1;32m      4\u001b[0m \u001b[0;34m\u001b[0m\u001b[0m\n\u001b[1;32m      5\u001b[0m \u001b[0mtuna\u001b[0m\u001b[0;34m.\u001b[0m\u001b[0mfish\u001b[0m\u001b[0;34m(\u001b[0m\u001b[0;34m)\u001b[0m \u001b[0;31m#goes into tuna module and finds the fish function\u001b[0m\u001b[0;34m\u001b[0m\u001b[0;34m\u001b[0m\u001b[0m\n",
      "\u001b[0;31mModuleNotFoundError\u001b[0m: No module named 'tuna'"
     ]
    }
   ],
   "source": [
    "#in seperate main file\n",
    "import tuna #call module 'tuna' once called, can access functions inside of it. \n",
    "import random #called random module, now can access functinos inside of random\n",
    "\n",
    "tuna.fish() #goes into tuna module and finds the fish function\n",
    "\n",
    "x = random.randrange(1,1000) #called the 'random' module and accessesing the 'randrange()' function inside of 'random'\n",
    "print(x)\n",
    "\n"
   ]
  },
  {
   "source": [
    "## 28 - You are the only Exception\n",
    "- try and except \n",
    "- just having the except on the end of the try will hide errors in code\n",
    "- fianlly will excecute every single time where as except will only run in the case of an error"
   ],
   "cell_type": "markdown",
   "metadata": {}
  },
  {
   "cell_type": "code",
   "execution_count": 4,
   "metadata": {},
   "outputs": [
    {
     "output_type": "stream",
     "name": "stdout",
     "text": [
      "enter number > 0\n",
      "loop complete\n",
      "enter number > 0\n",
      "loop complete\n",
      "18.0\n",
      "loop complete\n"
     ]
    }
   ],
   "source": [
    "while True:\n",
    "    try:\n",
    "        number = int(input('enert a number: \\n'))\n",
    "        print(18/number)\n",
    "        break\n",
    "    except ValueError:\n",
    "        print(\" enter a number \")\n",
    "    except ZeroDivisionError:\n",
    "        print('enter number > 0')\n",
    "    except: \n",
    "        break\n",
    "    finally:\n",
    "        print('loop complete')\n",
    "\n"
   ]
  },
  {
   "source": [
    "# 29 - Objects and Classes\n",
    "\n",
    "- Line 8: always want to check life to be less than or equal to 0 \n",
    "    bc can have negative life, say life is 3 with a 5 attack, now life is -2. "
   ],
   "cell_type": "markdown",
   "metadata": {}
  },
  {
   "cell_type": "code",
   "execution_count": 10,
   "metadata": {
    "tags": []
   },
   "outputs": [
    {
     "output_type": "stream",
     "name": "stdout",
     "text": "ouch\nouch\n1life left\n3life left\n"
    }
   ],
   "source": [
    "# 29 - Objects and Classes\n",
    "class Enenmy:\n",
    "    life = 3\n",
    "\n",
    "    def attack(self):\n",
    "        print(\"ouch\")\n",
    "        self.life -= 1 \n",
    "    def checkLife(self):\n",
    "        if self.life <= 0:\n",
    "            print('im dead')\n",
    "        else:\n",
    "            print(str(self.life) + \"life left\")\n",
    "\n",
    "enemy1 = Enenmy()\n",
    "enemy2 = Enenmy()\n",
    "        \n",
    "enemy1.attack()\n",
    "enemy1.attack()\n",
    "enemy1.checkLife()\n",
    "enemy2.checkLife()"
   ]
  },
  {
   "source": [
    "# 30 - `__init__()` "
   ],
   "cell_type": "markdown",
   "metadata": {}
  },
  {
   "cell_type": "code",
   "execution_count": 18,
   "metadata": {
    "tags": []
   },
   "outputs": [
    {
     "output_type": "stream",
     "name": "stdout",
     "text": "5 7\n6 4\n"
    }
   ],
   "source": [
    "class Enemy:\n",
    "    def __init__(self, x, y):\n",
    "        self.engery = x\n",
    "        self.shield = y\n",
    "\n",
    "    def get_vitals(self):\n",
    "        print(self.engery, self.shield)\n",
    "\n",
    "jason = Enemy(5,7)\n",
    "sandy = Enemy(6,4)\n",
    "\n",
    "jason.get_vitals()\n",
    "sandy.get_vitals()\n",
    "\n",
    "\n",
    "\n",
    "\n"
   ]
  },
  {
   "source": [
    "# 32 - Inheritance"
   ],
   "cell_type": "markdown",
   "metadata": {}
  },
  {
   "cell_type": "code",
   "execution_count": 21,
   "metadata": {
    "tags": []
   },
   "outputs": [
    {
     "output_type": "stream",
     "name": "stdout",
     "text": "robert\nscott\nhaire\n"
    }
   ],
   "source": [
    "class Parent():\n",
    "    def last_name(self):\n",
    "        print(\"haire\")\n",
    "\n",
    "class Child(Parent):\n",
    "    def first_name(self):\n",
    "        print(\"robert\")\n",
    "    def last_name(self):\n",
    "        print(\"scott\")\n",
    "\n",
    "robert = Child()\n",
    "robert.first_name()\n",
    "robert.last_name()\n",
    "robert2 = Parent()\n",
    "robert2.last_name()"
   ]
  },
  {
   "cell_type": "code",
   "execution_count": null,
   "metadata": {},
   "outputs": [],
   "source": []
  }
 ]
}