{
 "metadata": {
  "language_info": {
   "codemirror_mode": {
    "name": "ipython",
    "version": 3
   },
   "file_extension": ".py",
   "mimetype": "text/x-python",
   "name": "python",
   "nbconvert_exporter": "python",
   "pygments_lexer": "ipython3",
   "version": "3.8.5"
  },
  "orig_nbformat": 2,
  "kernelspec": {
   "name": "python3",
   "display_name": "Python 3.8.5 64-bit ('base': conda)",
   "metadata": {
    "interpreter": {
     "hash": "79e03ed2b424222e5c01945d3ae1ed197b67ac98c4fa82900816c2c9caddeaae"
    }
   }
  }
 },
 "nbformat": 4,
 "nbformat_minor": 2,
 "cells": [
  {
   "source": [
    "# Python Tutorial\n"
   ],
   "cell_type": "markdown",
   "metadata": {}
  },
  {
   "cell_type": "code",
   "execution_count": 21,
   "metadata": {},
   "outputs": [
    {
     "output_type": "stream",
     "name": "stdout",
     "text": [
      "3\n2\n"
     ]
    }
   ],
   "source": [
    "a = 3\n",
    "b = 2\n",
    "print(a)\n",
    "print(b)\n",
    "c = \"string\" # strings are elements in the quationationfoidsnfkal"
   ]
  },
  {
   "cell_type": "code",
   "execution_count": 29,
   "metadata": {},
   "outputs": [
    {
     "output_type": "stream",
     "name": "stdout",
     "text": [
      "printing out a, b and c:  3 ,  2 ,  string\nthis is a: 3, and b: 2.\n"
     ]
    }
   ],
   "source": [
    "# print using commas\n",
    "# - commas are mote common in other languages\n",
    "print(\"printing out a, b and c: \", a, \", \", b, \", \", c)\n",
    "\n",
    "# print using .format()\n",
    "# - .format() might be more confusing for younger students\n",
    "print(\"this is a: {}, and b: {}.\".format(a,b))"
   ]
  },
  {
   "cell_type": "code",
   "execution_count": 22,
   "metadata": {},
   "outputs": [
    {
     "output_type": "stream",
     "name": "stdout",
     "text": [
      "b is larger\n"
     ]
    }
   ],
   "source": [
    "if a < b:\n",
    "    print(\"a is smaller\")\n",
    "else:\n",
    "    print(\"b is larger\")"
   ]
  },
  {
   "source": [
    "## creating a list \n",
    "- using the backpack metaphor\n",
    "- the backpack is used to store items"
   ],
   "cell_type": "markdown",
   "metadata": {}
  },
  {
   "cell_type": "code",
   "execution_count": null,
   "metadata": {},
   "outputs": [],
   "source": [
    "backpack = []\n",
    "backpack = ['string']\n",
    "animal = input(\"animal: \")\n",
    "backpack.append(animal)\n",
    "print(backpack)"
   ]
  },
  {
   "cell_type": "code",
   "execution_count": 24,
   "metadata": {},
   "outputs": [
    {
     "output_type": "stream",
     "name": "stdout",
     "text": [
      "found\n"
     ]
    }
   ],
   "source": [
    "for item in backpack:\n",
    "    if 'string' == item:\n",
    "        print(\"found\")"
   ]
  },
  {
   "source": [
    "## List\n",
    "#### Character Picture Grid using List\n",
    "- You can think of `grid[x][y]` as being the character at the x- and y-coordinates of a “picture” drawn with text characters. The (0, 0) origin will be in the upper-left corner, the x-coordinates increase going right, and w the y-coordinates increase going down."
   ],
   "cell_type": "markdown",
   "metadata": {}
  },
  {
   "source": [
    "## Functions\n",
    "#### def Statements with Parameters\n",
    "- [] create a def Statements that will pass Parameters into the def\n",
    "ex:\n",
    "\n",
    "```{python} \n",
    "def hello(name):\n",
    "    print('Hello ' + name)\n",
    "    \n",
    "hello('Alice') \n",
    "hello('Bob')\n",
    "```"
   ],
   "cell_type": "markdown",
   "metadata": {}
  },
  {
   "source": [
    "## Zork Game\n",
    "#### implent the following items into your Zork game to help master python\n",
    "- [] int\n",
    "- [] string\n",
    "- [] list\n",
    "- [] if/else statement\n",
    "- [] take input from user\n",
    "- [] while loop\n",
    "- [] for loop\n",
    "- [] dictonaires\n",
    "- [] list comprehension  \n"
   ],
   "cell_type": "markdown",
   "metadata": {}
  }
 ]
}