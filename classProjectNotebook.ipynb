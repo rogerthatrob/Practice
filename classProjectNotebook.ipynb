{
 "metadata": {
  "language_info": {
   "codemirror_mode": {
    "name": "ipython",
    "version": 3
   },
   "file_extension": ".py",
   "mimetype": "text/x-python",
   "name": "python",
   "nbconvert_exporter": "python",
   "pygments_lexer": "ipython3",
   "version": 3
  },
  "orig_nbformat": 2,
  "kernelspec": {
   "name": "python_defaultSpec_1596675804580",
   "display_name": "Python 3.8.5 64-bit"
  }
 },
 "nbformat": 4,
 "nbformat_minor": 2,
 "cells": [
  {
   "cell_type": "markdown",
   "metadata": {},
   "source": [
    "<p> In this project students will study the Selection Problem. The Selection Problem is explained in the Textbook chapter 9 and in the notes Module 4.1.\n",
    "Selection Problem: given an array A[1 … n] of n elements, find the i<sup>th</sup> order statistic (e.g. i<sup>th</sup>smallest element) where 1 <= i <= n.\n",
    "\n",
    "__________"
   ]
  },
  {
   "cell_type": "markdown",
   "metadata": {},
   "source": [
    "## First Algorithm (ALG1)\n",
    "- strategy: sort the array A using Insertion sort and return ```A[i]```.\n",
    "- Insertion sort is discussed in the notes Module1.1\n",
    "- pseudocode using ```A[1..n]:```\n",
    "```\n",
    "ALG1(A,n,i)\n",
    "INSERTION-SORT(A,n)\n",
    "print A[i]\n",
    "```\n",
    "RT = O(n<sup>2</sup>)"
   ]
  },
  {
   "cell_type": "code",
   "execution_count": 14,
   "metadata": {
    "tags": []
   },
   "outputs": [
    {
     "output_type": "stream",
     "name": "stdout",
     "text": "the insertion sort sorted array is:\n10\n20\n30\n200\n"
    }
   ],
   "source": [
    "def InsertionSort(A):\n",
    "    for j in range(1, len(A)): #from the second postition in the array to the the length of the array\n",
    "        key = A[j]\n",
    "        #insert A[j] into the sorted sequence A[1...j-1]\n",
    "        i = j-1\n",
    "        while i>=0 and A[i] > key:\n",
    "            A[i+1] = A[i]\n",
    "            i = i-1\n",
    "        A[i+1] = key\n",
    "\n",
    "A = [200,10,20,30]\n",
    "InsertionSort(A)\n",
    "print(\"the insertion sort sorted array is:\")\n",
    "for i in range(len(A)):\n",
    "    print(\"%d\" %A[i])\n"
   ]
  },
  {
   "cell_type": "code",
   "execution_count": null,
   "metadata": {},
   "outputs": [],
   "source": []
  }
 ]
}