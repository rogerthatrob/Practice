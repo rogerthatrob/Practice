{
 "metadata": {
  "language_info": {
   "codemirror_mode": {
    "name": "ipython",
    "version": 3
   },
   "file_extension": ".py",
   "mimetype": "text/x-python",
   "name": "python",
   "nbconvert_exporter": "python",
   "pygments_lexer": "ipython3",
   "version": "3.8.5"
  },
  "orig_nbformat": 2,
  "kernelspec": {
   "name": "python3",
   "display_name": "Python 3.8.5 64-bit ('base': conda)",
   "metadata": {
    "interpreter": {
     "hash": "79e03ed2b424222e5c01945d3ae1ed197b67ac98c4fa82900816c2c9caddeaae"
    }
   }
  }
 },
 "nbformat": 4,
 "nbformat_minor": 2,
 "cells": [
  {
   "source": [
    "# Python Tutorial\n"
   ],
   "cell_type": "markdown",
   "metadata": {}
  },
  {
   "cell_type": "code",
   "execution_count": 21,
   "metadata": {},
   "outputs": [
    {
     "output_type": "stream",
     "name": "stdout",
     "text": [
      "3\n2\n"
     ]
    }
   ],
   "source": [
    "a = 3\n",
    "b = 2\n",
    "print(a)\n",
    "print(b)\n",
    "c = \"string\" # strings are elements in the quationationfoidsnfkal"
   ]
  },
  {
   "source": [
    "## The print statement\n",
    "- can be done multiple ways. "
   ],
   "cell_type": "markdown",
   "metadata": {}
  },
  {
   "cell_type": "code",
   "execution_count": 46,
   "metadata": {},
   "outputs": [
    {
     "output_type": "stream",
     "name": "stdout",
     "text": [
      "printing out a, b and c:  3 ,  2 ,  string\nthis is a: 3, and b: 2. another 3\n"
     ]
    }
   ],
   "source": [
    "# print using commas\n",
    "# - commas are mote common in other languages\n",
    "print(\"printing out a, b and c: \", a, \", \", b, \", \", c)\n",
    "\n",
    "# print using .format()\n",
    "# - .format() might be more confusing for younger students\n",
    "print(\"this is a: {}, and b: {}. another {}\".format(a,b,a))"
   ]
  },
  {
   "cell_type": "code",
   "execution_count": 22,
   "metadata": {},
   "outputs": [
    {
     "output_type": "stream",
     "name": "stdout",
     "text": [
      "b is larger\n"
     ]
    }
   ],
   "source": [
    "if a < b:\n",
    "    print(\"a is smaller\")\n",
    "elif a == b:\n",
    "    print(\"something\")\n",
    "else:\n",
    "    print(\"b is larger\")"
   ]
  },
  {
   "source": [
    "## creating a list \n",
    "- using the backpack metaphor\n",
    "- the backpack is used to store items"
   ],
   "cell_type": "markdown",
   "metadata": {}
  },
  {
   "cell_type": "code",
   "execution_count": null,
   "metadata": {},
   "outputs": [],
   "source": [
    "backpack = []\n",
    "backpack = ['string']\n",
    "animal = input(\"animal: \")\n",
    "backpack.append(animal)\n",
    "print(backpack)"
   ]
  },
  {
   "cell_type": "code",
   "execution_count": 24,
   "metadata": {},
   "outputs": [
    {
     "output_type": "stream",
     "name": "stdout",
     "text": [
      "found\n"
     ]
    }
   ],
   "source": [
    "for element in list:\n",
    "    if element == \"string\":\n",
    "        print(\"found\")"
   ]
  },
  {
   "source": [
    "## List\n",
    "#### Character Picture Grid using List\n",
    "- You can think of `grid[x][y]` as being the character at the x- and y-coordinates of a “picture” drawn with text characters. The (0, 0) origin will be in the upper-left corner, the x-coordinates increase going right, and w the y-coordinates increase going down."
   ],
   "cell_type": "markdown",
   "metadata": {}
  },
  {
   "source": [
    "# input\n",
    "### take an input from the user\n"
   ],
   "cell_type": "markdown",
   "metadata": {}
  },
  {
   "cell_type": "code",
   "execution_count": 48,
   "metadata": {},
   "outputs": [
    {
     "output_type": "stream",
     "name": "stdout",
     "text": [
      "rob\n"
     ]
    }
   ],
   "source": [
    "name = input('what is ur name')\n",
    "print(name)"
   ]
  },
  {
   "source": [
    "## Loops\n",
    "### while\n",
    "### for "
   ],
   "cell_type": "markdown",
   "metadata": {}
  },
  {
   "cell_type": "code",
   "execution_count": null,
   "metadata": {},
   "outputs": [],
   "source": [
    "# for loop"
   ]
  },
  {
   "cell_type": "code",
   "execution_count": null,
   "metadata": {},
   "outputs": [],
   "source": [
    "# while loop"
   ]
  },
  {
   "source": [
    "## Functions\n",
    "#### def Statements with Parameters\n",
    "- [] create a def Statements that will pass Parameters into the def\n",
    "ex:\n",
    "\n",
    "```{python} \n",
    "def hello(name):\n",
    "    print('Hello ' + name)\n",
    "    \n",
    "hello('Alice') \n",
    "hello('Bob')\n",
    "```"
   ],
   "cell_type": "markdown",
   "metadata": {}
  },
  {
   "cell_type": "code",
   "execution_count": 49,
   "metadata": {},
   "outputs": [
    {
     "output_type": "stream",
     "name": "stdout",
     "text": [
      "Hello Alice\nHello Bob\n"
     ]
    }
   ],
   "source": [
    "def hello(name):\n",
    "    print('Hello ' + name)\n",
    "    \n",
    "hello('Alice') \n",
    "hello('Bob')"
   ]
  },
  {
   "source": [
    "## Classes\n",
    "### use classes for creating different characters"
   ],
   "cell_type": "markdown",
   "metadata": {}
  },
  {
   "cell_type": "code",
   "execution_count": null,
   "metadata": {},
   "outputs": [],
   "source": []
  },
  {
   "source": [
    "## Zork Game\n",
    "#### implent the following items into your Zork game to help master python\n",
    "- [] int\n",
    "- [] string\n",
    "- [] list\n",
    "- [] if/else statement\n",
    "- [] take input from user\n",
    "- [] while loop\n",
    "- [] for loop\n",
    "- [] dictonaires\n",
    "- [] list comprehension  \n"
   ],
   "cell_type": "markdown",
   "metadata": {}
  },
  {
   "source": [
    "## Tik-Tak-Toe game with dictonaires (terrible spelling)\n"
   ],
   "cell_type": "markdown",
   "metadata": {}
  },
  {
   "cell_type": "code",
   "execution_count": 44,
   "metadata": {},
   "outputs": [
    {
     "output_type": "stream",
     "name": "stdout",
     "text": [
      "1964\n"
     ]
    },
    {
     "output_type": "error",
     "ename": "AttributeError",
     "evalue": "'str' object has no attribute 'append'",
     "traceback": [
      "\u001b[0;31m---------------------------------------------------------------------------\u001b[0m",
      "\u001b[0;31mAttributeError\u001b[0m                            Traceback (most recent call last)",
      "\u001b[0;32m<ipython-input-44-3c9acc3825c9>\u001b[0m in \u001b[0;36m<module>\u001b[0;34m\u001b[0m\n\u001b[1;32m     10\u001b[0m \u001b[0mtemp1\u001b[0m \u001b[0;34m=\u001b[0m \u001b[0mthisdict\u001b[0m\u001b[0;34m[\u001b[0m\u001b[0;34m\"brand\"\u001b[0m\u001b[0;34m]\u001b[0m\u001b[0;34m\u001b[0m\u001b[0;34m\u001b[0m\u001b[0m\n\u001b[1;32m     11\u001b[0m \u001b[0mtype\u001b[0m\u001b[0;34m(\u001b[0m\u001b[0mtemp1\u001b[0m\u001b[0;34m)\u001b[0m\u001b[0;34m\u001b[0m\u001b[0;34m\u001b[0m\u001b[0m\n\u001b[0;32m---> 12\u001b[0;31m \u001b[0mtemp1\u001b[0m\u001b[0;34m.\u001b[0m\u001b[0mappend\u001b[0m\u001b[0;34m(\u001b[0m\u001b[0;34m\"chevy\"\u001b[0m\u001b[0;34m)\u001b[0m\u001b[0;34m\u001b[0m\u001b[0;34m\u001b[0m\u001b[0m\n\u001b[0m\u001b[1;32m     13\u001b[0m \u001b[0mprint\u001b[0m\u001b[0;34m(\u001b[0m\u001b[0mthisdict\u001b[0m\u001b[0;34m)\u001b[0m\u001b[0;34m\u001b[0m\u001b[0;34m\u001b[0m\u001b[0m\n",
      "\u001b[0;31mAttributeError\u001b[0m: 'str' object has no attribute 'append'"
     ]
    }
   ],
   "source": [
    "thisdict = {\n",
    "  \"brand\": \"Ford\",\n",
    "  \"model\": \"Mustang\",\n",
    "  \"year\": 1964\n",
    "}\n",
    "print(thisdict[\"year\"])\n",
    "\n",
    "temp1 = []\n",
    "\n",
    "temp1 = thisdict[\"brand\"]\n",
    "type(temp1)\n",
    "temp1.append(\"chevy\")\n",
    "print(thisdict)"
   ]
  },
  {
   "cell_type": "code",
   "execution_count": 40,
   "metadata": {},
   "outputs": [
    {
     "output_type": "stream",
     "name": "stdout",
     "text": [
      "Inventory:\n1 rope\nTotal number of items: 1\n6 torch\nTotal number of items: 7\n42 gold coin\nTotal number of items: 49\n1 dagger\nTotal number of items: 50\n12 arrow\nTotal number of items: 62\n"
     ]
    }
   ],
   "source": [
    "stuff = {'rope': 1, 'torch': 6, 'gold coin': 42, 'dagger': 1, 'arrow': 12}\n",
    "\n",
    "def displayInventory(inventory):\n",
    "    print(\"Inventory:\")\n",
    "    item_total = 0\n",
    "    for k, v in inventory.items():\n",
    "        print(str(v) + ' ' + k)\n",
    "        item_total += v\n",
    "        print(\"Total number of items: \" + str(item_total))\n",
    "displayInventory(stuff)"
   ]
  },
  {
   "cell_type": "code",
   "execution_count": 45,
   "metadata": {},
   "outputs": [
    {
     "output_type": "stream",
     "name": "stdout",
     "text": [
      "num guessed 0 is divis by 4\n0 is not the magic number, try again\n1 is not the magic number, try again\n2 is not the magic number, try again\n3 is not the magic number, try again\nnum guessed 4 is divis by 4\n4 is not the magic number, try again\n5 is not the magic number, try again\n6 is not the magic number, try again\n7 is not the magic number, try again\nnum guessed 8 is divis by 4\n8 is not the magic number, try again\n9 is not the magic number, try again\n10 is not the magic number, try again\n11 is not the magic number, try again\nnum guessed 12 is divis by 4\n12 is not the magic number, try again\n13 is not the magic number, try again\n14 is not the magic number, try again\n15 is not the magic number, try again\nnum guessed 16 is divis by 4\n16 is not the magic number, try again\n17 is not the magic number, try again\n18 is not the magic number, try again\n19 is not the magic number, try again\nnum guessed 20 is divis by 4\n20 is not the magic number, try again\n21 is not the magic number, try again\n22 is not the magic number, try again\n23 is not the magic number, try again\nnum guessed 24 is divis by 4\n24 is not the magic number, try again\n25 is not the magic number, try again\nfound number that is magic 26\n"
     ]
    }
   ],
   "source": [
    "magicNumber = 26\n",
    "\n",
    "for n in range(101):\n",
    "    if n is magicNumber:\n",
    "        print(\"found number that is magic\" , n)\n",
    "        break \n",
    "    else:\n",
    "        if n % 4 == 0:\n",
    "            print(\"num guessed\", n, \"is divided by 4\")\n",
    "        print(n, \"is not the magic number, try again\")"
   ]
  },
  {
   "source": [
    "## AmongUs drawing a character using Turtle"
   ],
   "cell_type": "markdown",
   "metadata": {}
  },
  {
   "cell_type": "code",
   "execution_count": 41,
   "metadata": {},
   "outputs": [],
   "source": [
    "import turtle\n",
    "\n",
    "color1 =  'yellow'\n",
    "color2 = ''\n",
    "color3 = 'skyblue'\n",
    "color4 = ''\n",
    "\n",
    "s = turtle.getscreen()\n",
    "t = turtle.Turtle()\n",
    "\n",
    "def jiu():\n",
    "    t.pensize(20)\n",
    "\n",
    "    t.fillcolor(color1)\n",
    "    t.begin_fill()\n",
    "\n",
    "    t.right(90)\n",
    "    t.forward(50)\n",
    "    t.right(180)\n",
    "    t.circle(40, -180)\n",
    "    t.right(180)\n",
    "    t.forward(200)\n",
    "\n",
    "    t.right(180)\n",
    "    t.circle(100, -180)\n",
    "\n",
    "    t.backward(20)\n",
    "    t.left(15)\n",
    "    t.circle(500, -20)\n",
    "    t.backward(20)\n",
    "\n",
    "    t.circle(40, -180)\n",
    "    t.left(7)\n",
    "    t.backward(50)\n",
    "\n",
    "    t.up()\n",
    "    t.left(90)\n",
    "    t.forward(10)\n",
    "    t.right(90)\n",
    "    t.down()\n",
    "\n",
    "    t.right(240)\n",
    "    t.circle(50, -70)\n",
    "\n",
    "    t.end_fill()\n",
    "\n",
    "\n",
    "def glass():\n",
    "    t.up()\n",
    "\n",
    "    t.right(230)\n",
    "    t.forward(100)\n",
    "    t.left(90)\n",
    "    t.forward(20)\n",
    "    t.right(90)\n",
    "\n",
    "    t.down()\n",
    "    t.fillcolor(color3)\n",
    "    t.begin_fill()\n",
    "\n",
    "    t.right(150)\n",
    "    t.circle(90, -55)\n",
    "\n",
    "    t.right(180)\n",
    "    t.forward(1)\n",
    "    t.right(180)\n",
    "    t.circle(10, -65)\n",
    "    t.right(180)\n",
    "    t.forward(110)\n",
    "    t.right(180)\n",
    "    \n",
    "    t.circle(50, -190)\n",
    "    t.right(170)\n",
    "    t.forward(80)\n",
    "\n",
    "    t.right(180)\n",
    "    t.circle(45, -30)\n",
    "\n",
    "    t.end_fill()\n",
    "\n",
    "def jhola():\n",
    "    t.up()\n",
    "    t.right(60)\n",
    "    t.forward(100)\n",
    "    t.right(90)\n",
    "    t.forward(75)\n",
    "\n",
    "    t.fillcolor(color1)\n",
    "    t.begin_fill()\n",
    "\n",
    "    t.down()\n",
    "    t.forward(30)\n",
    "    t.right(255)\n",
    "\n",
    "    t.circle(300, -30)\n",
    "    t.right(260)\n",
    "    t.forward(30)\n",
    "\n",
    "    t.end_fill()\n",
    "\n",
    "\n",
    "jiu()\n",
    "glass()\n",
    "jhola()\n",
    "\n",
    "turtle.done()"
   ]
  },
  {
   "cell_type": "code",
   "execution_count": null,
   "metadata": {},
   "outputs": [],
   "source": []
  }
 ]
}