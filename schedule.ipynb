{
 "cells": [
  {
   "cell_type": "code",
   "execution_count": 1,
   "metadata": {},
   "outputs": [
    {
     "name": "stdout",
     "output_type": "stream",
     "text": [
      "Schedule, is, Subject, to, Change, -, Please, Check, Daily, for, Changes, and, Online, For, Most, Recent, , , , , , , , , , , , , , , , , , , , , , , , , , , , , , , , , , , , , , , , , , , , , , , , , , , , , , , , ,,,,,,,\n",
      ",Mon.,Tues.,Wed.,Thurs.,Fri.,Sat.,Sun.\n",
      ",8-Mar,9-Mar,10-Mar,11-Mar,12-Mar,13-Mar,14-Mar\n",
      "Robert, Haire,,,S1,S1,S1,,\n",
      "954-658-1609,,,8pm,7pm,6pm,,\n",
      "Alysha, Henderson,,,Open+P1,Open+P1,P1,Open+P1,\n",
      "305-766-4122,,,1:15, PM,1:30pm,6pm,1:30pm,\n",
      "Shelly, Latrielle,,,,,Open,Req,Req\n",
      "561-240-9820,,,,,1:30pm,,\n",
      "Samantha, D,,,,,,S1,P1\n",
      "912-550-7900,,,,,,7pm,3:15pm\n",
      "Britney,,,,,,S2,S1\n",
      "786-271-6727,,,,,,8pm,8pm\n",
      "Kathryn,,,Train,Train,,,\n",
      "561-774-6696,,,8:30pm,7:30pm,,,\n",
      "Josh, Steiger,,,,,,,\n",
      "954-803-4060,,,,,,,\n",
      "Samantha, Sanchez,,,,,,,\n",
      "786-394-7051,,,,,,,\n",
      "Tony,,,,,,,\n",
      "954-937-2927,,,,,,,\n",
      "Jessica, Marino,,,,,,,\n",
      "954-461-3798,,,,,,,\n"
     ]
    }
   ],
   "source": [
    "import csv\n",
    "\n",
    "with open('/Users/roberthaire/Documents/Test-bar.csv', newline='') as csvfile:\n",
    "    schedule = csv.reader(csvfile, delimiter=' ', quotechar='|')\n",
    "    for row in schedule:\n",
    "        print(', '.join(row))"
   ]
  },
  {
   "cell_type": "code",
   "execution_count": 26,
   "metadata": {},
   "outputs": [],
   "source": [
    "import numpy as np\n",
    "import pandas as pd"
   ]
  },
  {
   "cell_type": "code",
   "execution_count": 27,
   "metadata": {},
   "outputs": [
    {
     "output_type": "execute_result",
     "data": {
      "text/plain": [
       "DatetimeIndex(['2021-05-21', '2021-05-22', '2021-05-23', '2021-05-24',\n",
       "               '2021-05-25', '2021-05-26'],\n",
       "              dtype='datetime64[ns]', freq='D')"
      ]
     },
     "metadata": {},
     "execution_count": 27
    }
   ],
   "source": [
    "dates = pd.date_range(\"20210521\", periods=6)\n",
    "dates"
   ]
  },
  {
   "source": [
    "## data frame to html\n",
    "https://pythonexamples.org/pandas-render-dataframe-as-html-table/\n"
   ],
   "cell_type": "markdown",
   "metadata": {}
  },
  {
   "cell_type": "code",
   "execution_count": 32,
   "metadata": {},
   "outputs": [
    {
     "output_type": "stream",
     "name": "stdout",
     "text": [
      "     Name  Monday    Tuesday  Wednesday\n0     rob  s1 5pm                      \n1  shelly  p1 6pm  s1 at 5pm  p1 at 5pm\n<table border=\"1\" class=\"dataframe\">\n  <thead>\n    <tr style=\"text-align: right;\">\n      <th>Name</th>\n      <th>Monday</th>\n      <th>Tuesday</th>\n      <th>Wednesday</th>\n    </tr>\n  </thead>\n  <tbody>\n    <tr>\n      <td>rob</td>\n      <td>s1 5pm</td>\n      <td></td>\n      <td></td>\n    </tr>\n    <tr>\n      <td>shelly</td>\n      <td>p1 6pm</td>\n      <td>s1 at 5pm</td>\n      <td>p1 at 5pm</td>\n    </tr>\n  </tbody>\n</table>\n"
     ]
    }
   ],
   "source": [
    "df = pd.DataFrame(\n",
    "    {\n",
    "        \"Name\": [\"rob\", \"shelly\"],\n",
    "        \"Monday\": [\"s1 5pm\", \"p1 6pm\"],\n",
    "        \"Tuesday\": [\"\", \"s1 at 5pm\"],\n",
    "        \"Wednesday\": [\"\", \"p1 at 5pm\"]\n",
    "    }\n",
    ")\n",
    "html = df.to_html(index=False)\n",
    "print(df)\n",
    "print(html)"
   ]
  },
  {
   "cell_type": "code",
   "execution_count": null,
   "metadata": {},
   "outputs": [],
   "source": []
  }
 ],
 "metadata": {
  "kernelspec": {
   "name": "python394jvsc74a57bd0aee8b7b246df8f9039afb4144a1f6fd8d2ca17a180786b69acc140d282b71a49",
   "display_name": "Python 3.9.4 64-bit"
  },
  "language_info": {
   "codemirror_mode": {
    "name": "ipython",
    "version": 3
   },
   "file_extension": ".py",
   "mimetype": "text/x-python",
   "name": "python",
   "nbconvert_exporter": "python",
   "pygments_lexer": "ipython3",
   "version": "3.9.4"
  },
  "metadata": {
   "interpreter": {
    "hash": "aee8b7b246df8f9039afb4144a1f6fd8d2ca17a180786b69acc140d282b71a49"
   }
  }
 },
 "nbformat": 4,
 "nbformat_minor": 2
}