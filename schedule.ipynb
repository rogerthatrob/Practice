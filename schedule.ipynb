{
 "metadata": {
  "language_info": {
   "codemirror_mode": {
    "name": "ipython",
    "version": 3
   },
   "file_extension": ".py",
   "mimetype": "text/x-python",
   "name": "python",
   "nbconvert_exporter": "python",
   "pygments_lexer": "ipython3",
   "version": "3.9.1-final"
  },
  "orig_nbformat": 2,
  "kernelspec": {
   "name": "python3",
   "display_name": "Python 3.9.1 64-bit",
   "metadata": {
    "interpreter": {
     "hash": "7812ea015bdcee6f23a998adcdd2ef97c151c0c241b7b7070987d9313e41299d"
    }
   }
  }
 },
 "nbformat": 4,
 "nbformat_minor": 2,
 "cells": [
  {
   "cell_type": "code",
   "execution_count": 1,
   "metadata": {},
   "outputs": [
    {
     "output_type": "stream",
     "name": "stdout",
     "text": [
      "Schedule, is, Subject, to, Change, -, Please, Check, Daily, for, Changes, and, Online, For, Most, Recent, , , , , , , , , , , , , , , , , , , , , , , , , , , , , , , , , , , , , , , , , , , , , , , , , , , , , , , , ,,,,,,,\n,Mon.,Tues.,Wed.,Thurs.,Fri.,Sat.,Sun.\n,8-Mar,9-Mar,10-Mar,11-Mar,12-Mar,13-Mar,14-Mar\nRobert, Haire,,,S1,S1,S1,,\n954-658-1609,,,8pm,7pm,6pm,,\nAlysha, Henderson,,,Open+P1,Open+P1,P1,Open+P1,\n305-766-4122,,,1:15, PM,1:30pm,6pm,1:30pm,\nShelly, Latrielle,,,,,Open,Req,Req\n561-240-9820,,,,,1:30pm,,\nSamantha, D,,,,,,S1,P1\n912-550-7900,,,,,,7pm,3:15pm\nBritney,,,,,,S2,S1\n786-271-6727,,,,,,8pm,8pm\nKathryn,,,Train,Train,,,\n561-774-6696,,,8:30pm,7:30pm,,,\nJosh, Steiger,,,,,,,\n954-803-4060,,,,,,,\nSamantha, Sanchez,,,,,,,\n786-394-7051,,,,,,,\nTony,,,,,,,\n954-937-2927,,,,,,,\nJessica, Marino,,,,,,,\n954-461-3798,,,,,,,\n"
     ]
    }
   ],
   "source": [
    "import csv\n",
    "\n",
    "with open('/Users/roberthaire/Documents/Test-bar.csv', newline='') as csvfile:\n",
    "    schedule = csv.reader(csvfile, delimiter=' ', quotechar='|')\n",
    "    for row in schedule:\n",
    "        print(', '.join(row))"
   ]
  },
  {
   "cell_type": "code",
   "execution_count": 4,
   "metadata": {},
   "outputs": [
    {
     "output_type": "error",
     "ename": "NameError",
     "evalue": "name 'pd' is not defined",
     "traceback": [
      "\u001b[0;31m---------------------------------------------------------------------------\u001b[0m",
      "\u001b[0;31mNameError\u001b[0m                                 Traceback (most recent call last)",
      "\u001b[0;32m<ipython-input-4-39458498673d>\u001b[0m in \u001b[0;36m<module>\u001b[0;34m\u001b[0m\n\u001b[0;32m----> 1\u001b[0;31m \u001b[0mdf\u001b[0m \u001b[0;34m=\u001b[0m \u001b[0mpd\u001b[0m\u001b[0;34m.\u001b[0m\u001b[0mDataFram\u001b[0m\u001b[0;34m(\u001b[0m\u001b[0mcolumns\u001b[0m \u001b[0;34m=\u001b[0m \u001b[0;34m[\u001b[0m\u001b[0;34m\"Name\"\u001b[0m\u001b[0;34m,\u001b[0m \u001b[0;34m\"Monday\"\u001b[0m\u001b[0;34m,\u001b[0m \u001b[0;34m\"Tuesday\"\u001b[0m\u001b[0;34m]\u001b[0m\u001b[0;34m)\u001b[0m\u001b[0;34m\u001b[0m\u001b[0;34m\u001b[0m\u001b[0m\n\u001b[0m",
      "\u001b[0;31mNameError\u001b[0m: name 'pd' is not defined"
     ]
    }
   ],
   "source": [
    "\n",
    "\n",
    "df = pd.DataFram(columns = [\"Name\", \"Monday\", \"Tuesday\"])"
   ]
  },
  {
   "cell_type": "code",
   "execution_count": null,
   "metadata": {},
   "outputs": [],
   "source": []
  }
 ]
}