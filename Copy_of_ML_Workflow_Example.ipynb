{
  "nbformat": 4,
  "nbformat_minor": 0,
  "metadata": {
    "kernelspec": {
      "display_name": "Python 3",
      "language": "python",
      "name": "python3"
    },
    "language_info": {
      "codemirror_mode": {
        "name": "ipython",
        "version": 3
      },
      "file_extension": ".py",
      "mimetype": "text/x-python",
      "name": "python",
      "nbconvert_exporter": "python",
      "pygments_lexer": "ipython3",
      "version": "3.7.2"
    },
    "colab": {
      "name": "Copy of ML_Workflow_Example.ipynb",
      "provenance": [],
      "collapsed_sections": [],
      "include_colab_link": true
    },
    "accelerator": "GPU"
  },
  "cells": [
    {
      "cell_type": "markdown",
      "metadata": {
        "id": "view-in-github",
        "colab_type": "text"
      },
      "source": [
        "<a href=\"https://colab.research.google.com/github/rogerthatrob/Practice/blob/master/Copy_of_ML_Workflow_Example.ipynb\" target=\"_parent\"><img src=\"https://colab.research.google.com/assets/colab-badge.svg\" alt=\"Open In Colab\"/></a>"
      ]
    },
    {
      "cell_type": "markdown",
      "metadata": {
        "id": "Zx-u8prNTHNb"
      },
      "source": [
        "#Machine Learning workflow example - classification\n",
        "\n",
        "This notebook was prepared by [Christian Garbin](https://www.linkedin.com/in/christiangarbin/), Senior Architect and  Distinguished Expert at \u000bUnify Inc., an Atos company\u000b(Boca Raton, FL) for our joint half-day Tutorial at [IEEE ICMLA 2019](https://www.icmla-conference.org/icmla19/): [The Data Science landscape: foundations, tools, and practical applications](https://www.icmla-conference.org/icmla19/links/tutorialAM.htm)"
      ]
    },
    {
      "cell_type": "markdown",
      "metadata": {
        "id": "lF3Qis_VTHNd"
      },
      "source": [
        "## Dataset\n",
        "\n",
        "In this section we will use the [Kaggle's version of the Pima Indians diabetes database](https://www.kaggle.com/uciml/pima-indians-diabetes-database):\n",
        "\n",
        "> This dataset is originally from the National Institute of Diabetes and Digestive and Kidney Diseases. The objective of the dataset is to diagnostically predict whether or not a patient has diabetes, based on certain diagnostic measurements included in the dataset. Several constraints were placed on the selection of these instances from a larger database. In particular, all patients here are females at least 21 years old of Pima Indian heritage."
      ]
    },
    {
      "cell_type": "markdown",
      "metadata": {
        "id": "hmcaAxuxTHNd"
      },
      "source": [
        "The dataset has several predictors variables (features, attributes) and one target variable (label):\n",
        "\n",
        "> The datasets consists of several medical predictor variables and one target variable, Outcome. Predictor variables includes the number of pregnancies the patient has had, their BMI, insulin level, age, and so on."
      ]
    },
    {
      "cell_type": "markdown",
      "metadata": {
        "id": "cw106TCHTHNe"
      },
      "source": [
        "Our goal is to use the features (attributes) in the dataset to predict the label (wheter or not a patient has diabetes).\n",
        "\n",
        "We will use machine learning for that:\n",
        "\n",
        "1. Load and inspect the dataset\n",
        "1. Split into features and labels\n",
        "1. Split into train and test datasets\n",
        "1. Create and evaluate models"
      ]
    },
    {
      "cell_type": "markdown",
      "metadata": {
        "id": "li40kZf7THNf"
      },
      "source": [
        "### 1. Loading and inspecting the dataset"
      ]
    },
    {
      "cell_type": "code",
      "metadata": {
        "id": "6I5Ois6gTHNg",
        "colab": {
          "resources": {
            "http://localhost:8080/nbextensions/google.colab/files.js": {
              "data": "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",
              "ok": true,
              "headers": [
                [
                  "content-type",
                  "application/javascript"
                ]
              ],
              "status": 200,
              "status_text": ""
            }
          },
          "base_uri": "https://localhost:8080/",
          "height": 72
        },
        "outputId": "df1637e9-b8b2-4798-c24e-7d764b93772f"
      },
      "source": [
        "import pandas as pd\n",
        "\n",
        "from google.colab import files\n",
        "\n",
        "files.upload() # upload pima-indians-diabetes-database.zip\n",
        "# Note that we don't need to unzip to read the file\n",
        "df = pd.read_csv('pima-indians-diabetes-database.zip')"
      ],
      "execution_count": null,
      "outputs": [
        {
          "output_type": "display_data",
          "data": {
            "text/html": [
              "\n",
              "     <input type=\"file\" id=\"files-0e140706-c87c-4e5c-9db8-b0b7a301fe10\" name=\"files[]\" multiple disabled\n",
              "        style=\"border:none\" />\n",
              "     <output id=\"result-0e140706-c87c-4e5c-9db8-b0b7a301fe10\">\n",
              "      Upload widget is only available when the cell has been executed in the\n",
              "      current browser session. Please rerun this cell to enable.\n",
              "      </output>\n",
              "      <script src=\"/nbextensions/google.colab/files.js\"></script> "
            ],
            "text/plain": [
              "<IPython.core.display.HTML object>"
            ]
          },
          "metadata": {
            "tags": []
          }
        },
        {
          "output_type": "stream",
          "text": [
            "Saving pima-indians-diabetes-database.zip to pima-indians-diabetes-database.zip\n"
          ],
          "name": "stdout"
        }
      ]
    },
    {
      "cell_type": "code",
      "metadata": {
        "id": "ZvEN8zuwTHNj",
        "colab": {
          "base_uri": "https://localhost:8080/"
        },
        "outputId": "116ea899-d3f2-42eb-eecd-fec9e4704a19"
      },
      "source": [
        "df.shape"
      ],
      "execution_count": null,
      "outputs": [
        {
          "output_type": "execute_result",
          "data": {
            "text/plain": [
              "(768, 9)"
            ]
          },
          "metadata": {
            "tags": []
          },
          "execution_count": 2
        }
      ]
    },
    {
      "cell_type": "code",
      "metadata": {
        "id": "iWlqDrllTHNo",
        "colab": {
          "base_uri": "https://localhost:8080/"
        },
        "outputId": "0fe6b8ef-5413-483d-8a64-488c59d25b7c"
      },
      "source": [
        "df.columns"
      ],
      "execution_count": null,
      "outputs": [
        {
          "output_type": "execute_result",
          "data": {
            "text/plain": [
              "Index(['Pregnancies', 'Glucose', 'BloodPressure', 'SkinThickness', 'Insulin',\n",
              "       'BMI', 'DiabetesPedigreeFunction', 'Age', 'Outcome'],\n",
              "      dtype='object')"
            ]
          },
          "metadata": {
            "tags": []
          },
          "execution_count": 3
        }
      ]
    },
    {
      "cell_type": "code",
      "metadata": {
        "id": "hBUc7Kv3THNq",
        "colab": {
          "base_uri": "https://localhost:8080/",
          "height": 198
        },
        "outputId": "12fe0fda-fe05-41a8-da82-cbca2dba35dc"
      },
      "source": [
        "df.head()"
      ],
      "execution_count": null,
      "outputs": [
        {
          "output_type": "execute_result",
          "data": {
            "text/html": [
              "<div>\n",
              "<style scoped>\n",
              "    .dataframe tbody tr th:only-of-type {\n",
              "        vertical-align: middle;\n",
              "    }\n",
              "\n",
              "    .dataframe tbody tr th {\n",
              "        vertical-align: top;\n",
              "    }\n",
              "\n",
              "    .dataframe thead th {\n",
              "        text-align: right;\n",
              "    }\n",
              "</style>\n",
              "<table border=\"1\" class=\"dataframe\">\n",
              "  <thead>\n",
              "    <tr style=\"text-align: right;\">\n",
              "      <th></th>\n",
              "      <th>Pregnancies</th>\n",
              "      <th>Glucose</th>\n",
              "      <th>BloodPressure</th>\n",
              "      <th>SkinThickness</th>\n",
              "      <th>Insulin</th>\n",
              "      <th>BMI</th>\n",
              "      <th>DiabetesPedigreeFunction</th>\n",
              "      <th>Age</th>\n",
              "      <th>Outcome</th>\n",
              "    </tr>\n",
              "  </thead>\n",
              "  <tbody>\n",
              "    <tr>\n",
              "      <th>0</th>\n",
              "      <td>6</td>\n",
              "      <td>148</td>\n",
              "      <td>72</td>\n",
              "      <td>35</td>\n",
              "      <td>0</td>\n",
              "      <td>33.6</td>\n",
              "      <td>0.627</td>\n",
              "      <td>50</td>\n",
              "      <td>1</td>\n",
              "    </tr>\n",
              "    <tr>\n",
              "      <th>1</th>\n",
              "      <td>1</td>\n",
              "      <td>85</td>\n",
              "      <td>66</td>\n",
              "      <td>29</td>\n",
              "      <td>0</td>\n",
              "      <td>26.6</td>\n",
              "      <td>0.351</td>\n",
              "      <td>31</td>\n",
              "      <td>0</td>\n",
              "    </tr>\n",
              "    <tr>\n",
              "      <th>2</th>\n",
              "      <td>8</td>\n",
              "      <td>183</td>\n",
              "      <td>64</td>\n",
              "      <td>0</td>\n",
              "      <td>0</td>\n",
              "      <td>23.3</td>\n",
              "      <td>0.672</td>\n",
              "      <td>32</td>\n",
              "      <td>1</td>\n",
              "    </tr>\n",
              "    <tr>\n",
              "      <th>3</th>\n",
              "      <td>1</td>\n",
              "      <td>89</td>\n",
              "      <td>66</td>\n",
              "      <td>23</td>\n",
              "      <td>94</td>\n",
              "      <td>28.1</td>\n",
              "      <td>0.167</td>\n",
              "      <td>21</td>\n",
              "      <td>0</td>\n",
              "    </tr>\n",
              "    <tr>\n",
              "      <th>4</th>\n",
              "      <td>0</td>\n",
              "      <td>137</td>\n",
              "      <td>40</td>\n",
              "      <td>35</td>\n",
              "      <td>168</td>\n",
              "      <td>43.1</td>\n",
              "      <td>2.288</td>\n",
              "      <td>33</td>\n",
              "      <td>1</td>\n",
              "    </tr>\n",
              "  </tbody>\n",
              "</table>\n",
              "</div>"
            ],
            "text/plain": [
              "   Pregnancies  Glucose  BloodPressure  ...  DiabetesPedigreeFunction  Age  Outcome\n",
              "0            6      148             72  ...                     0.627   50        1\n",
              "1            1       85             66  ...                     0.351   31        0\n",
              "2            8      183             64  ...                     0.672   32        1\n",
              "3            1       89             66  ...                     0.167   21        0\n",
              "4            0      137             40  ...                     2.288   33        1\n",
              "\n",
              "[5 rows x 9 columns]"
            ]
          },
          "metadata": {
            "tags": []
          },
          "execution_count": 4
        }
      ]
    },
    {
      "cell_type": "code",
      "metadata": {
        "id": "oFohCZtkTHNt",
        "colab": {
          "base_uri": "https://localhost:8080/",
          "height": 288
        },
        "outputId": "8e46b3b6-9bfb-4f1f-c3f4-fb6993492fbc"
      },
      "source": [
        "df.describe()"
      ],
      "execution_count": null,
      "outputs": [
        {
          "output_type": "execute_result",
          "data": {
            "text/html": [
              "<div>\n",
              "<style scoped>\n",
              "    .dataframe tbody tr th:only-of-type {\n",
              "        vertical-align: middle;\n",
              "    }\n",
              "\n",
              "    .dataframe tbody tr th {\n",
              "        vertical-align: top;\n",
              "    }\n",
              "\n",
              "    .dataframe thead th {\n",
              "        text-align: right;\n",
              "    }\n",
              "</style>\n",
              "<table border=\"1\" class=\"dataframe\">\n",
              "  <thead>\n",
              "    <tr style=\"text-align: right;\">\n",
              "      <th></th>\n",
              "      <th>Pregnancies</th>\n",
              "      <th>Glucose</th>\n",
              "      <th>BloodPressure</th>\n",
              "      <th>SkinThickness</th>\n",
              "      <th>Insulin</th>\n",
              "      <th>BMI</th>\n",
              "      <th>DiabetesPedigreeFunction</th>\n",
              "      <th>Age</th>\n",
              "      <th>Outcome</th>\n",
              "    </tr>\n",
              "  </thead>\n",
              "  <tbody>\n",
              "    <tr>\n",
              "      <th>count</th>\n",
              "      <td>768.000000</td>\n",
              "      <td>768.000000</td>\n",
              "      <td>768.000000</td>\n",
              "      <td>768.000000</td>\n",
              "      <td>768.000000</td>\n",
              "      <td>768.000000</td>\n",
              "      <td>768.000000</td>\n",
              "      <td>768.000000</td>\n",
              "      <td>768.000000</td>\n",
              "    </tr>\n",
              "    <tr>\n",
              "      <th>mean</th>\n",
              "      <td>3.845052</td>\n",
              "      <td>120.894531</td>\n",
              "      <td>69.105469</td>\n",
              "      <td>20.536458</td>\n",
              "      <td>79.799479</td>\n",
              "      <td>31.992578</td>\n",
              "      <td>0.471876</td>\n",
              "      <td>33.240885</td>\n",
              "      <td>0.348958</td>\n",
              "    </tr>\n",
              "    <tr>\n",
              "      <th>std</th>\n",
              "      <td>3.369578</td>\n",
              "      <td>31.972618</td>\n",
              "      <td>19.355807</td>\n",
              "      <td>15.952218</td>\n",
              "      <td>115.244002</td>\n",
              "      <td>7.884160</td>\n",
              "      <td>0.331329</td>\n",
              "      <td>11.760232</td>\n",
              "      <td>0.476951</td>\n",
              "    </tr>\n",
              "    <tr>\n",
              "      <th>min</th>\n",
              "      <td>0.000000</td>\n",
              "      <td>0.000000</td>\n",
              "      <td>0.000000</td>\n",
              "      <td>0.000000</td>\n",
              "      <td>0.000000</td>\n",
              "      <td>0.000000</td>\n",
              "      <td>0.078000</td>\n",
              "      <td>21.000000</td>\n",
              "      <td>0.000000</td>\n",
              "    </tr>\n",
              "    <tr>\n",
              "      <th>25%</th>\n",
              "      <td>1.000000</td>\n",
              "      <td>99.000000</td>\n",
              "      <td>62.000000</td>\n",
              "      <td>0.000000</td>\n",
              "      <td>0.000000</td>\n",
              "      <td>27.300000</td>\n",
              "      <td>0.243750</td>\n",
              "      <td>24.000000</td>\n",
              "      <td>0.000000</td>\n",
              "    </tr>\n",
              "    <tr>\n",
              "      <th>50%</th>\n",
              "      <td>3.000000</td>\n",
              "      <td>117.000000</td>\n",
              "      <td>72.000000</td>\n",
              "      <td>23.000000</td>\n",
              "      <td>30.500000</td>\n",
              "      <td>32.000000</td>\n",
              "      <td>0.372500</td>\n",
              "      <td>29.000000</td>\n",
              "      <td>0.000000</td>\n",
              "    </tr>\n",
              "    <tr>\n",
              "      <th>75%</th>\n",
              "      <td>6.000000</td>\n",
              "      <td>140.250000</td>\n",
              "      <td>80.000000</td>\n",
              "      <td>32.000000</td>\n",
              "      <td>127.250000</td>\n",
              "      <td>36.600000</td>\n",
              "      <td>0.626250</td>\n",
              "      <td>41.000000</td>\n",
              "      <td>1.000000</td>\n",
              "    </tr>\n",
              "    <tr>\n",
              "      <th>max</th>\n",
              "      <td>17.000000</td>\n",
              "      <td>199.000000</td>\n",
              "      <td>122.000000</td>\n",
              "      <td>99.000000</td>\n",
              "      <td>846.000000</td>\n",
              "      <td>67.100000</td>\n",
              "      <td>2.420000</td>\n",
              "      <td>81.000000</td>\n",
              "      <td>1.000000</td>\n",
              "    </tr>\n",
              "  </tbody>\n",
              "</table>\n",
              "</div>"
            ],
            "text/plain": [
              "       Pregnancies     Glucose  ...         Age     Outcome\n",
              "count   768.000000  768.000000  ...  768.000000  768.000000\n",
              "mean      3.845052  120.894531  ...   33.240885    0.348958\n",
              "std       3.369578   31.972618  ...   11.760232    0.476951\n",
              "min       0.000000    0.000000  ...   21.000000    0.000000\n",
              "25%       1.000000   99.000000  ...   24.000000    0.000000\n",
              "50%       3.000000  117.000000  ...   29.000000    0.000000\n",
              "75%       6.000000  140.250000  ...   41.000000    1.000000\n",
              "max      17.000000  199.000000  ...   81.000000    1.000000\n",
              "\n",
              "[8 rows x 9 columns]"
            ]
          },
          "metadata": {
            "tags": []
          },
          "execution_count": 5
        }
      ]
    },
    {
      "cell_type": "code",
      "metadata": {
        "id": "6B-8b_WCTHNx",
        "colab": {
          "base_uri": "https://localhost:8080/"
        },
        "outputId": "1b975ef3-7260-4160-bcdd-3c4a3fb6fc7a"
      },
      "source": [
        "df.info()"
      ],
      "execution_count": null,
      "outputs": [
        {
          "output_type": "stream",
          "text": [
            "<class 'pandas.core.frame.DataFrame'>\n",
            "RangeIndex: 768 entries, 0 to 767\n",
            "Data columns (total 9 columns):\n",
            " #   Column                    Non-Null Count  Dtype  \n",
            "---  ------                    --------------  -----  \n",
            " 0   Pregnancies               768 non-null    int64  \n",
            " 1   Glucose                   768 non-null    int64  \n",
            " 2   BloodPressure             768 non-null    int64  \n",
            " 3   SkinThickness             768 non-null    int64  \n",
            " 4   Insulin                   768 non-null    int64  \n",
            " 5   BMI                       768 non-null    float64\n",
            " 6   DiabetesPedigreeFunction  768 non-null    float64\n",
            " 7   Age                       768 non-null    int64  \n",
            " 8   Outcome                   768 non-null    int64  \n",
            "dtypes: float64(2), int64(7)\n",
            "memory usage: 54.1 KB\n"
          ],
          "name": "stdout"
        }
      ]
    },
    {
      "cell_type": "markdown",
      "metadata": {
        "id": "IM16O7eaTHN1"
      },
      "source": [
        "By inspecting the dataset, we found out that:\n",
        "\n",
        "- It has 768 rows and 9 columns (`shape`).\n",
        "- The values of the columns seem to be in the range of what they are supposed to represent (`describe()`).\n",
        "- There are no missing data (`info()`)."
      ]
    },
    {
      "cell_type": "markdown",
      "metadata": {
        "id": "CpwVJC4sTHN1"
      },
      "source": [
        "Now that we understand and trust the data, we need to check if it is balanced, i.e. if we have about the same number of samples for each label."
      ]
    },
    {
      "cell_type": "code",
      "metadata": {
        "id": "VLgPoHMuTHN2",
        "colab": {
          "base_uri": "https://localhost:8080/"
        },
        "outputId": "3d516ca5-0cf8-42e9-dfaa-1db104953362"
      },
      "source": [
        "class_zero, class_one = df.Outcome.value_counts()\n",
        "print('Samples for class 0: {}, for class 1: {}'.format(class_zero, class_one))\n",
        "print('Percent class 0 = {:.0%}, class 1: {:.0%}'.format(\n",
        "class_zero/(class_zero + class_one), class_one/(class_zero + class_one)))"
      ],
      "execution_count": null,
      "outputs": [
        {
          "output_type": "stream",
          "text": [
            "Samples for class 0: 500, for class 1: 268\n",
            "Percent class 0 = 65%, class 1: 35%\n"
          ],
          "name": "stdout"
        }
      ]
    },
    {
      "cell_type": "markdown",
      "metadata": {
        "id": "u48Bs21HTHN4"
      },
      "source": [
        "The dataset is imbalanced, with twice as many negative (non-diabetic) than positive (diabetic) samples. It is not extremely imbalanced, but we will need to careful when measuring the performance of the models later."
      ]
    },
    {
      "cell_type": "markdown",
      "metadata": {
        "id": "P82KktHKTHN4"
      },
      "source": [
        "#### A diversion into baselines and accuracy"
      ]
    },
    {
      "cell_type": "markdown",
      "metadata": {
        "id": "htGScUf2THN5"
      },
      "source": [
        "Knowing about this imbalance also creates a baseline for any classifier we try. A \"classifier\" that simply returns \"class zero\" for any sample it is asked to predict, like the one below, it will be 65% \"accurate\".\n",
        "\n",
        "```python\n",
        "   def predict(sample):\n",
        "       return 0\n",
        "```\n",
        "\n",
        "It is one of the reasons _accuracy_ is not the best way to choose a classifier for these applications. We will see additional metrics in later sections."
      ]
    },
    {
      "cell_type": "markdown",
      "metadata": {
        "id": "w-ebcH27THN6"
      },
      "source": [
        "### 2. Separating features from labels"
      ]
    },
    {
      "cell_type": "markdown",
      "metadata": {
        "id": "jM4Gc4ezTHN7"
      },
      "source": [
        "We will split the dataset into features (attributes) and the label (outcome), using the traditional `X` and `y` names for those pieces of the dataset."
      ]
    },
    {
      "cell_type": "code",
      "metadata": {
        "id": "d4y6x7dzTHN7"
      },
      "source": [
        "# We can see from df.columns that `Outcome`, the label, is the last column\n",
        "X = df.iloc[:,:-1]\n",
        "y = df.iloc[:,-1]"
      ],
      "execution_count": null,
      "outputs": []
    },
    {
      "cell_type": "markdown",
      "metadata": {
        "id": "V8OHP4B0THN9"
      },
      "source": [
        "### 3. Splitting into a training and a test dataset"
      ]
    },
    {
      "cell_type": "markdown",
      "metadata": {
        "id": "kJz7SK0rTHN-"
      },
      "source": [
        "Models must be evaluated with data they have not seen before. In other words we should [never train on test data](https://developers.google.com/machine-learning/crash-course/training-and-test-sets/splitting-data).\n",
        "\n",
        "We will reserve a portion of the dataset to evaluate the models later. This is the _test dataset_. \n",
        "\n",
        "Because the dataset is imbalanced, we need to apply [stratified sampling](https://en.wikipedia.org/wiki/Stratified_sampling). This sampling method ensures that samples in the training and test set represent their corresponding proportion in the original dataset."
      ]
    },
    {
      "cell_type": "code",
      "metadata": {
        "id": "ouY12FTSTHN-"
      },
      "source": [
        "from sklearn.model_selection import train_test_split\n",
        "\n",
        "Xtrain, Xtest, ytrain, ytest = \\\n",
        "    train_test_split(X, y, stratify=y, test_size=0.25, random_state=42)"
      ],
      "execution_count": null,
      "outputs": []
    },
    {
      "cell_type": "markdown",
      "metadata": {
        "id": "q0vrj78nTHOB"
      },
      "source": [
        "A quick check to see if they are split as expected, both within each set (we expect to see about twice as many zeros than ones in each set) and across the sets (same proportion of zeros and ones across the sets).\n",
        "\n",
        "Not that we doubt `train_test_split`, it is just in case we made a mistake somewhere else with the dataset (for example when cleaning it up). If we do not get the split right, many other things will fall apart later."
      ]
    },
    {
      "cell_type": "code",
      "metadata": {
        "id": "WOkEdzpqTHOB"
      },
      "source": [
        "import matplotlib.pyplot as plt\n",
        "import seaborn as sns\n",
        "%matplotlib inline\n",
        "\n",
        "# Use this line for presentations\n",
        "#sns.set(context='talk')\n",
        "# Use this line for online view (e.g. GitHub commits)\n",
        "sns.set()"
      ],
      "execution_count": null,
      "outputs": []
    },
    {
      "cell_type": "code",
      "metadata": {
        "id": "66Ktk0UdTHOE",
        "colab": {
          "base_uri": "https://localhost:8080/",
          "height": 382
        },
        "outputId": "9b09823c-127d-4c8f-d48c-3c4c27c971c0"
      },
      "source": [
        "_, ax = plt.subplots(1,2, tight_layout=True)\n",
        "sns.countplot(ytrain, ax=ax[0]).set_title('Training')\n",
        "sns.countplot(ytest, ax=ax[1]).set_title('Test');"
      ],
      "execution_count": null,
      "outputs": [
        {
          "output_type": "stream",
          "text": [
            "/usr/local/lib/python3.7/dist-packages/seaborn/_decorators.py:43: FutureWarning: Pass the following variable as a keyword arg: x. From version 0.12, the only valid positional argument will be `data`, and passing other arguments without an explicit keyword will result in an error or misinterpretation.\n",
            "  FutureWarning\n",
            "/usr/local/lib/python3.7/dist-packages/seaborn/_decorators.py:43: FutureWarning: Pass the following variable as a keyword arg: x. From version 0.12, the only valid positional argument will be `data`, and passing other arguments without an explicit keyword will result in an error or misinterpretation.\n",
            "  FutureWarning\n"
          ],
          "name": "stderr"
        },
        {
          "output_type": "display_data",
          "data": {
            "image/png": "[encoded data removed]",
            "text/plain": [
              "<Figure size 432x288 with 2 Axes>"
            ]
          },
          "metadata": {
            "tags": []
          }
        }
      ]
    },
    {
      "cell_type": "markdown",
      "metadata": {
        "id": "h39Gc2txTHOQ"
      },
      "source": [
        "### 4. Creating and evaluate models"
      ]
    },
    {
      "cell_type": "markdown",
      "metadata": {
        "id": "n0TZEuZoTHOQ"
      },
      "source": [
        "#### Creating a baseline model"
      ]
    },
    {
      "cell_type": "markdown",
      "metadata": {
        "id": "5GoQh2scTHOQ"
      },
      "source": [
        "Before attempting more complex models, that take more time to train and evaluate, we will start with a simple [logistic regression classifier](https://scikit-learn.org/stable/modules/linear_model.html#logistic-regression).\n",
        "\n",
        "This will be our baseline model. Any other model we try should beat this model. If it does not, we should not use that model (as a general rule - there may be reasons to chose a less performant model, but these reasons are rare)."
      ]
    },
    {
      "cell_type": "code",
      "metadata": {
        "id": "DIWLac3hTHOR",
        "colab": {
          "base_uri": "https://localhost:8080/"
        },
        "outputId": "c4ac64bb-82bf-4ab0-f509-95c2d0be4d60"
      },
      "source": [
        "from sklearn import linear_model\n",
        "lrc = linear_model.LogisticRegression(random_state=42)\n",
        "lrc.fit(Xtrain, ytrain)"
      ],
      "execution_count": null,
      "outputs": [
        {
          "output_type": "execute_result",
          "data": {
            "text/plain": [
              "LogisticRegression(C=1.0, class_weight=None, dual=False, fit_intercept=True,\n",
              "                   intercept_scaling=1, l1_ratio=None, max_iter=100,\n",
              "                   multi_class='auto', n_jobs=None, penalty='l2',\n",
              "                   random_state=42, solver='lbfgs', tol=0.0001, verbose=0,\n",
              "                   warm_start=False)"
            ]
          },
          "metadata": {
            "tags": []
          },
          "execution_count": 13
        }
      ]
    },
    {
      "cell_type": "markdown",
      "metadata": {
        "id": "rkWQzKwDTHOX"
      },
      "source": [
        "#### Evaluating the baseline model"
      ]
    },
    {
      "cell_type": "markdown",
      "metadata": {
        "id": "o9EhoDsZTHOY"
      },
      "source": [
        "Predict the test set and checks the accuracy, as a first measure of performance."
      ]
    },
    {
      "cell_type": "code",
      "metadata": {
        "id": "VTeH4yXZTHOY"
      },
      "source": [
        "pred = lrc.predict(Xtest)"
      ],
      "execution_count": null,
      "outputs": []
    },
    {
      "cell_type": "code",
      "metadata": {
        "id": "h7Pat42VTHOa",
        "colab": {
          "base_uri": "https://localhost:8080/"
        },
        "outputId": "aae6bce9-0aaa-4aac-b70b-246fcbbe203c"
      },
      "source": [
        "from sklearn.metrics import accuracy_score\n",
        "print(accuracy_score(ytest, pred))"
      ],
      "execution_count": null,
      "outputs": [
        {
          "output_type": "stream",
          "text": [
            "0.7291666666666666\n"
          ],
          "name": "stdout"
        }
      ]
    },
    {
      "cell_type": "markdown",
      "metadata": {
        "id": "PB3_U1iCTHOd"
      },
      "source": [
        "#### Understanding where the model makes mistakes"
      ]
    },
    {
      "cell_type": "markdown",
      "metadata": {
        "id": "rw3Xa1a-THOd"
      },
      "source": [
        "The model accuracy tells only a general picture. We need to understand where the mistakes are being made. The [confusion matrix](https://en.wikipedia.org/wiki/Confusion_matrix) tells us where the errors are."
      ]
    },
    {
      "cell_type": "code",
      "metadata": {
        "id": "Lrw2vIBmTHOe",
        "colab": {
          "base_uri": "https://localhost:8080/"
        },
        "outputId": "6645e600-ee6d-44c1-e792-4272696bafd5"
      },
      "source": [
        "from sklearn.metrics import confusion_matrix\n",
        "\n",
        "cm = confusion_matrix(ytest, pred)\n",
        "print(cm)"
      ],
      "execution_count": null,
      "outputs": [
        {
          "output_type": "stream",
          "text": [
            "[[105  20]\n",
            " [ 32  35]]\n"
          ],
          "name": "stdout"
        }
      ]
    },
    {
      "cell_type": "markdown",
      "metadata": {
        "id": "9aruJygDTHOf"
      },
      "source": [
        "The layout of the confusion matrix (as used in scikit-learn - other places, [like the Wikipedia article on it](https://en.wikipedia.org/wiki/Confusion_matrix), may invert the axes):\n",
        "\n",
        "```\n",
        "     +-----------------------------+---------------------------+\n",
        "     | True negatives              | False positives           |\n",
        "     | Predicted \"not diabetic\",   | Prediced \"is diabetic\",   |\n",
        "     | and is fact not diabetic    | but is not diabetic       |\n",
        "     +-----------------------------+---------------------------+\n",
        "     | False negatives             | True positive             |\n",
        "     | Predicted \"not diabetic\",   | Predicted \"diabetic\" and  |\n",
        "     | but is in fact diabetic     | is in fact diabetic\"      |\n",
        "     +-----------------------------+---------------------------+\n",
        "```"
      ]
    },
    {
      "cell_type": "markdown",
      "metadata": {
        "id": "3X_cWcAuTHOg"
      },
      "source": [
        "A visual representation is more useful when showing results to stakeholders."
      ]
    },
    {
      "cell_type": "code",
      "metadata": {
        "id": "JJSusxEiTHOg",
        "colab": {
          "base_uri": "https://localhost:8080/",
          "height": 176
        },
        "outputId": "ff0155f5-fad5-4e02-a996-6cd56e6c07af"
      },
      "source": [
        "def plot_cm(cm):\n",
        "    plt.figure(figsize=(2, 2))\n",
        "    ax = sns.heatmap(cm, annot=True, fmt='d', cbar=False, cmap=['lightblue'],\n",
        "                     linewidths=0.5)\n",
        "    ax.set_ylabel('Actual diagnosis')\n",
        "    ax.set_xlabel('Predicted diagnosis')\n",
        "    plt.show()\n",
        "\n",
        "plot_cm(cm)"
      ],
      "execution_count": null,
      "outputs": [
        {
          "output_type": "display_data",
          "data": {
            "image/png": "[encoded data removed]",
            "text/plain": [
              "<Figure size 144x144 with 1 Axes>"
            ]
          },
          "metadata": {
            "tags": []
          }
        }
      ]
    },
    {
      "cell_type": "markdown",
      "metadata": {
        "id": "iUGH9ZzATHOk"
      },
      "source": [
        "The confusion matrix shows that the classifier makes more mistakes in the \"diabetic\" class (the \"1\" class). This is not surprising, given that we have fewer samples of that class in the training dataset.\n",
        "\n",
        "A way to think about these mistakes that relates to real-world outcomes of this model:\n",
        "\n",
        "- We will recommend treatment for 20 people who do not need any treatment at all ([false positive, type I error](https://en.wikipedia.org/wiki/Type_I_and_type_II_errors)). These people might have a miserable life, with a restricted diet.\n",
        "- We will let 32 people go without the treatment they need ([false negative, type II error](https://en.wikipedia.org/wiki/Type_I_and_type_II_errors)). These people might suffer physical pain, debilitation and premature death."
      ]
    },
    {
      "cell_type": "markdown",
      "metadata": {
        "id": "R2gHSertTHOl"
      },
      "source": [
        "This representation of the predictions also shows the perils of relying on accuracy alone to evaluate a model. The accuracy of this model is in the \"not too bad\" category (not a scientific term), especially considering the amount of effort to create it (literally two lines of code). Digging deeper with the confusion matrix reveals its weak points.\n",
        "\n",
        "There are more precise metrics to understand what type of mistakes the models is making. We will use [`classification_report`](https://scikit-learn.org/stable/modules/model_evaluation.html#classification-report) to show them."
      ]
    },
    {
      "cell_type": "code",
      "metadata": {
        "id": "gRYqpnEDTHOl",
        "colab": {
          "base_uri": "https://localhost:8080/"
        },
        "outputId": "182d70e8-0373-45d8-dab4-f8c741f110fc"
      },
      "source": [
        "from sklearn.metrics import classification_report\n",
        "\n",
        "print(classification_report(ytest, pred))"
      ],
      "execution_count": null,
      "outputs": [
        {
          "output_type": "stream",
          "text": [
            "              precision    recall  f1-score   support\n",
            "\n",
            "           0       0.77      0.84      0.80       125\n",
            "           1       0.64      0.52      0.57        67\n",
            "\n",
            "    accuracy                           0.73       192\n",
            "   macro avg       0.70      0.68      0.69       192\n",
            "weighted avg       0.72      0.73      0.72       192\n",
            "\n"
          ],
          "name": "stdout"
        }
      ]
    },
    {
      "cell_type": "markdown",
      "metadata": {
        "id": "p2vwcSGuTHOn"
      },
      "source": [
        "The meaning of these metrics:\n",
        "\n",
        "- **Precision** penalizes false positives: out of all instances predicted to be of a certain class, what fraction is actually from that class: true positive / (true positive + false positive). For class zero: 105/(105+32)=0.77. For class one: 35/(35+20)=0.64.\n",
        "- **Recall** penalizes false negatives: out of all instances of a specific class in the dataset, what fraction was correctly identified as being from that class: true positive / (true positive + false negative). For class zero: 105/(105+20)=0.84. For class one: 35/(35+32)=0.52.\n",
        "- **F1 score** combines precison and recall into one number, [their harmonic mean](https://en.wikipedia.org/wiki/F1_score), resulting in a value between zero and one. A value of one indicates perfect precision and recall.\n",
        "\n",
        "[This Wikipedia picture](https://en.wikipedia.org/wiki/F1_score#/media/File:Precisionrecall.svg) is a memorable visualization of precision and recall."
      ]
    },
    {
      "cell_type": "markdown",
      "metadata": {
        "id": "SUSvrIFOTHOn"
      },
      "source": [
        "#### Choosing a better classifier"
      ]
    },
    {
      "cell_type": "markdown",
      "metadata": {
        "id": "2xZuqqgRTHOn"
      },
      "source": [
        "Now that we have a baseline classifier, we can search for a better classifier.\n",
        "\n",
        "We will attempt a [decision tree classifier](https://scikit-learn.org/stable/modules/tree.html). It does not require data preparation and is easy to explain to stakeholders."
      ]
    },
    {
      "cell_type": "code",
      "metadata": {
        "id": "UHjRZKzLTHOo",
        "colab": {
          "base_uri": "https://localhost:8080/"
        },
        "outputId": "5c1a49d2-c4fc-48b4-9694-ce092ae9011a"
      },
      "source": [
        "from sklearn import tree\n",
        "\n",
        "dtc = tree.DecisionTreeClassifier(random_state=42)\n",
        "dtc.fit(Xtrain, ytrain)"
      ],
      "execution_count": null,
      "outputs": [
        {
          "output_type": "execute_result",
          "data": {
            "text/plain": [
              "DecisionTreeClassifier(ccp_alpha=0.0, class_weight=None, criterion='gini',\n",
              "                       max_depth=None, max_features=None, max_leaf_nodes=None,\n",
              "                       min_impurity_decrease=0.0, min_impurity_split=None,\n",
              "                       min_samples_leaf=1, min_samples_split=2,\n",
              "                       min_weight_fraction_leaf=0.0, presort='deprecated',\n",
              "                       random_state=42, splitter='best')"
            ]
          },
          "metadata": {
            "tags": []
          },
          "execution_count": 19
        }
      ]
    },
    {
      "cell_type": "code",
      "metadata": {
        "id": "990TVu8LTHOp"
      },
      "source": [
        "def evaluate_classifier(clf):\n",
        "    pred = clf.predict(Xtest)\n",
        "    print('Accuracy: {}'.format(accuracy_score(ytest, pred)))\n",
        "\n",
        "    cm = confusion_matrix(ytest, pred)\n",
        "    print('\\nConfusion matrix:')\n",
        "    print(cm)\n",
        "    plot_cm(cm)\n",
        "\n",
        "    print('\\nClassification report:')\n",
        "    print(classification_report(ytest, pred))"
      ],
      "execution_count": null,
      "outputs": []
    },
    {
      "cell_type": "code",
      "metadata": {
        "id": "I5RLPqHMTHOs",
        "colab": {
          "base_uri": "https://localhost:8080/",
          "height": 453
        },
        "outputId": "0ecc4540-d94b-4591-d65b-8579210179d4"
      },
      "source": [
        "evaluate_classifier(dtc)"
      ],
      "execution_count": null,
      "outputs": [
        {
          "output_type": "stream",
          "text": [
            "Accuracy: 0.7447916666666666\n",
            "\n",
            "Confusion matrix:\n",
            "[[106  19]\n",
            " [ 30  37]]\n"
          ],
          "name": "stdout"
        },
        {
          "output_type": "display_data",
          "data": {
            "image/png": "[encoded data removed]",
            "text/plain": [
              "<Figure size 144x144 with 1 Axes>"
            ]
          },
          "metadata": {
            "tags": []
          }
        },
        {
          "output_type": "stream",
          "text": [
            "\n",
            "Classification report:\n",
            "              precision    recall  f1-score   support\n",
            "\n",
            "           0       0.78      0.85      0.81       125\n",
            "           1       0.66      0.55      0.60        67\n",
            "\n",
            "    accuracy                           0.74       192\n",
            "   macro avg       0.72      0.70      0.71       192\n",
            "weighted avg       0.74      0.74      0.74       192\n",
            "\n"
          ],
          "name": "stdout"
        }
      ]
    },
    {
      "cell_type": "markdown",
      "metadata": {
        "id": "qKnBKfTRTHOw"
      },
      "source": [
        "With one line change, from `lrc = linear_model.LogisticRegression(random_state=42)` to `dtc = tree.DecisionTreeClassifier(random_state=42)`, we improved all metrics. \n",
        "\n",
        "Not by much, but also not at the cost of much work. This consistency in the APIs is one of the main reason to start machine learning investigation with [scikit-learn](https://scikit-learn.org/stable/). It speeds up the learning curve and the experimentation phase."
      ]
    },
    {
      "cell_type": "markdown",
      "metadata": {
        "id": "ItGQ4J59THOx"
      },
      "source": [
        "#### Fine-tuning the classifier"
      ]
    },
    {
      "cell_type": "markdown",
      "metadata": {
        "id": "YhwV9iWrTHOx"
      },
      "source": [
        "The fact that metrics improved, even if not by much, indicates that we are going in the right direction with this choice of a classifier.\n",
        "\n",
        "All classifiers have parameters that affect their behaviors, the _hyperparameters_. Before we attempt other classifiers, we should try different values for this classifier's hyperparameters.\n",
        "\n",
        "This process is known as [fine tuning](https://scikit-learn.org/stable/modules/grid_search.html).\n",
        "\n",
        "We will use [`GridSearchCV()`](https://scikit-learn.org/stable/modules/generated/sklearn.model_selection.GridSearchCV.html#sklearn.model_selection.GridSearchCV) to find better hyperparameters."
      ]
    },
    {
      "cell_type": "code",
      "metadata": {
        "id": "BPYURsXFTHOx",
        "colab": {
          "base_uri": "https://localhost:8080/"
        },
        "outputId": "23ab77d4-c76d-4076-cf55-bc4eb53d892e"
      },
      "source": [
        "from sklearn.model_selection import GridSearchCV\n",
        "\n",
        "# First  value is the deafault value\n",
        "param_grid = {\n",
        "    'criterion': ['gini', 'entropy'],\n",
        "    'splitter': ['best', 'random'],\n",
        "    'max_depth': [None, 3, 5, 10],\n",
        "}\n",
        "\n",
        "# Use `verbose` to track progress\n",
        "gs = GridSearchCV(tree.DecisionTreeClassifier(random_state=42),\n",
        "                  param_grid, cv=5, n_jobs=-1, verbose=3)\n",
        "\n",
        "gsc = gs.fit(X, y)"
      ],
      "execution_count": null,
      "outputs": [
        {
          "output_type": "stream",
          "text": [
            "Fitting 5 folds for each of 16 candidates, totalling 80 fits\n"
          ],
          "name": "stdout"
        },
        {
          "output_type": "stream",
          "text": [
            "[Parallel(n_jobs=-1)]: Using backend LokyBackend with 2 concurrent workers.\n",
            "[Parallel(n_jobs=-1)]: Done  44 tasks      | elapsed:    1.6s\n",
            "[Parallel(n_jobs=-1)]: Done  80 out of  80 | elapsed:    1.7s finished\n"
          ],
          "name": "stderr"
        }
      ]
    },
    {
      "cell_type": "code",
      "metadata": {
        "id": "ZyigEWwpTHO0",
        "colab": {
          "base_uri": "https://localhost:8080/"
        },
        "outputId": "0b1c7707-b613-4552-a32a-d0761aa21ec2"
      },
      "source": [
        "print(gsc.best_params_)"
      ],
      "execution_count": null,
      "outputs": [
        {
          "output_type": "stream",
          "text": [
            "{'criterion': 'gini', 'max_depth': 5, 'splitter': 'best'}\n"
          ],
          "name": "stdout"
        }
      ]
    },
    {
      "cell_type": "code",
      "metadata": {
        "id": "FjE6PxY0THO1",
        "colab": {
          "base_uri": "https://localhost:8080/",
          "height": 453
        },
        "outputId": "becdf726-be7e-4d83-9923-c697089542e5"
      },
      "source": [
        "evaluate_classifier(gsc.best_estimator_)"
      ],
      "execution_count": null,
      "outputs": [
        {
          "output_type": "stream",
          "text": [
            "Accuracy: 0.8385416666666666\n",
            "\n",
            "Confusion matrix:\n",
            "[[116   9]\n",
            " [ 22  45]]\n"
          ],
          "name": "stdout"
        },
        {
          "output_type": "display_data",
          "data": {
            "image/png": "[encoded data removed]",
            "text/plain": [
              "<Figure size 144x144 with 1 Axes>"
            ]
          },
          "metadata": {
            "tags": []
          }
        },
        {
          "output_type": "stream",
          "text": [
            "\n",
            "Classification report:\n",
            "              precision    recall  f1-score   support\n",
            "\n",
            "           0       0.84      0.93      0.88       125\n",
            "           1       0.83      0.67      0.74        67\n",
            "\n",
            "    accuracy                           0.84       192\n",
            "   macro avg       0.84      0.80      0.81       192\n",
            "weighted avg       0.84      0.84      0.83       192\n",
            "\n"
          ],
          "name": "stdout"
        }
      ]
    },
    {
      "cell_type": "markdown",
      "metadata": {
        "id": "HpxblPPATHO3"
      },
      "source": [
        "Changing just one line of code, to wrap `DecisionTreeClassifier()` around `GridSearchCV()` (plus a dictionary of hyperparameters), we improved the performance by a significant amount.\n",
        "\n",
        "There is still work to do to improve the recall of the positive class (\"diabetic\"). It is nevertheless a good result for a few lines of code, without using feature engineering or transformations. \n",
        "\n",
        "The main objective has been accomplished. Now that we reached this state, we can try even more complex models (perhaps switching to neural networks), always keeping in mind that they have to be better than this simple solution to justify the work of creating and maintaining them.\n",
        "\n",
        "Also, as it is typical with the consistent scikit-learn APIs, other than replacing how we create the classifier, everything remains the same (we called the same `evaluate_classifier()` used in other places, without any change)."
      ]
    },
    {
      "cell_type": "markdown",
      "metadata": {
        "id": "p9eoze6ETHO4"
      },
      "source": [
        "### Summary"
      ]
    },
    {
      "cell_type": "markdown",
      "metadata": {
        "id": "Dz79P5P0THO4"
      },
      "source": [
        "We used machine learning to build a model that achieved over 80% accuracy with a few lines of code and without resorting to feature engineering or other transformations.\n",
        "\n",
        "Along the way we also:\n",
        "\n",
        "- Verified that the dataset is imbalanced and adjusted the code accordingly (`value_counts()`).\n",
        "- Used stratified sampling to split the dataset and preserve the class ratios (`train_test_split(..., stratify=...)`).\n",
        "- Used precision and recall to understand where the model makes mistakes (`classification_report()`).\n",
        "- Visualized the mistakes with a confusion matrix (`confusion_matrix()`).\n",
        "- Established a baseline with a simple model.\n",
        "- Switched to a more complex model, improving the baseline results.\n",
        "- Found an even better model with grid search (`GridSearchCV()`)."
      ]
    }
  ]
}