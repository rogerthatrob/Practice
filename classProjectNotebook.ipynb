{
 "metadata": {
  "language_info": {
   "codemirror_mode": {
    "name": "ipython",
    "version": 3
   },
   "file_extension": ".py",
   "mimetype": "text/x-python",
   "name": "python",
   "nbconvert_exporter": "python",
   "pygments_lexer": "ipython3",
   "version": 3
  },
  "orig_nbformat": 2,
  "kernelspec": {
   "name": "python_defaultSpec_1596933463659",
   "display_name": "Python 3.8.5 64-bit"
  }
 },
 "nbformat": 4,
 "nbformat_minor": 2,
 "cells": [
  {
   "cell_type": "markdown",
   "metadata": {},
   "source": [
    "# The Problem & Algorithms to be Implemented and Analyzed\n",
    "<p> In this project students will study the Selection Problem. The Selection Problem is explained in the Textbook chapter 9 and in the notes Module 4.1.\n",
    "Selection Problem: given an array A[1 … n] of n elements, find the i<sup>th</sup> order statistic (e.g. i<sup>th</sup>smallest element) where 1 <= i <= n.\n",
    "\n",
    "__________"
   ]
  },
  {
   "cell_type": "markdown",
   "metadata": {},
   "source": [
    "## First Algorithm (ALG1)\n",
    "- strategy: sort the array A using Insertion sort and return ```A[i]```.\n",
    "- Insertion sort is discussed in the notes Module1.1\n",
    "- pseudocode using ```A[1..n]:```\n",
    "```\n",
    "ALG1(A,n,i)\n",
    " INSERTION-SORT(A,n)\n",
    " print A[i]\n",
    "```\n",
    "RT = O(n<sup>2</sup>)"
   ]
  },
  {
   "cell_type": "code",
   "execution_count": 7,
   "metadata": {
    "tags": []
   },
   "outputs": [
    {
     "output_type": "stream",
     "name": "stdout",
     "text": "501\nthe insertion sort sorted array is:\n10\n13\n50\n101\n120\n300\n500\n501\n"
    }
   ],
   "source": [
    "def ALG1(A,n,i):\n",
    "    InsertionSort(A)\n",
    "    print(A[i])\n",
    "\n",
    "    #driver code to test out ALG1()\n",
    "\n",
    "\n",
    "def InsertionSort(A):\n",
    "    for j in range(1, len(A)): #from the second postition in the array to the the length of the array\n",
    "        key = A[j]\n",
    "        #insert A[j] into the sorted sequence A[1...j-1]\n",
    "        i = j-1\n",
    "        while i>=0 and A[i] > key:\n",
    "            A[i+1] = A[i]\n",
    "            i = i-1\n",
    "        A[i+1] = key \n",
    "    \n",
    "\n",
    "\n",
    "#driver code\n",
    "A = [50,10,13,101,300,120,500,501] \n",
    "n = 0\n",
    "ALG1(A,n,i)\n",
    "print(\"the insertion sort sorted array is:\")\n",
    "for i in range(len(A)):\n",
    "    print(\"%d\" %A[i]) "
   ]
  },
  {
   "cell_type": "markdown",
   "metadata": {},
   "source": [
    "## Second Algorithm (ALG2)\n",
    "- strategy: sort the array A using Heapsort and return ```A[i]```.\n",
    "- Heapsort is discussed in the notes Module 3.1\n",
    "- pseudocode using ```A[1..n]:```\n",
    "```\n",
    "ALG2(A,n,i)\n",
    " HEAPSORT(A,n)\n",
    " print A[i]\n",
    "```\n",
    "RT = O(nlog<sub>2</sub>n)\n"
   ]
  },
  {
   "cell_type": "code",
   "execution_count": null,
   "metadata": {},
   "outputs": [],
   "source": [
    "def ALG2(A,n,i):\n",
    "    HeapSort(A)\n",
    "    print(A[i])\n",
    "\n",
    "def HeapSort(A):\n",
    "    AheapSize=0\n",
    "    n = AheapSize = len(A) #heapSize?\n",
    "    BuildMaxHeap(A) #need to make this \n",
    "    for i in range(n-1, 1, -1): #start,stop,step\n",
    "        A[i], A[0] = A[0], A[i] #swap\n",
    "        AheapSize = AheapSize - 1\n",
    "        MaxHeapify(A,1) #need to make\n",
    "\n",
    "def BuildMaxHeap(A):\n",
    "    AheapSize=0\n",
    "    n = AheapSize = len(A)\n",
    "    for i in range(int(n/2), 1):\n",
    "        MaxHeapify(A,i)\n",
    "\n",
    "def MaxHeapify(A,i):\n",
    "    AheapSize=0\n",
    "    n = AheapSize\n",
    "    l = 2*i+1 #Left(i)\n",
    "    r = 2*i+2 #Right(i)\n",
    "    if l<=n and A[l]>A[i]:\n",
    "        larget = l\n",
    "    else:\n",
    "        largest = i\n",
    "    if r<=n and A[r]>A[largest]:\n",
    "        largest = r\n",
    "    if largest != i:\n",
    "        A[i], A[largest] = A[largest], A[i] #exchange A[i] with A[largest]\n",
    "        MaxHeapify(A, largest)\n",
    "\n",
    "#driver code to test out ALG2()\n",
    "A = [10, 20, 9, 15, 3000]\n",
    "HeapSort(A)\n",
    "n = len(A)\n",
    "print('sorted HeapSort() array is:')\n",
    "for i in range(n):\n",
    "    print ('%d' %A[i])\n"
   ]
  },
  {
   "cell_type": "markdown",
   "metadata": {},
   "source": [
    "## Third Algorith (ALG3)\n",
    "- strategy: use the RANDOMIZED-SELECT algorithm from textbook/notes (Textbook chapter 9\n",
    "and notes Module 4.1)\n",
    "- pseudocode using ```A[1..n]```\n",
    "```\n",
    "ALG3(A,n,i)\n",
    " x = RandomSelect(A,1,n,i)\n",
    " print(x)\n",
    "```\n",
    "expected RT = O(n)\n"
   ]
  },
  {
   "cell_type": "code",
   "execution_count": null,
   "metadata": {},
   "outputs": [],
   "source": [
    "def ALG3(A,n,i):\n",
    " x = RandomSelect(A,1,n,i)\n",
    " print(x)\n",
    "\n",
    " def RandomSelect(A,p,r,i)\n",
    " "
   ]
  },
  {
   "cell_type": "markdown",
   "metadata": {},
   "source": [
    "## Main Pseudocode:\n",
    "```\n",
    "    #generate numbers for array A[1...m, 1...n]\n",
    "    m=5\n",
    "    for j=1 to m\n",
    "        for k=1 to n \n",
    "            A[j,k] = rand()\n",
    "\n",
    "    #measurements for ALG 1\n",
    "    for(N=10000, n<=20000, n=n+10000)\n",
    "        i=floor(2n/3)\n",
    "        for(j=1, j<=m, j=j+1)\n",
    "            B[1...n] = A[j, 1...n] \n",
    "            t1 = time() \n",
    "            ALG1(B,n,i)\n",
    "            t2 = time()\n",
    "            tALG1[j,n] = t2 - t1\n",
    "    #compute average\n",
    "    tAvgALG1[n] = ((tALG1[1,n] + tALG1[2,n] + ... + tALG1[m,n]) / (m))  \n",
    "\n",
    "    #repeat for ALG2\n",
    "    #repeat for ALG3\n",
    "    ```"
   ]
  },
  {
   "cell_type": "code",
   "execution_count": 141,
   "metadata": {
    "tags": []
   },
   "outputs": [
    {
     "output_type": "error",
     "ename": "KeyboardInterrupt",
     "evalue": "",
     "traceback": [
      "\u001b[1;31m---------------------------------------------------------------------------\u001b[0m",
      "\u001b[1;31mKeyboardInterrupt\u001b[0m                         Traceback (most recent call last)",
      "\u001b[1;32m<ipython-input-141-54c0fbbb982a>\u001b[0m in \u001b[0;36m<module>\u001b[1;34m\u001b[0m\n\u001b[0;32m     40\u001b[0m \u001b[1;33m\u001b[0m\u001b[0m\n\u001b[0;32m     41\u001b[0m \u001b[1;32mif\u001b[0m \u001b[0m__name__\u001b[0m \u001b[1;33m==\u001b[0m \u001b[1;34m\"__main__\"\u001b[0m\u001b[1;33m:\u001b[0m\u001b[1;33m\u001b[0m\u001b[1;33m\u001b[0m\u001b[0m\n\u001b[1;32m---> 42\u001b[1;33m     \u001b[0mmain\u001b[0m\u001b[1;33m(\u001b[0m\u001b[1;33m)\u001b[0m\u001b[1;33m\u001b[0m\u001b[1;33m\u001b[0m\u001b[0m\n\u001b[0m",
      "\u001b[1;32m<ipython-input-141-54c0fbbb982a>\u001b[0m in \u001b[0;36mmain\u001b[1;34m()\u001b[0m\n\u001b[0;32m     11\u001b[0m         \u001b[1;32mfor\u001b[0m \u001b[0mj\u001b[0m \u001b[1;32min\u001b[0m \u001b[0mrange\u001b[0m\u001b[1;33m(\u001b[0m\u001b[1;36m0\u001b[0m\u001b[1;33m,\u001b[0m\u001b[1;36m20\u001b[0m\u001b[1;33m)\u001b[0m\u001b[1;33m:\u001b[0m\u001b[1;33m\u001b[0m\u001b[1;33m\u001b[0m\u001b[0m\n\u001b[0;32m     12\u001b[0m             \u001b[0msomeRandomValue\u001b[0m \u001b[1;33m=\u001b[0m \u001b[0mrandom\u001b[0m\u001b[1;33m.\u001b[0m\u001b[0mrandint\u001b[0m\u001b[1;33m(\u001b[0m\u001b[1;36m0\u001b[0m\u001b[1;33m,\u001b[0m \u001b[1;36m5\u001b[0m\u001b[1;33m)\u001b[0m \u001b[1;31m# 1\u001b[0m\u001b[1;33m\u001b[0m\u001b[1;33m\u001b[0m\u001b[0m\n\u001b[1;32m---> 13\u001b[1;33m             \u001b[0mA\u001b[0m\u001b[1;33m[\u001b[0m\u001b[0mindex\u001b[0m\u001b[1;33m]\u001b[0m\u001b[1;33m.\u001b[0m\u001b[0mappend\u001b[0m\u001b[1;33m(\u001b[0m\u001b[0msomeRandomValue\u001b[0m\u001b[1;33m)\u001b[0m \u001b[1;31m# 2\u001b[0m\u001b[1;33m\u001b[0m\u001b[1;33m\u001b[0m\u001b[0m\n\u001b[0m\u001b[0;32m     14\u001b[0m \u001b[1;33m\u001b[0m\u001b[0m\n\u001b[0;32m     15\u001b[0m     \u001b[1;31m#measurements for alg1\u001b[0m\u001b[1;33m\u001b[0m\u001b[1;33m\u001b[0m\u001b[1;33m\u001b[0m\u001b[0m\n",
      "\u001b[1;32m<ipython-input-141-54c0fbbb982a>\u001b[0m in \u001b[0;36mmain\u001b[1;34m()\u001b[0m\n\u001b[0;32m     11\u001b[0m         \u001b[1;32mfor\u001b[0m \u001b[0mj\u001b[0m \u001b[1;32min\u001b[0m \u001b[0mrange\u001b[0m\u001b[1;33m(\u001b[0m\u001b[1;36m0\u001b[0m\u001b[1;33m,\u001b[0m\u001b[1;36m20\u001b[0m\u001b[1;33m)\u001b[0m\u001b[1;33m:\u001b[0m\u001b[1;33m\u001b[0m\u001b[1;33m\u001b[0m\u001b[0m\n\u001b[0;32m     12\u001b[0m             \u001b[0msomeRandomValue\u001b[0m \u001b[1;33m=\u001b[0m \u001b[0mrandom\u001b[0m\u001b[1;33m.\u001b[0m\u001b[0mrandint\u001b[0m\u001b[1;33m(\u001b[0m\u001b[1;36m0\u001b[0m\u001b[1;33m,\u001b[0m \u001b[1;36m5\u001b[0m\u001b[1;33m)\u001b[0m \u001b[1;31m# 1\u001b[0m\u001b[1;33m\u001b[0m\u001b[1;33m\u001b[0m\u001b[0m\n\u001b[1;32m---> 13\u001b[1;33m             \u001b[0mA\u001b[0m\u001b[1;33m[\u001b[0m\u001b[0mindex\u001b[0m\u001b[1;33m]\u001b[0m\u001b[1;33m.\u001b[0m\u001b[0mappend\u001b[0m\u001b[1;33m(\u001b[0m\u001b[0msomeRandomValue\u001b[0m\u001b[1;33m)\u001b[0m \u001b[1;31m# 2\u001b[0m\u001b[1;33m\u001b[0m\u001b[1;33m\u001b[0m\u001b[0m\n\u001b[0m\u001b[0;32m     14\u001b[0m \u001b[1;33m\u001b[0m\u001b[0m\n\u001b[0;32m     15\u001b[0m     \u001b[1;31m#measurements for alg1\u001b[0m\u001b[1;33m\u001b[0m\u001b[1;33m\u001b[0m\u001b[1;33m\u001b[0m\u001b[0m\n",
      "\u001b[1;32mc:\\Users\\rober\\.vscode\\extensions\\ms-python.python-2020.7.96456\\pythonFiles\\lib\\python\\debugpy\\_vendored\\pydevd\\_pydevd_bundle\\pydevd_frame.py\u001b[0m in \u001b[0;36mtrace_dispatch\u001b[1;34m(self, frame, event, arg)\u001b[0m\n\u001b[0;32m    980\u001b[0m                     \u001b[1;32mif\u001b[0m \u001b[0mis_line\u001b[0m\u001b[1;33m:\u001b[0m\u001b[1;33m\u001b[0m\u001b[1;33m\u001b[0m\u001b[0m\n\u001b[0;32m    981\u001b[0m                         \u001b[0mself\u001b[0m\u001b[1;33m.\u001b[0m\u001b[0mset_suspend\u001b[0m\u001b[1;33m(\u001b[0m\u001b[0mthread\u001b[0m\u001b[1;33m,\u001b[0m \u001b[0mstep_cmd\u001b[0m\u001b[1;33m,\u001b[0m \u001b[0moriginal_step_cmd\u001b[0m\u001b[1;33m=\u001b[0m\u001b[0minfo\u001b[0m\u001b[1;33m.\u001b[0m\u001b[0mpydev_original_step_cmd\u001b[0m\u001b[1;33m)\u001b[0m\u001b[1;33m\u001b[0m\u001b[1;33m\u001b[0m\u001b[0m\n\u001b[1;32m--> 982\u001b[1;33m                         \u001b[0mself\u001b[0m\u001b[1;33m.\u001b[0m\u001b[0mdo_wait_suspend\u001b[0m\u001b[1;33m(\u001b[0m\u001b[0mthread\u001b[0m\u001b[1;33m,\u001b[0m \u001b[0mframe\u001b[0m\u001b[1;33m,\u001b[0m \u001b[0mevent\u001b[0m\u001b[1;33m,\u001b[0m \u001b[0marg\u001b[0m\u001b[1;33m)\u001b[0m\u001b[1;33m\u001b[0m\u001b[1;33m\u001b[0m\u001b[0m\n\u001b[0m\u001b[0;32m    983\u001b[0m                     \u001b[1;32melif\u001b[0m \u001b[0mis_return\u001b[0m\u001b[1;33m:\u001b[0m  \u001b[1;31m# return event\u001b[0m\u001b[1;33m\u001b[0m\u001b[1;33m\u001b[0m\u001b[0m\n\u001b[0;32m    984\u001b[0m                         \u001b[0mback\u001b[0m \u001b[1;33m=\u001b[0m \u001b[0mframe\u001b[0m\u001b[1;33m.\u001b[0m\u001b[0mf_back\u001b[0m\u001b[1;33m\u001b[0m\u001b[1;33m\u001b[0m\u001b[0m\n",
      "\u001b[1;32mc:\\Users\\rober\\.vscode\\extensions\\ms-python.python-2020.7.96456\\pythonFiles\\lib\\python\\debugpy\\_vendored\\pydevd\\_pydevd_bundle\\pydevd_frame.py\u001b[0m in \u001b[0;36mdo_wait_suspend\u001b[1;34m(self, *args, **kwargs)\u001b[0m\n\u001b[0;32m    153\u001b[0m \u001b[1;33m\u001b[0m\u001b[0m\n\u001b[0;32m    154\u001b[0m     \u001b[1;32mdef\u001b[0m \u001b[0mdo_wait_suspend\u001b[0m\u001b[1;33m(\u001b[0m\u001b[0mself\u001b[0m\u001b[1;33m,\u001b[0m \u001b[1;33m*\u001b[0m\u001b[0margs\u001b[0m\u001b[1;33m,\u001b[0m \u001b[1;33m**\u001b[0m\u001b[0mkwargs\u001b[0m\u001b[1;33m)\u001b[0m\u001b[1;33m:\u001b[0m\u001b[1;33m\u001b[0m\u001b[1;33m\u001b[0m\u001b[0m\n\u001b[1;32m--> 155\u001b[1;33m         \u001b[0mself\u001b[0m\u001b[1;33m.\u001b[0m\u001b[0m_args\u001b[0m\u001b[1;33m[\u001b[0m\u001b[1;36m0\u001b[0m\u001b[1;33m]\u001b[0m\u001b[1;33m.\u001b[0m\u001b[0mdo_wait_suspend\u001b[0m\u001b[1;33m(\u001b[0m\u001b[1;33m*\u001b[0m\u001b[0margs\u001b[0m\u001b[1;33m,\u001b[0m \u001b[1;33m**\u001b[0m\u001b[0mkwargs\u001b[0m\u001b[1;33m)\u001b[0m\u001b[1;33m\u001b[0m\u001b[1;33m\u001b[0m\u001b[0m\n\u001b[0m\u001b[0;32m    156\u001b[0m \u001b[1;33m\u001b[0m\u001b[0m\n\u001b[0;32m    157\u001b[0m     \u001b[1;31m# IFDEF CYTHON\u001b[0m\u001b[1;33m\u001b[0m\u001b[1;33m\u001b[0m\u001b[1;33m\u001b[0m\u001b[0m\n",
      "\u001b[1;32mc:\\Users\\rober\\.vscode\\extensions\\ms-python.python-2020.7.96456\\pythonFiles\\lib\\python\\debugpy\\_vendored\\pydevd\\pydevd.py\u001b[0m in \u001b[0;36mdo_wait_suspend\u001b[1;34m(self, thread, frame, event, arg, is_unhandled_exception)\u001b[0m\n\u001b[0;32m   1839\u001b[0m \u001b[1;33m\u001b[0m\u001b[0m\n\u001b[0;32m   1840\u001b[0m             \u001b[1;32mwith\u001b[0m \u001b[0mself\u001b[0m\u001b[1;33m.\u001b[0m\u001b[0m_threads_suspended_single_notification\u001b[0m\u001b[1;33m.\u001b[0m\u001b[0mnotify_thread_suspended\u001b[0m\u001b[1;33m(\u001b[0m\u001b[0mthread_id\u001b[0m\u001b[1;33m,\u001b[0m \u001b[0mstop_reason\u001b[0m\u001b[1;33m)\u001b[0m\u001b[1;33m:\u001b[0m\u001b[1;33m\u001b[0m\u001b[1;33m\u001b[0m\u001b[0m\n\u001b[1;32m-> 1841\u001b[1;33m                 \u001b[0mkeep_suspended\u001b[0m \u001b[1;33m=\u001b[0m \u001b[0mself\u001b[0m\u001b[1;33m.\u001b[0m\u001b[0m_do_wait_suspend\u001b[0m\u001b[1;33m(\u001b[0m\u001b[0mthread\u001b[0m\u001b[1;33m,\u001b[0m \u001b[0mframe\u001b[0m\u001b[1;33m,\u001b[0m \u001b[0mevent\u001b[0m\u001b[1;33m,\u001b[0m \u001b[0marg\u001b[0m\u001b[1;33m,\u001b[0m \u001b[0msuspend_type\u001b[0m\u001b[1;33m,\u001b[0m \u001b[0mfrom_this_thread\u001b[0m\u001b[1;33m,\u001b[0m \u001b[0mframes_tracker\u001b[0m\u001b[1;33m)\u001b[0m\u001b[1;33m\u001b[0m\u001b[1;33m\u001b[0m\u001b[0m\n\u001b[0m\u001b[0;32m   1842\u001b[0m \u001b[1;33m\u001b[0m\u001b[0m\n\u001b[0;32m   1843\u001b[0m         \u001b[0mframes_list\u001b[0m \u001b[1;33m=\u001b[0m \u001b[1;32mNone\u001b[0m\u001b[1;33m\u001b[0m\u001b[1;33m\u001b[0m\u001b[0m\n",
      "\u001b[1;32mc:\\Users\\rober\\.vscode\\extensions\\ms-python.python-2020.7.96456\\pythonFiles\\lib\\python\\debugpy\\_vendored\\pydevd\\pydevd.py\u001b[0m in \u001b[0;36m_do_wait_suspend\u001b[1;34m(self, thread, frame, event, arg, suspend_type, from_this_thread, frames_tracker)\u001b[0m\n\u001b[0;32m   1872\u001b[0m \u001b[1;33m\u001b[0m\u001b[0m\n\u001b[0;32m   1873\u001b[0m             \u001b[0mself\u001b[0m\u001b[1;33m.\u001b[0m\u001b[0mprocess_internal_commands\u001b[0m\u001b[1;33m(\u001b[0m\u001b[1;33m)\u001b[0m\u001b[1;33m\u001b[0m\u001b[1;33m\u001b[0m\u001b[0m\n\u001b[1;32m-> 1874\u001b[1;33m             \u001b[0mtime\u001b[0m\u001b[1;33m.\u001b[0m\u001b[0msleep\u001b[0m\u001b[1;33m(\u001b[0m\u001b[1;36m0.01\u001b[0m\u001b[1;33m)\u001b[0m\u001b[1;33m\u001b[0m\u001b[1;33m\u001b[0m\u001b[0m\n\u001b[0m\u001b[0;32m   1875\u001b[0m \u001b[1;33m\u001b[0m\u001b[0m\n\u001b[0;32m   1876\u001b[0m         \u001b[0mself\u001b[0m\u001b[1;33m.\u001b[0m\u001b[0mcancel_async_evaluation\u001b[0m\u001b[1;33m(\u001b[0m\u001b[0mget_current_thread_id\u001b[0m\u001b[1;33m(\u001b[0m\u001b[0mthread\u001b[0m\u001b[1;33m)\u001b[0m\u001b[1;33m,\u001b[0m \u001b[0mstr\u001b[0m\u001b[1;33m(\u001b[0m\u001b[0mid\u001b[0m\u001b[1;33m(\u001b[0m\u001b[0mframe\u001b[0m\u001b[1;33m)\u001b[0m\u001b[1;33m)\u001b[0m\u001b[1;33m)\u001b[0m\u001b[1;33m\u001b[0m\u001b[1;33m\u001b[0m\u001b[0m\n",
      "\u001b[1;31mKeyboardInterrupt\u001b[0m: "
     ]
    }
   ],
   "source": [
    "import random\n",
    "from timeit import default_timer as timer\n",
    "\n",
    "def main():\n",
    "    A = [[],[],[],[],[]]\n",
    "    \n",
    "    #And then use two for loops to add random values to A.\n",
    "    # The syntax would look something like:\n",
    "    for index in range(0,5):\n",
    "        for j in range(0,20):\n",
    "            someRandomValue = random.randint(0, 5) # 1 \n",
    "            A[index].append(someRandomValue) # 2 \n",
    "\n",
    "    #measurements for alg1\n",
    "    start = timer()\n",
    "    n = 10\n",
    "    for n in range(10, 20, n+100):\n",
    "        floor = 2*n / 3\n",
    "        i = floor\n",
    "        for j in range(1, int(n>=j), j+1): #4\n",
    "            B[1,n] = A[j,n-1]\n",
    "            t1 = timer()\n",
    "            ALG1(A,n,i) # 3 \n",
    "            t2 = timer()\n",
    "            tALG1[j,n] = t2 - t1  \n",
    "    end = timer()\n",
    "    \n",
    "    #measurement alg2\n",
    "    start = timer()\n",
    "    n = 10\n",
    "    for n in range(10, 20, n+100):\n",
    "        floor = 2*n / 3\n",
    "        i = floor\n",
    "        for j in range(1, int(m >= j), j+1): #4\n",
    "            B[1,n] = A[j,n-1]\n",
    "            t1 = timer()\n",
    "            ALG2(A,n,i) # 3 \n",
    "            t2 = timer()\n",
    "            tALG1[j,n] = t2 - t1  \n",
    "    end = timer()\n",
    "\n",
    "    #measurement alg3\n",
    "    start = timer()\n",
    "    n = 10\n",
    "    for n in range(10, 20, n+100):\n",
    "        floor = 2*n / 3\n",
    "        i = floor\n",
    "        for j in range(1, int(m >= j), j+1): #4\n",
    "            B[1,n] = A[j,n-1]\n",
    "            t1 = timer()\n",
    "            ALG2(A,n,i) # 3 \n",
    "            t2 = timer()\n",
    "            tALG1[j,n] = t2 - t1  \n",
    "    end = timer()\n",
    "\n",
    "    #compute average\n",
    "    #tAvgALG1[n] = ((tALG1[1,n] + tALG1[2,n] + ... + tALG1[m,n]) / (m))  \n",
    " \n",
    "\n",
    "\n",
    "\n",
    "\n",
    "if __name__ == \"__main__\":\n",
    "    main()"
   ]
  },
  {
   "cell_type": "markdown",
   "metadata": {},
   "source": [
    "1. use random library to get this value\n",
    "2. The append() method in python adds a single item to the existing list. It doesn’t return a new list of items but will modify the original list by adding the item to the end of the list.\n",
    "3. the alg is in InsertionSort def, how should i rename or rescructor the fucition\n",
    "4. https://stackoverflow.com/questions/47311352/how-to-convert-c-for-loop-to-python/47311467"
   ]
  },
  {
   "cell_type": "markdown",
   "metadata": {},
   "source": [
    "-----\n",
    "# Planning of the Experiments\n",
    "\n",
    "- Decide which programming language you want to use C, C++, Java, or Python\n",
    "- We will measure the RT for the following input sizes n = 10000, 20000, 30000, 40000, …. 200000. More specifically, n takes 20 values from 10k to 200k with increment of 10k.\n",
    "- The number of iterations (or runs) for each value of n is m = 5 iterations. For example, for n = 10000 elements, you will measure the RT of each algorithm on m = 5 different arrays of length 10000 and report the average RT.\n",
    "- In this project, let us take i = ¬2n/3¼ for all the experiments\n",
    "- You need to run all three algorithms on exactly the same input arrays\n",
    "- To generate the arrays A, use a random number generator. Then for each array instance run the algorithms. One option is to use rand() which generates a random number between 0 and RAND_MAX = 32767. Include #include<stdlib.h>\n",
    "- To measure the running time, you need a function to return the current time, such as \"gettimeofday\" which gives the time in sec and microseconds. Use \"man gettimeofday\" to see the manual description. Then you call this function before and after you run the algorithm and compute the running time as the difference of the two values."
   ]
  },
  {
   "cell_type": "markdown",
   "metadata": {},
   "source": [
    "----\n",
    "# Tables and Graphs for the Project Report\n",
    "\n"
   ]
  }
 ]
}