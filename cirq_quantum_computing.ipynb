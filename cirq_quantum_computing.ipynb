{
  "nbformat": 4,
  "nbformat_minor": 0,
  "metadata": {
    "colab": {
      "name": "cirq-quantum-computing.ipynb",
      "provenance": [],
      "include_colab_link": true
    },
    "kernelspec": {
      "name": "python3",
      "display_name": "Python 3.8.5 64-bit ('base': conda)"
    }
  },
  "cells": [
    {
      "cell_type": "markdown",
      "metadata": {
        "id": "view-in-github",
        "colab_type": "text"
      },
      "source": [
        "<a href=\"https://colab.research.google.com/github/rogerthatrob/Practice/blob/master/cirq_quantum_computing.ipynb\" target=\"_parent\"><img src=\"https://colab.research.google.com/assets/colab-badge.svg\" alt=\"Open In Colab\"/></a>"
      ]
    },
    {
      "cell_type": "markdown",
      "metadata": {
        "id": "EQ5Ne9jCetyQ",
        "colab_type": "text"
      },
      "source": [
        "# Introduction to Quantum Computing with Cirq\n",
        "\n",
        "### Speaker: [Syed Farhan](https://www.linkedin.com/in/syedfarhanahmad/)\n",
        "\n",
        "\n",
        "This is a level 1 tutorial that will take you through the following:\n",
        "\n",
        "- Introduction to Cirq\n",
        "- Creating and assigning qubits\n",
        "- Creating your first Quantum Circuit\n",
        "- Working with Quantum Gates\n",
        "  - H - Gate(Hadamard)\n",
        "  - X - Gate(Pauli X)\n",
        "  - CNOT Gate\n",
        "  - CCNOT Gate\n",
        "- Create a Random Number Generator\n",
        "- Entangling 2 qubits[ Bell State]"
      ]
    },
    {
      "cell_type": "markdown",
      "metadata": {
        "id": "cQYkxHhlfDI8",
        "colab_type": "text"
      },
      "source": [
        "### Running Python code cells\n",
        "\n",
        "Click the cell below this one and type **Shift+Enter** (or click the 'play' button on the left) to run the Python code it contains."
      ]
    },
    {
      "cell_type": "code",
      "metadata": {
        "id": "TmHKFN0CeSvF",
        "colab_type": "code",
        "colab": {
          "base_uri": "https://localhost:8080/",
          "height": 35
        },
        "outputId": "9b04d04c-598c-41fe-d349-84ff405cc644"
      },
      "source": [
        "print('Hello Quantum!!')"
      ],
      "execution_count": 1,
      "outputs": [
        {
          "output_type": "stream",
          "name": "stdout",
          "text": [
            "Hello Quantum!!\n"
          ]
        }
      ]
    },
    {
      "cell_type": "markdown",
      "metadata": {
        "id": "4Th0grNjfGd-",
        "colab_type": "text"
      },
      "source": [
        "### Setting up dependencies\n",
        "The server hosting our notebooks has no idea what kinds of dependencies our programs will have. Therefore at the beginning of each notebook we need to set up an environment with all the packages we'll want. This requires a few commands that are not strictly Python.\n",
        "\n",
        "Run the next cell to install Cirq"
      ]
    },
    {
      "cell_type": "code",
      "metadata": {
        "id": "gdZszk4ufFlW",
        "colab_type": "code",
        "colab": {
          "base_uri": "https://localhost:8080/",
          "height": 746
        },
        "outputId": "a2c57bd6-0d82-471f-a1a2-f399c51d8629"
      },
      "source": [
        "!pip install cirq"
      ],
      "execution_count": 2,
      "outputs": [
        {
          "output_type": "stream",
          "name": "stdout",
          "text": [
            "Collecting cirq\n",
            "  Downloading cirq-0.10.0-py3-none-any.whl (1.8 MB)\n",
            "\u001b[K     |████████████████████████████████| 1.8 MB 5.8 MB/s \n",
            "\u001b[?25hRequirement already satisfied: scipy in /Users/roberthaire/opt/anaconda3/lib/python3.8/site-packages (from cirq) (1.5.2)\n",
            "Requirement already satisfied: sortedcontainers~=2.0 in /Users/roberthaire/opt/anaconda3/lib/python3.8/site-packages (from cirq) (2.2.2)\n",
            "Collecting google-api-core[grpc]<2.0.0dev,>=1.14.0\n",
            "  Downloading google_api_core-1.26.3-py2.py3-none-any.whl (93 kB)\n",
            "\u001b[K     |████████████████████████████████| 93 kB 3.1 MB/s \n",
            "\u001b[?25hRequirement already satisfied: tqdm in /Users/roberthaire/opt/anaconda3/lib/python3.8/site-packages (from cirq) (4.50.2)\n",
            "Requirement already satisfied: matplotlib~=3.0 in /Users/roberthaire/opt/anaconda3/lib/python3.8/site-packages (from cirq) (3.3.2)\n",
            "Requirement already satisfied: sympy in /Users/roberthaire/opt/anaconda3/lib/python3.8/site-packages (from cirq) (1.6.2)\n",
            "Collecting protobuf~=3.13.0\n",
            "  Downloading protobuf-3.13.0-cp38-cp38-macosx_10_9_x86_64.whl (1.3 MB)\n",
            "\u001b[K     |████████████████████████████████| 1.3 MB 13.9 MB/s \n",
            "\u001b[?25hRequirement already satisfied: typing-extensions in /Users/roberthaire/opt/anaconda3/lib/python3.8/site-packages (from cirq) (3.7.4.3)\n",
            "Requirement already satisfied: numpy~=1.16 in /Users/roberthaire/opt/anaconda3/lib/python3.8/site-packages (from cirq) (1.19.2)\n",
            "Requirement already satisfied: requests~=2.18 in /Users/roberthaire/opt/anaconda3/lib/python3.8/site-packages (from cirq) (2.24.0)\n",
            "Requirement already satisfied: networkx~=2.4 in /Users/roberthaire/opt/anaconda3/lib/python3.8/site-packages (from cirq) (2.5)\n",
            "Requirement already satisfied: pandas in /Users/roberthaire/opt/anaconda3/lib/python3.8/site-packages (from cirq) (1.1.3)\n",
            "Requirement already satisfied: pytz in /Users/roberthaire/opt/anaconda3/lib/python3.8/site-packages (from google-api-core[grpc]<2.0.0dev,>=1.14.0->cirq) (2020.1)\n",
            "Collecting google-auth<2.0dev,>=1.21.1\n",
            "  Downloading google_auth-1.29.0-py2.py3-none-any.whl (142 kB)\n",
            "\u001b[K     |████████████████████████████████| 142 kB 13.0 MB/s \n",
            "\u001b[?25hRequirement already satisfied: six>=1.13.0 in /Users/roberthaire/opt/anaconda3/lib/python3.8/site-packages (from google-api-core[grpc]<2.0.0dev,>=1.14.0->cirq) (1.15.0)\n",
            "Collecting googleapis-common-protos<2.0dev,>=1.6.0\n",
            "  Downloading googleapis_common_protos-1.53.0-py2.py3-none-any.whl (198 kB)\n",
            "\u001b[K     |████████████████████████████████| 198 kB 20.5 MB/s \n",
            "\u001b[?25hRequirement already satisfied: setuptools>=40.3.0 in /Users/roberthaire/opt/anaconda3/lib/python3.8/site-packages (from google-api-core[grpc]<2.0.0dev,>=1.14.0->cirq) (50.3.1.post20201107)\n",
            "Requirement already satisfied: packaging>=14.3 in /Users/roberthaire/opt/anaconda3/lib/python3.8/site-packages (from google-api-core[grpc]<2.0.0dev,>=1.14.0->cirq) (20.4)\n",
            "Collecting grpcio<2.0dev,>=1.29.0; extra == \"grpc\"\n",
            "  Downloading grpcio-1.37.0-cp38-cp38-macosx_10_10_x86_64.whl (3.9 MB)\n",
            "\u001b[K     |████████████████████████████████| 3.9 MB 21.6 MB/s \n",
            "\u001b[?25hRequirement already satisfied: pyparsing!=2.0.4,!=2.1.2,!=2.1.6,>=2.0.3 in /Users/roberthaire/opt/anaconda3/lib/python3.8/site-packages (from matplotlib~=3.0->cirq) (2.4.7)\n",
            "Requirement already satisfied: pillow>=6.2.0 in /Users/roberthaire/opt/anaconda3/lib/python3.8/site-packages (from matplotlib~=3.0->cirq) (8.0.1)\n",
            "Requirement already satisfied: certifi>=2020.06.20 in /Users/roberthaire/opt/anaconda3/lib/python3.8/site-packages (from matplotlib~=3.0->cirq) (2020.12.5)\n",
            "Requirement already satisfied: python-dateutil>=2.1 in /Users/roberthaire/opt/anaconda3/lib/python3.8/site-packages (from matplotlib~=3.0->cirq) (2.8.1)\n",
            "Requirement already satisfied: cycler>=0.10 in /Users/roberthaire/opt/anaconda3/lib/python3.8/site-packages (from matplotlib~=3.0->cirq) (0.10.0)\n",
            "Requirement already satisfied: kiwisolver>=1.0.1 in /Users/roberthaire/opt/anaconda3/lib/python3.8/site-packages (from matplotlib~=3.0->cirq) (1.3.0)\n",
            "Requirement already satisfied: mpmath>=0.19 in /Users/roberthaire/opt/anaconda3/lib/python3.8/site-packages (from sympy->cirq) (1.1.0)\n",
            "Requirement already satisfied: urllib3!=1.25.0,!=1.25.1,<1.26,>=1.21.1 in /Users/roberthaire/opt/anaconda3/lib/python3.8/site-packages (from requests~=2.18->cirq) (1.25.11)\n",
            "Requirement already satisfied: idna<3,>=2.5 in /Users/roberthaire/opt/anaconda3/lib/python3.8/site-packages (from requests~=2.18->cirq) (2.10)\n",
            "Requirement already satisfied: chardet<4,>=3.0.2 in /Users/roberthaire/opt/anaconda3/lib/python3.8/site-packages (from requests~=2.18->cirq) (3.0.4)\n",
            "Requirement already satisfied: decorator>=4.3.0 in /Users/roberthaire/opt/anaconda3/lib/python3.8/site-packages (from networkx~=2.4->cirq) (4.4.2)\n",
            "Collecting cachetools<5.0,>=2.0.0\n",
            "  Downloading cachetools-4.2.1-py3-none-any.whl (12 kB)\n",
            "Collecting pyasn1-modules>=0.2.1\n",
            "  Downloading pyasn1_modules-0.2.8-py2.py3-none-any.whl (155 kB)\n",
            "\u001b[K     |████████████████████████████████| 155 kB 39.8 MB/s \n",
            "\u001b[?25hCollecting rsa<5,>=3.1.4; python_version >= \"3.6\"\n",
            "  Downloading rsa-4.7.2-py3-none-any.whl (34 kB)\n",
            "Collecting pyasn1<0.5.0,>=0.4.6\n",
            "  Downloading pyasn1-0.4.8-py2.py3-none-any.whl (77 kB)\n",
            "\u001b[K     |████████████████████████████████| 77 kB 6.3 MB/s \n",
            "\u001b[?25hInstalling collected packages: cachetools, pyasn1, pyasn1-modules, rsa, google-auth, protobuf, googleapis-common-protos, grpcio, google-api-core, cirq\n",
            "Successfully installed cachetools-4.2.1 cirq-0.10.0 google-api-core-1.26.3 google-auth-1.29.0 googleapis-common-protos-1.53.0 grpcio-1.37.0 protobuf-3.13.0 pyasn1-0.4.8 pyasn1-modules-0.2.8 rsa-4.7.2\n"
          ]
        }
      ]
    },
    {
      "cell_type": "markdown",
      "metadata": {
        "id": "sK8nDW3xfLr8",
        "colab_type": "text"
      },
      "source": [
        "Now we're ready to write code with Cirq!\n",
        "\n",
        "### Create a Random Number Generator Circuit\n",
        "\n",
        "- import the cirq package\n",
        "- Initialize a qubit using **cirq.LineQubit**  \n",
        "- Create a simple **Quantum Cirquit**, by applying H-gate to the qubit.\n",
        "- Display Circuit "
      ]
    },
    {
      "cell_type": "code",
      "metadata": {
        "id": "cKLefJ-cfPci",
        "colab_type": "code",
        "colab": {}
      },
      "source": [
        "#import the cirq package\n",
        "import cirq"
      ],
      "execution_count": 3,
      "outputs": []
    },
    {
      "cell_type": "code",
      "metadata": {
        "id": "Af3vcw72fQB2",
        "colab_type": "code",
        "colab": {}
      },
      "source": [
        "q = cirq.LineQubit(0)\n",
        "\n",
        "# Create a Quantum circuit\n",
        "randomNumberGenerator = cirq.Circuit()"
      ],
      "execution_count": null,
      "outputs": []
    },
    {
      "cell_type": "code",
      "metadata": {
        "id": "J4a0N5HgfRIQ",
        "colab_type": "code",
        "colab": {}
      },
      "source": [
        "# Add a Hadamard gate and measurement tool to this circuit\n",
        "randomNumberGenerator.append([cirq.H(q),\n",
        "             cirq.measure(q, key='r')])"
      ],
      "execution_count": null,
      "outputs": []
    },
    {
      "cell_type": "code",
      "metadata": {
        "id": "ckJrjgSWfTy9",
        "colab_type": "code",
        "colab": {
          "base_uri": "https://localhost:8080/",
          "height": 35
        },
        "outputId": "c8aebb3b-5596-4123-bd20-9b52baa7e981"
      },
      "source": [
        "#display circuit\n",
        "print(randomNumberGenerator)"
      ],
      "execution_count": null,
      "outputs": [
        {
          "output_type": "stream",
          "text": [
            "0: ───H───M('r')───\n"
          ],
          "name": "stdout"
        }
      ]
    },
    {
      "cell_type": "markdown",
      "metadata": {
        "id": "3i_Bq58VfV_5",
        "colab_type": "text"
      },
      "source": [
        "### Displaying an SVG circuit"
      ]
    },
    {
      "cell_type": "code",
      "metadata": {
        "id": "TtkYfFQtfWs7",
        "colab_type": "code",
        "colab": {
          "base_uri": "https://localhost:8080/",
          "height": 89
        },
        "outputId": "f838cb08-7ef8-45fe-a783-da6b1341cc11"
      },
      "source": [
        "# Here I'm defining a utility function to print circuits nicely using an svg\n",
        "from cirq.contrib.svg import circuit_to_svg\n",
        "from IPython.display import SVG, display\n",
        "import os\n",
        "\n",
        "def svg_circuit(circuit):\n",
        "  \"\"\"Convert the cirq.Circuit to a temp svg and display + garbage collect.\"\"\"\n",
        "  with open(\"temp.svg\", 'w+') as f:\n",
        "    f.write(circuit_to_svg(circuit))\n",
        "  display(SVG('temp.svg'))\n",
        "  os.remove('temp.svg')\n",
        "\n",
        "# Now we can use the above-defined function anywhere in the notebook\n",
        "svg_circuit(randomNumberGenerator)"
      ],
      "execution_count": null,
      "outputs": [
        {
          "output_type": "stream",
          "text": [
            "findfont: Font family ['Arial'] not found. Falling back to DejaVu Sans.\n"
          ],
          "name": "stderr"
        },
        {
          "output_type": "display_data",
          "data": {
            "text/plain": [
              "<IPython.core.display.SVG object>"
            ],
            "image/svg+xml": "<svg height=\"50.0\" width=\"223.879453125\" xmlns=\"http://www.w3.org/2000/svg\"><line stroke=\"#1967d2\" stroke-width=\"1\" x1=\"30.0\" x2=\"193.879453125\" y1=\"25.0\" y2=\"25.0\"/><rect fill=\"white\" height=\"40\" stroke=\"black\" stroke-width=\"0\" width=\"40\" x=\"10.0\" y=\"5.0\"/><text dominant-baseline=\"middle\" font-size=\"14px\" text-anchor=\"middle\" x=\"30.0\" y=\"25.0\">0: </text><rect fill=\"white\" height=\"40\" stroke=\"black\" stroke-width=\"1\" width=\"40\" x=\"70.0\" y=\"5.0\"/><text dominant-baseline=\"middle\" font-size=\"18px\" text-anchor=\"middle\" x=\"90.0\" y=\"25.0\">H</text><rect fill=\"white\" height=\"40\" stroke=\"black\" stroke-width=\"1\" width=\"43.879453125000005\" x=\"130.0\" y=\"5.0\"/><text dominant-baseline=\"middle\" font-size=\"14px\" text-anchor=\"middle\" x=\"151.9397265625\" y=\"25.0\">M('r')</text></svg>"
          },
          "metadata": {
            "tags": []
          }
        }
      ]
    },
    {
      "cell_type": "markdown",
      "metadata": {
        "id": "yO-3pBVffafk",
        "colab_type": "text"
      },
      "source": [
        "  ### Quantum Simulators\n",
        "\n",
        "  <p style=\"text-align: justify;\"> \n",
        "  Cirq provides two quantum computer simulators, the `Simulator` and the `XmonSimulator`, to locally execute quantum algorithms. The `Simulator` works for generic gates that implement their unitary matrix. The `XmonSimulator` is specialized for the native gate set of Google's quantum computers and can utilize multi-threading to improve performance in certain cases.\n",
        "  </p>\n",
        "\n",
        "  <p style=\"text-align: justify;\"> \n",
        "  To run the random bit generator circuit above with the `Simulator`, we can do the following:\n",
        "  </p>"
      ]
    },
    {
      "cell_type": "code",
      "metadata": {
        "id": "D2Nfs1IXfbij",
        "colab_type": "code",
        "colab": {
          "base_uri": "https://localhost:8080/",
          "height": 35
        },
        "outputId": "9ee8c152-e22d-4024-b5c1-309d937c80ba"
      },
      "source": [
        "# get the simulator\n",
        "simulator = cirq.Simulator()\n",
        "\n",
        "# run the circuit\n",
        "out = simulator.run(randomNumberGenerator, repetitions=50)\n",
        "\n",
        "# get the results and display them\n",
        "randomNumbers = out.histogram(key=\"r\")\n",
        "print(randomNumbers)"
      ],
      "execution_count": null,
      "outputs": [
        {
          "output_type": "stream",
          "text": [
            "Counter({1: 27, 0: 23})\n"
          ],
          "name": "stdout"
        }
      ]
    },
    {
      "cell_type": "code",
      "metadata": {
        "id": "K8O4ETfGfd7M",
        "colab_type": "code",
        "colab": {
          "base_uri": "https://localhost:8080/",
          "height": 297
        },
        "outputId": "515c7264-14f5-4608-c995-55408f689ca0"
      },
      "source": [
        "# Display the result as a Histogram\n",
        "randomHistogram = cirq.plot_state_histogram(out)\n",
        "print(\"counts =\", randomHistogram)"
      ],
      "execution_count": null,
      "outputs": [
        {
          "output_type": "display_data",
          "data": {
            "image/png": "[encoded data removed]",
            "text/plain": [
              "<Figure size 432x288 with 1 Axes>"
            ]
          },
          "metadata": {
            "tags": [],
            "needs_background": "light"
          }
        },
        {
          "output_type": "stream",
          "text": [
            "counts = [23. 27.]\n"
          ],
          "name": "stdout"
        }
      ]
    },
    {
      "cell_type": "code",
      "metadata": {
        "id": "_zxwKPT9ffyB",
        "colab_type": "code",
        "colab": {
          "base_uri": "https://localhost:8080/",
          "height": 617
        },
        "outputId": "22bb066a-cbda-438a-b2ad-5aeb4335f53f"
      },
      "source": [
        "\"\"\"Print out the architecture of the Bristlecone quantum computer.\n",
        "The 72-qubit Bristlecone computer, with which quantum supremacy may be demonstrated on, \n",
        "can be displayed similarly:\"\"\"\n",
        "s = \"Bristlecone has {} qubits arranged as follows:\\n\"\n",
        "print(s.format(len(cirq.google.Bristlecone.qubits)))\n",
        "print(cirq.google.Bristlecone)"
      ],
      "execution_count": null,
      "outputs": [
        {
          "output_type": "stream",
          "text": [
            "Bristlecone has 72 qubits arranged as follows:\n",
            "\n",
            "                                             (0, 5)────(0, 6)\n",
            "                                             │         │\n",
            "                                             │         │\n",
            "                                    (1, 4)───(1, 5)────(1, 6)────(1, 7)\n",
            "                                    │        │         │         │\n",
            "                                    │        │         │         │\n",
            "                           (2, 3)───(2, 4)───(2, 5)────(2, 6)────(2, 7)───(2, 8)\n",
            "                           │        │        │         │         │        │\n",
            "                           │        │        │         │         │        │\n",
            "                  (3, 2)───(3, 3)───(3, 4)───(3, 5)────(3, 6)────(3, 7)───(3, 8)───(3, 9)\n",
            "                  │        │        │        │         │         │        │        │\n",
            "                  │        │        │        │         │         │        │        │\n",
            "         (4, 1)───(4, 2)───(4, 3)───(4, 4)───(4, 5)────(4, 6)────(4, 7)───(4, 8)───(4, 9)───(4, 10)\n",
            "         │        │        │        │        │         │         │        │        │        │\n",
            "         │        │        │        │        │         │         │        │        │        │\n",
            "(5, 0)───(5, 1)───(5, 2)───(5, 3)───(5, 4)───(5, 5)────(5, 6)────(5, 7)───(5, 8)───(5, 9)───(5, 10)───(5, 11)\n",
            "         │        │        │        │        │         │         │        │        │        │\n",
            "         │        │        │        │        │         │         │        │        │        │\n",
            "         (6, 1)───(6, 2)───(6, 3)───(6, 4)───(6, 5)────(6, 6)────(6, 7)───(6, 8)───(6, 9)───(6, 10)\n",
            "                  │        │        │        │         │         │        │        │\n",
            "                  │        │        │        │         │         │        │        │\n",
            "                  (7, 2)───(7, 3)───(7, 4)───(7, 5)────(7, 6)────(7, 7)───(7, 8)───(7, 9)\n",
            "                           │        │        │         │         │        │\n",
            "                           │        │        │         │         │        │\n",
            "                           (8, 3)───(8, 4)───(8, 5)────(8, 6)────(8, 7)───(8, 8)\n",
            "                                    │        │         │         │\n",
            "                                    │        │         │         │\n",
            "                                    (9, 4)───(9, 5)────(9, 6)────(9, 7)\n",
            "                                             │         │\n",
            "                                             │         │\n",
            "                                             (10, 5)───(10, 6)\n"
          ],
          "name": "stdout"
        }
      ]
    },
    {
      "cell_type": "markdown",
      "metadata": {
        "id": "rzCg8ScqfjsC",
        "colab_type": "text"
      },
      "source": [
        "# Entangle 2 qubits [Bell state]\n",
        "\n",
        "Create a circuit to generate a Bell State:  \n",
        "1/sqrt(2) * ( |00> + |11> )"
      ]
    },
    {
      "cell_type": "code",
      "metadata": {
        "id": "w523olZoflTy",
        "colab_type": "code",
        "colab": {
          "base_uri": "https://localhost:8080/",
          "height": 199
        },
        "outputId": "030a262a-2abe-49c1-ae53-af9898297af6"
      },
      "source": [
        "bell_circuit = cirq.Circuit()\n",
        "q0, q1 = cirq.LineQubit.range(2)\n",
        "\n",
        "# apply H-gate\n",
        "bell_circuit.append(cirq.H(q0))\n",
        "# apply CNOT Gate\n",
        "bell_circuit.append(cirq.CNOT(q0, q1))\n",
        "\n",
        "# display circuit\n",
        "print(bell_circuit)\n",
        "\n",
        "# Initialize Simulator\n",
        "s=cirq.Simulator()\n",
        "\n",
        "print('Simulate the circuit:')\n",
        "results=s.simulate(bell_circuit)\n",
        "print(results)\n",
        "print()\n",
        "\n",
        "# For sampling, we need to add a measurement at the end\n",
        "bell_circuit.append(cirq.measure(q0, q1, key='q'))\n",
        "\n",
        "print('Sample the circuit:')\n",
        "samples=s.run(bell_circuit, repetitions=20)\n",
        "\n",
        "print()\n",
        "# Print a histogram of results\n",
        "print(samples.histogram(key='q'))"
      ],
      "execution_count": null,
      "outputs": [
        {
          "output_type": "stream",
          "text": [
            "0: ───H───@───\n",
            "          │\n",
            "1: ───────X───\n",
            "Simulate the circuit:\n",
            "measurements: (no measurements)\n",
            "output vector: 0.707|00⟩ + 0.707|11⟩\n",
            "\n",
            "Sample the circuit:\n",
            "\n",
            "Counter({0: 10, 3: 10})\n"
          ],
          "name": "stdout"
        }
      ]
    },
    {
      "cell_type": "code",
      "metadata": {
        "id": "DaEoJSSvfotT",
        "colab_type": "code",
        "colab": {
          "base_uri": "https://localhost:8080/",
          "height": 35
        },
        "outputId": "b070cdaf-5084-430e-bce7-1f5ff6b8d40c"
      },
      "source": [
        "# Result after measurement\n",
        "print(samples)"
      ],
      "execution_count": null,
      "outputs": [
        {
          "output_type": "stream",
          "text": [
            "q=00011101011011010010, 00011101011011010010\n"
          ],
          "name": "stdout"
        }
      ]
    },
    {
      "cell_type": "code",
      "metadata": {
        "id": "ZY7LH8dYfqaq",
        "colab_type": "code",
        "colab": {
          "base_uri": "https://localhost:8080/",
          "height": 121
        },
        "outputId": "5f2ba239-0fa4-4275-8b71-c54606a92ffa"
      },
      "source": [
        "# diaply the circuit in svg format\n",
        "svg_circuit(bell_circuit)"
      ],
      "execution_count": null,
      "outputs": [
        {
          "output_type": "display_data",
          "data": {
            "text/plain": [
              "<IPython.core.display.SVG object>"
            ],
            "image/svg+xml": "<svg height=\"100.0\" width=\"287.0103125\" xmlns=\"http://www.w3.org/2000/svg\"><line stroke=\"#1967d2\" stroke-width=\"1\" x1=\"30.0\" x2=\"257.0103125\" y1=\"25.0\" y2=\"25.0\"/><line stroke=\"#1967d2\" stroke-width=\"1\" x1=\"30.0\" x2=\"257.0103125\" y1=\"75.0\" y2=\"75.0\"/><line stroke=\"black\" stroke-width=\"3\" x1=\"150.0\" x2=\"150.0\" y1=\"25.0\" y2=\"75.0\"/><line stroke=\"black\" stroke-width=\"3\" x1=\"213.50515625\" x2=\"213.50515625\" y1=\"25.0\" y2=\"75.0\"/><rect fill=\"white\" height=\"40\" stroke=\"black\" stroke-width=\"0\" width=\"40\" x=\"10.0\" y=\"5.0\"/><text dominant-baseline=\"middle\" font-size=\"14px\" text-anchor=\"middle\" x=\"30.0\" y=\"25.0\">0: </text><rect fill=\"white\" height=\"40\" stroke=\"black\" stroke-width=\"0\" width=\"40\" x=\"10.0\" y=\"55.0\"/><text dominant-baseline=\"middle\" font-size=\"14px\" text-anchor=\"middle\" x=\"30.0\" y=\"75.0\">1: </text><rect fill=\"white\" height=\"40\" stroke=\"black\" stroke-width=\"1\" width=\"40\" x=\"70.0\" y=\"5.0\"/><text dominant-baseline=\"middle\" font-size=\"18px\" text-anchor=\"middle\" x=\"90.0\" y=\"25.0\">H</text><circle cx=\"150.0\" cy=\"25.0\" r=\"10.0\"/><rect fill=\"white\" height=\"40\" stroke=\"black\" stroke-width=\"1\" width=\"40\" x=\"130.0\" y=\"55.0\"/><text dominant-baseline=\"middle\" font-size=\"18px\" text-anchor=\"middle\" x=\"150.0\" y=\"75.0\">X</text><rect fill=\"white\" height=\"40\" stroke=\"black\" stroke-width=\"1\" width=\"47.0103125\" x=\"190.0\" y=\"5.0\"/><text dominant-baseline=\"middle\" font-size=\"14px\" text-anchor=\"middle\" x=\"213.50515625\" y=\"25.0\">M('q')</text><rect fill=\"white\" height=\"40\" stroke=\"black\" stroke-width=\"1\" width=\"47.0103125\" x=\"190.0\" y=\"55.0\"/><text dominant-baseline=\"middle\" font-size=\"18px\" text-anchor=\"middle\" x=\"213.50515625\" y=\"75.0\">M</text></svg>"
          },
          "metadata": {
            "tags": []
          }
        }
      ]
    },
    {
      "cell_type": "markdown",
      "metadata": {
        "id": "_sXhsk0zizLu",
        "colab_type": "text"
      },
      "source": [
        "You have successfully completed Level-1 of cirq tutorial, and now are equipped to execute Quantum Algorithms using this framework."
      ]
    }
  ]
}