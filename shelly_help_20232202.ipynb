{
 "cells": [
  {
   "cell_type": "code",
   "execution_count": null,
   "metadata": {
    "collapsed": true
   },
   "outputs": [],
   "source": [
    "yes = {\"Benadryl\" : \"1 mg per pound\",\n",
    "  \"/nBenadryl\" : \"1 mg per pound\"}\n",
    "\n",
    "no = {\"not allergic\" : \"monitor for reactions\",\n",
    "  \"not allergic\" : \"Monitor for reactions\"}\n",
    "\n",
    "username = input(\"What is your dog's name?\\n\")\n",
    "yes = input(\"Is your pet having an allergic reaction?\\n\")\n",
    "\n",
    "def dosage():\n",
    "    if yes == \"yes\":\n",
    "      return \"username\" +\n",
    "       \"\\nBenadryl in dosage of: \" + str(yes[\"Benadryl\"]) +\n",
    "       \"\\nBenadryl in dosage of: \" +str(yes[\"Benadryl\"])\n",
    " +\n",
    "    elif yes == \"no\":\n",
    "        return (username + \", monitor for reactions: \")\n",
    "    else:\n",
    "            print(\"You can only enter 'Yes' or 'No'.\")\n",
    "\n",
    "\n",
    "\n",
    "\n",
    "print (dosage())"
   ]
  },
  {
   "cell_type": "code",
   "execution_count": 2,
   "outputs": [
    {
     "name": "stdout",
     "output_type": "stream",
     "text": [
      "give this much for 40\n"
     ]
    }
   ],
   "source": [
    "dog_name = input(\"What is the name of the dog's name\")\n",
    "dog_weight = int(input(\"Weight of dog in whole pounds.\"))\n",
    "allergic_reaction = input(\"Is the dog having an allergic reaction? ('yes' or 'no')\")\n",
    "\n",
    "if allergic_reaction == 'yes':\n",
    "    if dog_weight <= 20:\n",
    "        print(\"give this much for 20\")\n",
    "    elif dog_weight <= 40:\n",
    "        print(\"give this much for 40\")\n",
    "    # and so on based on dosages\n",
    "else:\n",
    "    print('monitor for reactions')\n",
    "\n",
    "\n"
   ],
   "metadata": {
    "collapsed": false
   }
  },
  {
   "cell_type": "code",
   "execution_count": null,
   "outputs": [],
   "source": [],
   "metadata": {
    "collapsed": false
   }
  },
  {
   "cell_type": "code",
   "execution_count": null,
   "outputs": [],
   "source": [
    "# dosage dictionary\n",
    "Benadryl = {\n",
    "\"20\"\n",
    "}\n",
    "\n",
    "thisdict = {\n",
    "  \"brand\": \"Ford\",\n",
    "  \"model\": \"Mustang\",\n",
    "  \"year\": 1964\n",
    "}"
   ],
   "metadata": {
    "collapsed": false
   }
  },
  {
   "cell_type": "markdown",
   "source": [
    "2-24-23\n"
   ],
   "metadata": {
    "collapsed": false
   }
  },
  {
   "cell_type": "code",
   "execution_count": 1,
   "outputs": [
    {
     "name": "stdout",
     "output_type": "stream",
     "text": [
      "Hi, thank you for choosing our Animal Hospital!\n",
      "Welcome, haire family\n",
      "We are happy to help you and your canine companion!\n",
      "Great! A veterinary technician will be with you shortly.\n"
     ]
    }
   ],
   "source": [
    "print(\"Hi, thank you for choosing our Animal Hospital!\")\n",
    "first_name = input(\"What is your first name? \" )\n",
    "last_name = input(\"What is your last name? \" )\n",
    "phone_number = input(\"What is the best number to reach you? \")\n",
    "pet_name = input( \"What is your pet's name? \" )\n",
    "print('Welcome, ' + ( last_name) + ' family' )\n",
    "\n",
    "answer = input(\"What type of pet do you have? (cat or dog): \")\n",
    "# cat or dog are the options\n",
    "answer = answer.strip().lower()\n",
    "\n",
    "if answer in [\"cat\", \"c\"]:\n",
    "    print(\"We are happy to assist you and your feline friend!\")\n",
    "elif answer in [\"dog\", \"d\"]:\n",
    "    print('We are happy to help you and your canine companion!')\n",
    "else:\n",
    "    print(f\"This facility only treats cats or dogs. You answered {answer}\")\n",
    "\n",
    "pet_condition = input( 'What is the reason for bringing your pet today? ')\n",
    "\n",
    "#asking pet_age\n",
    "pet_age = input( \"What is your pet's age? \")\n",
    "\n",
    "#ask if client has made an appointment\n",
    "answer = input(\"Do you have an appointment today? \")\n",
    "if answer == \"yes\":\n",
    "    print(\"Great! A veterinary technician will be with you shortly.\")\n",
    "elif answer == \"no\":\n",
    "    print('Walk-ins are always accepted, however, emergencies and appointments are first priority. Please have a seat and a veterinary technician will help you as soon as possible. Thank you!')\n",
    "else:\n",
    "    print(f\"Your answer can only be yes or no. You answered {answer}\")"
   ],
   "metadata": {
    "collapsed": false
   }
  },
  {
   "cell_type": "markdown",
   "source": [
    "def dosage(animal_weight)\n",
    "    if animal_weight <=20\n",
    "        do this\n",
    "    else if 20 > animal_weight >= 40\n",
    "        do this\n",
    "    .\n",
    "    .\n",
    "    .\n",
    "    else...\n",
    "\n",
    "The variables from the check-in function should be returned at the end of the function and stored in a variable..."
   ],
   "metadata": {
    "collapsed": false
   }
  },
  {
   "cell_type": "code",
   "execution_count": null,
   "outputs": [],
   "source": [],
   "metadata": {
    "collapsed": false
   }
  },
  {
   "cell_type": "markdown",
   "source": [],
   "metadata": {
    "collapsed": false
   }
  }
 ],
 "metadata": {
  "kernelspec": {
   "display_name": "Python 3",
   "language": "python",
   "name": "python3"
  },
  "language_info": {
   "codemirror_mode": {
    "name": "ipython",
    "version": 2
   },
   "file_extension": ".py",
   "mimetype": "text/x-python",
   "name": "python",
   "nbconvert_exporter": "python",
   "pygments_lexer": "ipython2",
   "version": "2.7.6"
  }
 },
 "nbformat": 4,
 "nbformat_minor": 0
}
