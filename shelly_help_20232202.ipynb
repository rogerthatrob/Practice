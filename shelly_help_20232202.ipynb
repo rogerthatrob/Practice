{
 "cells": [
  {
   "cell_type": "code",
   "execution_count": null,
   "metadata": {
    "collapsed": true
   },
   "outputs": [],
   "source": [
    "yes = {\"Benadryl\" : \"1 mg per pound\",\n",
    "  \"/nBenadryl\" : \"1 mg per pound\"}\n",
    "\n",
    "no = {\"not allergic\" : \"monitor for reactions\",\n",
    "  \"not allergic\" : \"Monitor for reactions\"}\n",
    "\n",
    "username = input(\"What is your dog's name?\\n\")\n",
    "yes = input(\"Is your pet having an allergic reaction?\\n\")\n",
    "\n",
    "def dosage():\n",
    "    if yes == \"yes\":\n",
    "      return \"username\" +\n",
    "       \"\\nBenadryl in dosage of: \" + str(yes[\"Benadryl\"]) +\n",
    "       \"\\nBenadryl in dosage of: \" +str(yes[\"Benadryl\"])\n",
    " +\n",
    "    elif yes == \"no\":\n",
    "        return (username + \", monitor for reactions: \")\n",
    "    else:\n",
    "            print(\"You can only enter 'Yes' or 'No'.\")\n",
    "\n",
    "\n",
    "\n",
    "\n",
    "print (dosage())"
   ]
  },
  {
   "cell_type": "code",
   "execution_count": 2,
   "outputs": [
    {
     "name": "stdout",
     "output_type": "stream",
     "text": [
      "give this much for 40\n"
     ]
    }
   ],
   "source": [
    "dog_name = input(\"What is the name of the dog's name\")\n",
    "dog_weight = int(input(\"Weight of dog in whole pounds.\"))\n",
    "allergic_reaction = input(\"Is the dog having an allergic reaction? ('yes' or 'no')\")\n",
    "\n",
    "if allergic_reaction == 'yes':\n",
    "    if dog_weight <= 20:\n",
    "        print(\"give this much for 20\")\n",
    "    elif dog_weight <= 40:\n",
    "        print(\"give this much for 40\")\n",
    "    # and so on based on dosages\n",
    "else:\n",
    "    print('monitor for reactions')\n",
    "\n",
    "\n"
   ],
   "metadata": {
    "collapsed": false
   }
  },
  {
   "cell_type": "code",
   "execution_count": null,
   "outputs": [],
   "source": [],
   "metadata": {
    "collapsed": false
   }
  },
  {
   "cell_type": "code",
   "execution_count": null,
   "outputs": [],
   "source": [
    "# dosage dictionary\n",
    "Benadryl = {\n",
    "\"20\"\n",
    "}\n",
    "\n",
    "thisdict = {\n",
    "  \"brand\": \"Ford\",\n",
    "  \"model\": \"Mustang\",\n",
    "  \"year\": 1964\n",
    "}"
   ],
   "metadata": {
    "collapsed": false
   }
  }
 ],
 "metadata": {
  "kernelspec": {
   "display_name": "Python 3",
   "language": "python",
   "name": "python3"
  },
  "language_info": {
   "codemirror_mode": {
    "name": "ipython",
    "version": 2
   },
   "file_extension": ".py",
   "mimetype": "text/x-python",
   "name": "python",
   "nbconvert_exporter": "python",
   "pygments_lexer": "ipython2",
   "version": "2.7.6"
  }
 },
 "nbformat": 4,
 "nbformat_minor": 0
}
