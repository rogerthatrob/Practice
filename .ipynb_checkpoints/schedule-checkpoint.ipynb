{
 "cells": [
  {
   "cell_type": "code",
   "execution_count": 1,
   "metadata": {},
   "outputs": [
    {
     "name": "stdout",
     "output_type": "stream",
     "text": [
      "Schedule, is, Subject, to, Change, -, Please, Check, Daily, for, Changes, and, Online, For, Most, Recent, , , , , , , , , , , , , , , , , , , , , , , , , , , , , , , , , , , , , , , , , , , , , , , , , , , , , , , , ,,,,,,,\n",
      ",Mon.,Tues.,Wed.,Thurs.,Fri.,Sat.,Sun.\n",
      ",8-Mar,9-Mar,10-Mar,11-Mar,12-Mar,13-Mar,14-Mar\n",
      "Robert, Haire,,,S1,S1,S1,,\n",
      "954-658-1609,,,8pm,7pm,6pm,,\n",
      "Alysha, Henderson,,,Open+P1,Open+P1,P1,Open+P1,\n",
      "305-766-4122,,,1:15, PM,1:30pm,6pm,1:30pm,\n",
      "Shelly, Latrielle,,,,,Open,Req,Req\n",
      "561-240-9820,,,,,1:30pm,,\n",
      "Samantha, D,,,,,,S1,P1\n",
      "912-550-7900,,,,,,7pm,3:15pm\n",
      "Britney,,,,,,S2,S1\n",
      "786-271-6727,,,,,,8pm,8pm\n",
      "Kathryn,,,Train,Train,,,\n",
      "561-774-6696,,,8:30pm,7:30pm,,,\n",
      "Josh, Steiger,,,,,,,\n",
      "954-803-4060,,,,,,,\n",
      "Samantha, Sanchez,,,,,,,\n",
      "786-394-7051,,,,,,,\n",
      "Tony,,,,,,,\n",
      "954-937-2927,,,,,,,\n",
      "Jessica, Marino,,,,,,,\n",
      "954-461-3798,,,,,,,\n"
     ]
    }
   ],
   "source": [
    "import csv\n",
    "\n",
    "with open('/Users/roberthaire/Documents/Test-bar.csv', newline='') as csvfile:\n",
    "    schedule = csv.reader(csvfile, delimiter=' ', quotechar='|')\n",
    "    for row in schedule:\n",
    "        print(', '.join(row))"
   ]
  },
  {
   "cell_type": "code",
   "execution_count": 1,
   "metadata": {},
   "outputs": [
    {
     "ename": "SyntaxError",
     "evalue": "invalid syntax (<ipython-input-1-61ebf6464cd9>, line 5)",
     "output_type": "error",
     "traceback": [
      "\u001b[0;36m  File \u001b[0;32m\"<ipython-input-1-61ebf6464cd9>\"\u001b[0;36m, line \u001b[0;32m5\u001b[0m\n\u001b[0;31m    \"name\": [\"Name\", \"Monday\", \"Tuesday\"]\u001b[0m\n\u001b[0m          ^\u001b[0m\n\u001b[0;31mSyntaxError\u001b[0m\u001b[0;31m:\u001b[0m invalid syntax\n"
     ]
    }
   ],
   "source": [
    "import pandas as pd\n",
    "\n",
    "df = pd.DataFram(\n",
    "    (\n",
    "        \"name\": [\"Name\", \"Monday\", \"Tuesday\"]\n",
    "        \"date\": [\"date\"]\n",
    "    )\n",
    ")"
   ]
  },
  {
   "cell_type": "code",
   "execution_count": null,
   "metadata": {},
   "outputs": [],
   "source": []
  }
 ],
 "metadata": {
  "kernelspec": {
   "display_name": "Python 3",
   "language": "python",
   "name": "python3"
  },
  "language_info": {
   "codemirror_mode": {
    "name": "ipython",
    "version": 3
   },
   "file_extension": ".py",
   "mimetype": "text/x-python",
   "name": "python",
   "nbconvert_exporter": "python",
   "pygments_lexer": "ipython3",
   "version": "3.8.5"
  }
 },
 "nbformat": 4,
 "nbformat_minor": 2
}
