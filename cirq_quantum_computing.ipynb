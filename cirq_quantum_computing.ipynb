{
  "nbformat": 4,
  "nbformat_minor": 0,
  "metadata": {
    "colab": {
      "name": "cirq-quantum-computing.ipynb",
      "provenance": [],
      "include_colab_link": true
    },
    "kernelspec": {
      "name": "python3",
      "display_name": "Python 3"
    }
  },
  "cells": [
    {
      "cell_type": "markdown",
      "metadata": {
        "id": "view-in-github",
        "colab_type": "text"
      },
      "source": [
        "<a href=\"https://colab.research.google.com/github/rogerthatrob/Practice/blob/master/cirq_quantum_computing.ipynb\" target=\"_parent\"><img src=\"https://colab.research.google.com/assets/colab-badge.svg\" alt=\"Open In Colab\"/></a>"
      ]
    },
    {
      "cell_type": "markdown",
      "metadata": {
        "id": "EQ5Ne9jCetyQ",
        "colab_type": "text"
      },
      "source": [
        "# Introduction to Quantum Computing with Cirq\n",
        "\n",
        "### Speaker: [Syed Farhan](https://www.linkedin.com/in/syedfarhanahmad/)\n",
        "\n",
        "\n",
        "This is a level 1 tutorial that will take you through the following:\n",
        "\n",
        "- Introduction to Cirq\n",
        "- Creating and assigning qubits\n",
        "- Creating your first Quantum Circuit\n",
        "- Working with Quantum Gates\n",
        "  - H - Gate(Hadamard)\n",
        "  - X - Gate(Pauli X)\n",
        "  - CNOT Gate\n",
        "  - CCNOT Gate\n",
        "- Create a Random Number Generator\n",
        "- Entangling 2 qubits[ Bell State]"
      ]
    },
    {
      "cell_type": "markdown",
      "metadata": {
        "id": "cQYkxHhlfDI8",
        "colab_type": "text"
      },
      "source": [
        "### Running Python code cells\n",
        "\n",
        "Click the cell below this one and type **Shift+Enter** (or click the 'play' button on the left) to run the Python code it contains."
      ]
    },
    {
      "cell_type": "code",
      "metadata": {
        "id": "TmHKFN0CeSvF",
        "colab_type": "code",
        "colab": {
          "base_uri": "https://localhost:8080/",
          "height": 35
        },
        "outputId": "9b04d04c-598c-41fe-d349-84ff405cc644"
      },
      "source": [
        "print('Hello Quantum!!')"
      ],
      "execution_count": null,
      "outputs": [
        {
          "output_type": "stream",
          "text": [
            "Hello Quantum!!\n"
          ],
          "name": "stdout"
        }
      ]
    },
    {
      "cell_type": "markdown",
      "metadata": {
        "id": "4Th0grNjfGd-",
        "colab_type": "text"
      },
      "source": [
        "### Setting up dependencies\n",
        "The server hosting our notebooks has no idea what kinds of dependencies our programs will have. Therefore at the beginning of each notebook we need to set up an environment with all the packages we'll want. This requires a few commands that are not strictly Python.\n",
        "\n",
        "Run the next cell to install Cirq"
      ]
    },
    {
      "cell_type": "code",
      "metadata": {
        "id": "gdZszk4ufFlW",
        "colab_type": "code",
        "colab": {
          "base_uri": "https://localhost:8080/",
          "height": 746
        },
        "outputId": "a2c57bd6-0d82-471f-a1a2-f399c51d8629"
      },
      "source": [
        "!pip install cirq"
      ],
      "execution_count": null,
      "outputs": [
        {
          "output_type": "stream",
          "text": [
            "Collecting cirq\n",
            "\u001b[?25l  Downloading https://files.pythonhosted.org/packages/1e/5b/6f8cb54ea8c0041ad9c8e4ece07cb5ca9eb1c29de68e68795b4a40d90cc6/cirq-0.8.2-py3-none-any.whl (1.4MB)\n",
            "\r\u001b[K     |▎                               | 10kB 16.5MB/s eta 0:00:01\r\u001b[K     |▌                               | 20kB 1.6MB/s eta 0:00:01\r\u001b[K     |▊                               | 30kB 2.2MB/s eta 0:00:01\r\u001b[K     |█                               | 40kB 2.4MB/s eta 0:00:01\r\u001b[K     |█▏                              | 51kB 1.5MB/s eta 0:00:01\r\u001b[K     |█▍                              | 61kB 1.7MB/s eta 0:00:01\r\u001b[K     |█▋                              | 71kB 2.0MB/s eta 0:00:01\r\u001b[K     |██                              | 81kB 2.1MB/s eta 0:00:01\r\u001b[K     |██▏                             | 92kB 2.2MB/s eta 0:00:01\r\u001b[K     |██▍                             | 102kB 2.3MB/s eta 0:00:01\r\u001b[K     |██▋                             | 112kB 2.3MB/s eta 0:00:01\r\u001b[K     |██▉                             | 122kB 2.3MB/s eta 0:00:01\r\u001b[K     |███                             | 133kB 2.3MB/s eta 0:00:01\r\u001b[K     |███▎                            | 143kB 2.3MB/s eta 0:00:01\r\u001b[K     |███▌                            | 153kB 2.3MB/s eta 0:00:01\r\u001b[K     |███▉                            | 163kB 2.3MB/s eta 0:00:01\r\u001b[K     |████                            | 174kB 2.3MB/s eta 0:00:01\r\u001b[K     |████▎                           | 184kB 2.3MB/s eta 0:00:01\r\u001b[K     |████▌                           | 194kB 2.3MB/s eta 0:00:01\r\u001b[K     |████▊                           | 204kB 2.3MB/s eta 0:00:01\r\u001b[K     |█████                           | 215kB 2.3MB/s eta 0:00:01\r\u001b[K     |█████▏                          | 225kB 2.3MB/s eta 0:00:01\r\u001b[K     |█████▍                          | 235kB 2.3MB/s eta 0:00:01\r\u001b[K     |█████▊                          | 245kB 2.3MB/s eta 0:00:01\r\u001b[K     |██████                          | 256kB 2.3MB/s eta 0:00:01\r\u001b[K     |██████▏                         | 266kB 2.3MB/s eta 0:00:01\r\u001b[K     |██████▍                         | 276kB 2.3MB/s eta 0:00:01\r\u001b[K     |██████▋                         | 286kB 2.3MB/s eta 0:00:01\r\u001b[K     |██████▉                         | 296kB 2.3MB/s eta 0:00:01\r\u001b[K     |███████                         | 307kB 2.3MB/s eta 0:00:01\r\u001b[K     |███████▍                        | 317kB 2.3MB/s eta 0:00:01\r\u001b[K     |███████▋                        | 327kB 2.3MB/s eta 0:00:01\r\u001b[K     |███████▉                        | 337kB 2.3MB/s eta 0:00:01\r\u001b[K     |████████                        | 348kB 2.3MB/s eta 0:00:01\r\u001b[K     |████████▎                       | 358kB 2.3MB/s eta 0:00:01\r\u001b[K     |████████▌                       | 368kB 2.3MB/s eta 0:00:01\r\u001b[K     |████████▊                       | 378kB 2.3MB/s eta 0:00:01\r\u001b[K     |█████████                       | 389kB 2.3MB/s eta 0:00:01\r\u001b[K     |█████████▎                      | 399kB 2.3MB/s eta 0:00:01\r\u001b[K     |█████████▌                      | 409kB 2.3MB/s eta 0:00:01\r\u001b[K     |█████████▊                      | 419kB 2.3MB/s eta 0:00:01\r\u001b[K     |██████████                      | 430kB 2.3MB/s eta 0:00:01\r\u001b[K     |██████████▏                     | 440kB 2.3MB/s eta 0:00:01\r\u001b[K     |██████████▍                     | 450kB 2.3MB/s eta 0:00:01\r\u001b[K     |██████████▋                     | 460kB 2.3MB/s eta 0:00:01\r\u001b[K     |██████████▉                     | 471kB 2.3MB/s eta 0:00:01\r\u001b[K     |███████████▏                    | 481kB 2.3MB/s eta 0:00:01\r\u001b[K     |███████████▍                    | 491kB 2.3MB/s eta 0:00:01\r\u001b[K     |███████████▋                    | 501kB 2.3MB/s eta 0:00:01\r\u001b[K     |███████████▉                    | 512kB 2.3MB/s eta 0:00:01\r\u001b[K     |████████████                    | 522kB 2.3MB/s eta 0:00:01\r\u001b[K     |████████████▎                   | 532kB 2.3MB/s eta 0:00:01\r\u001b[K     |████████████▌                   | 542kB 2.3MB/s eta 0:00:01\r\u001b[K     |████████████▉                   | 552kB 2.3MB/s eta 0:00:01\r\u001b[K     |█████████████                   | 563kB 2.3MB/s eta 0:00:01\r\u001b[K     |█████████████▎                  | 573kB 2.3MB/s eta 0:00:01\r\u001b[K     |█████████████▌                  | 583kB 2.3MB/s eta 0:00:01\r\u001b[K     |█████████████▊                  | 593kB 2.3MB/s eta 0:00:01\r\u001b[K     |██████████████                  | 604kB 2.3MB/s eta 0:00:01\r\u001b[K     |██████████████▏                 | 614kB 2.3MB/s eta 0:00:01\r\u001b[K     |██████████████▍                 | 624kB 2.3MB/s eta 0:00:01\r\u001b[K     |██████████████▊                 | 634kB 2.3MB/s eta 0:00:01\r\u001b[K     |███████████████                 | 645kB 2.3MB/s eta 0:00:01\r\u001b[K     |███████████████▏                | 655kB 2.3MB/s eta 0:00:01\r\u001b[K     |███████████████▍                | 665kB 2.3MB/s eta 0:00:01\r\u001b[K     |███████████████▋                | 675kB 2.3MB/s eta 0:00:01\r\u001b[K     |███████████████▉                | 686kB 2.3MB/s eta 0:00:01\r\u001b[K     |████████████████                | 696kB 2.3MB/s eta 0:00:01\r\u001b[K     |████████████████▎               | 706kB 2.3MB/s eta 0:00:01\r\u001b[K     |████████████████▋               | 716kB 2.3MB/s eta 0:00:01\r\u001b[K     |████████████████▉               | 727kB 2.3MB/s eta 0:00:01\r\u001b[K     |█████████████████               | 737kB 2.3MB/s eta 0:00:01\r\u001b[K     |█████████████████▎              | 747kB 2.3MB/s eta 0:00:01\r\u001b[K     |█████████████████▌              | 757kB 2.3MB/s eta 0:00:01\r\u001b[K     |█████████████████▊              | 768kB 2.3MB/s eta 0:00:01\r\u001b[K     |██████████████████              | 778kB 2.3MB/s eta 0:00:01\r\u001b[K     |██████████████████▏             | 788kB 2.3MB/s eta 0:00:01\r\u001b[K     |██████████████████▌             | 798kB 2.3MB/s eta 0:00:01\r\u001b[K     |██████████████████▊             | 808kB 2.3MB/s eta 0:00:01\r\u001b[K     |███████████████████             | 819kB 2.3MB/s eta 0:00:01\r\u001b[K     |███████████████████▏            | 829kB 2.3MB/s eta 0:00:01\r\u001b[K     |███████████████████▍            | 839kB 2.3MB/s eta 0:00:01\r\u001b[K     |███████████████████▋            | 849kB 2.3MB/s eta 0:00:01\r\u001b[K     |███████████████████▉            | 860kB 2.3MB/s eta 0:00:01\r\u001b[K     |████████████████████▏           | 870kB 2.3MB/s eta 0:00:01\r\u001b[K     |████████████████████▍           | 880kB 2.3MB/s eta 0:00:01\r\u001b[K     |████████████████████▋           | 890kB 2.3MB/s eta 0:00:01\r\u001b[K     |████████████████████▉           | 901kB 2.3MB/s eta 0:00:01\r\u001b[K     |█████████████████████           | 911kB 2.3MB/s eta 0:00:01\r\u001b[K     |█████████████████████▎          | 921kB 2.3MB/s eta 0:00:01\r\u001b[K     |█████████████████████▌          | 931kB 2.3MB/s eta 0:00:01\r\u001b[K     |█████████████████████▊          | 942kB 2.3MB/s eta 0:00:01\r\u001b[K     |██████████████████████          | 952kB 2.3MB/s eta 0:00:01\r\u001b[K     |██████████████████████▎         | 962kB 2.3MB/s eta 0:00:01\r\u001b[K     |██████████████████████▌         | 972kB 2.3MB/s eta 0:00:01\r\u001b[K     |██████████████████████▊         | 983kB 2.3MB/s eta 0:00:01\r\u001b[K     |███████████████████████         | 993kB 2.3MB/s eta 0:00:01\r\u001b[K     |███████████████████████▏        | 1.0MB 2.3MB/s eta 0:00:01\r\u001b[K     |███████████████████████▍        | 1.0MB 2.3MB/s eta 0:00:01\r\u001b[K     |███████████████████████▋        | 1.0MB 2.3MB/s eta 0:00:01\r\u001b[K     |████████████████████████        | 1.0MB 2.3MB/s eta 0:00:01\r\u001b[K     |████████████████████████▏       | 1.0MB 2.3MB/s eta 0:00:01\r\u001b[K     |████████████████████████▍       | 1.1MB 2.3MB/s eta 0:00:01\r\u001b[K     |████████████████████████▋       | 1.1MB 2.3MB/s eta 0:00:01\r\u001b[K     |████████████████████████▉       | 1.1MB 2.3MB/s eta 0:00:01\r\u001b[K     |█████████████████████████       | 1.1MB 2.3MB/s eta 0:00:01\r\u001b[K     |█████████████████████████▎      | 1.1MB 2.3MB/s eta 0:00:01\r\u001b[K     |█████████████████████████▋      | 1.1MB 2.3MB/s eta 0:00:01\r\u001b[K     |█████████████████████████▉      | 1.1MB 2.3MB/s eta 0:00:01\r\u001b[K     |██████████████████████████      | 1.1MB 2.3MB/s eta 0:00:01\r\u001b[K     |██████████████████████████▎     | 1.1MB 2.3MB/s eta 0:00:01\r\u001b[K     |██████████████████████████▌     | 1.1MB 2.3MB/s eta 0:00:01\r\u001b[K     |██████████████████████████▊     | 1.2MB 2.3MB/s eta 0:00:01\r\u001b[K     |███████████████████████████     | 1.2MB 2.3MB/s eta 0:00:01\r\u001b[K     |███████████████████████████▏    | 1.2MB 2.3MB/s eta 0:00:01\r\u001b[K     |███████████████████████████▌    | 1.2MB 2.3MB/s eta 0:00:01\r\u001b[K     |███████████████████████████▊    | 1.2MB 2.3MB/s eta 0:00:01\r\u001b[K     |████████████████████████████    | 1.2MB 2.3MB/s eta 0:00:01\r\u001b[K     |████████████████████████████▏   | 1.2MB 2.3MB/s eta 0:00:01\r\u001b[K     |████████████████████████████▍   | 1.2MB 2.3MB/s eta 0:00:01\r\u001b[K     |████████████████████████████▋   | 1.2MB 2.3MB/s eta 0:00:01\r\u001b[K     |████████████████████████████▉   | 1.2MB 2.3MB/s eta 0:00:01\r\u001b[K     |█████████████████████████████   | 1.3MB 2.3MB/s eta 0:00:01\r\u001b[K     |█████████████████████████████▍  | 1.3MB 2.3MB/s eta 0:00:01\r\u001b[K     |█████████████████████████████▋  | 1.3MB 2.3MB/s eta 0:00:01\r\u001b[K     |█████████████████████████████▉  | 1.3MB 2.3MB/s eta 0:00:01\r\u001b[K     |██████████████████████████████  | 1.3MB 2.3MB/s eta 0:00:01\r\u001b[K     |██████████████████████████████▎ | 1.3MB 2.3MB/s eta 0:00:01\r\u001b[K     |██████████████████████████████▌ | 1.3MB 2.3MB/s eta 0:00:01\r\u001b[K     |██████████████████████████████▊ | 1.3MB 2.3MB/s eta 0:00:01\r\u001b[K     |███████████████████████████████ | 1.3MB 2.3MB/s eta 0:00:01\r\u001b[K     |███████████████████████████████▎| 1.4MB 2.3MB/s eta 0:00:01\r\u001b[K     |███████████████████████████████▌| 1.4MB 2.3MB/s eta 0:00:01\r\u001b[K     |███████████████████████████████▊| 1.4MB 2.3MB/s eta 0:00:01\r\u001b[K     |████████████████████████████████| 1.4MB 2.3MB/s eta 0:00:01\r\u001b[K     |████████████████████████████████| 1.4MB 2.3MB/s \n",
            "\u001b[?25hRequirement already satisfied: google-api-core[grpc]<2.0.0dev,>=1.14.0 in /usr/local/lib/python3.6/dist-packages (from cirq) (1.16.0)\n",
            "Collecting freezegun~=0.3.15\n",
            "  Downloading https://files.pythonhosted.org/packages/17/5d/1b9d6d3c7995fff473f35861d674e0113a5f0bd5a72fe0199c3f254665c7/freezegun-0.3.15-py2.py3-none-any.whl\n",
            "Requirement already satisfied: sortedcontainers~=2.0 in /usr/local/lib/python3.6/dist-packages (from cirq) (2.2.2)\n",
            "Requirement already satisfied: scipy in /usr/local/lib/python3.6/dist-packages (from cirq) (1.4.1)\n",
            "Requirement already satisfied: sympy in /usr/local/lib/python3.6/dist-packages (from cirq) (1.1.1)\n",
            "Requirement already satisfied: protobuf~=3.12.0 in /usr/local/lib/python3.6/dist-packages (from cirq) (3.12.2)\n",
            "Requirement already satisfied: dataclasses; python_version < \"3.7\" in /usr/local/lib/python3.6/dist-packages (from cirq) (0.7)\n",
            "Requirement already satisfied: requests~=2.18 in /usr/local/lib/python3.6/dist-packages (from cirq) (2.23.0)\n",
            "Requirement already satisfied: pandas in /usr/local/lib/python3.6/dist-packages (from cirq) (1.0.5)\n",
            "Requirement already satisfied: matplotlib~=3.0 in /usr/local/lib/python3.6/dist-packages (from cirq) (3.2.2)\n",
            "Requirement already satisfied: typing-extensions in /usr/local/lib/python3.6/dist-packages (from cirq) (3.7.4.2)\n",
            "Requirement already satisfied: numpy~=1.16 in /usr/local/lib/python3.6/dist-packages (from cirq) (1.18.5)\n",
            "Requirement already satisfied: networkx~=2.4 in /usr/local/lib/python3.6/dist-packages (from cirq) (2.4)\n",
            "Requirement already satisfied: googleapis-common-protos<2.0dev,>=1.6.0 in /usr/local/lib/python3.6/dist-packages (from google-api-core[grpc]<2.0.0dev,>=1.14.0->cirq) (1.52.0)\n",
            "Requirement already satisfied: google-auth<2.0dev,>=0.4.0 in /usr/local/lib/python3.6/dist-packages (from google-api-core[grpc]<2.0.0dev,>=1.14.0->cirq) (1.17.2)\n",
            "Requirement already satisfied: six>=1.10.0 in /usr/local/lib/python3.6/dist-packages (from google-api-core[grpc]<2.0.0dev,>=1.14.0->cirq) (1.15.0)\n",
            "Requirement already satisfied: setuptools>=34.0.0 in /usr/local/lib/python3.6/dist-packages (from google-api-core[grpc]<2.0.0dev,>=1.14.0->cirq) (49.1.0)\n",
            "Requirement already satisfied: pytz in /usr/local/lib/python3.6/dist-packages (from google-api-core[grpc]<2.0.0dev,>=1.14.0->cirq) (2018.9)\n",
            "Requirement already satisfied: grpcio<2.0dev,>=1.8.2; extra == \"grpc\" in /usr/local/lib/python3.6/dist-packages (from google-api-core[grpc]<2.0.0dev,>=1.14.0->cirq) (1.30.0)\n",
            "Requirement already satisfied: python-dateutil!=2.0,>=1.0 in /usr/local/lib/python3.6/dist-packages (from freezegun~=0.3.15->cirq) (2.8.1)\n",
            "Requirement already satisfied: mpmath>=0.19 in /usr/local/lib/python3.6/dist-packages (from sympy->cirq) (1.1.0)\n",
            "Requirement already satisfied: chardet<4,>=3.0.2 in /usr/local/lib/python3.6/dist-packages (from requests~=2.18->cirq) (3.0.4)\n",
            "Requirement already satisfied: certifi>=2017.4.17 in /usr/local/lib/python3.6/dist-packages (from requests~=2.18->cirq) (2020.6.20)\n",
            "Requirement already satisfied: urllib3!=1.25.0,!=1.25.1,<1.26,>=1.21.1 in /usr/local/lib/python3.6/dist-packages (from requests~=2.18->cirq) (1.24.3)\n",
            "Requirement already satisfied: idna<3,>=2.5 in /usr/local/lib/python3.6/dist-packages (from requests~=2.18->cirq) (2.10)\n",
            "Requirement already satisfied: cycler>=0.10 in /usr/local/lib/python3.6/dist-packages (from matplotlib~=3.0->cirq) (0.10.0)\n",
            "Requirement already satisfied: pyparsing!=2.0.4,!=2.1.2,!=2.1.6,>=2.0.1 in /usr/local/lib/python3.6/dist-packages (from matplotlib~=3.0->cirq) (2.4.7)\n",
            "Requirement already satisfied: kiwisolver>=1.0.1 in /usr/local/lib/python3.6/dist-packages (from matplotlib~=3.0->cirq) (1.2.0)\n",
            "Requirement already satisfied: decorator>=4.3.0 in /usr/local/lib/python3.6/dist-packages (from networkx~=2.4->cirq) (4.4.2)\n",
            "Requirement already satisfied: rsa<5,>=3.1.4; python_version >= \"3\" in /usr/local/lib/python3.6/dist-packages (from google-auth<2.0dev,>=0.4.0->google-api-core[grpc]<2.0.0dev,>=1.14.0->cirq) (4.6)\n",
            "Requirement already satisfied: cachetools<5.0,>=2.0.0 in /usr/local/lib/python3.6/dist-packages (from google-auth<2.0dev,>=0.4.0->google-api-core[grpc]<2.0.0dev,>=1.14.0->cirq) (4.1.1)\n",
            "Requirement already satisfied: pyasn1-modules>=0.2.1 in /usr/local/lib/python3.6/dist-packages (from google-auth<2.0dev,>=0.4.0->google-api-core[grpc]<2.0.0dev,>=1.14.0->cirq) (0.2.8)\n",
            "Requirement already satisfied: pyasn1>=0.1.3 in /usr/local/lib/python3.6/dist-packages (from rsa<5,>=3.1.4; python_version >= \"3\"->google-auth<2.0dev,>=0.4.0->google-api-core[grpc]<2.0.0dev,>=1.14.0->cirq) (0.4.8)\n",
            "Installing collected packages: freezegun, cirq\n",
            "Successfully installed cirq-0.8.2 freezegun-0.3.15\n"
          ],
          "name": "stdout"
        }
      ]
    },
    {
      "cell_type": "markdown",
      "metadata": {
        "id": "sK8nDW3xfLr8",
        "colab_type": "text"
      },
      "source": [
        "Now we're ready to write code with Cirq!\n",
        "\n",
        "### Create a Random Number Generator Circuit\n",
        "\n",
        "- import the cirq package\n",
        "- Initialize a qubit using **cirq.LineQubit**  \n",
        "- Create a simple **Quantum Cirquit**, by applying H-gate to the qubit.\n",
        "- Display Circuit "
      ]
    },
    {
      "cell_type": "code",
      "metadata": {
        "id": "cKLefJ-cfPci",
        "colab_type": "code",
        "colab": {}
      },
      "source": [
        "#import the cirq package\n",
        "import cirq"
      ],
      "execution_count": null,
      "outputs": []
    },
    {
      "cell_type": "code",
      "metadata": {
        "id": "Af3vcw72fQB2",
        "colab_type": "code",
        "colab": {}
      },
      "source": [
        "q = cirq.LineQubit(0)\n",
        "\n",
        "# Create a Quantum circuit\n",
        "randomNumberGenerator = cirq.Circuit()"
      ],
      "execution_count": null,
      "outputs": []
    },
    {
      "cell_type": "code",
      "metadata": {
        "id": "J4a0N5HgfRIQ",
        "colab_type": "code",
        "colab": {}
      },
      "source": [
        "# Add a Hadamard gate and measurement tool to this circuit\n",
        "randomNumberGenerator.append([cirq.H(q),\n",
        "             cirq.measure(q, key='r')])"
      ],
      "execution_count": null,
      "outputs": []
    },
    {
      "cell_type": "code",
      "metadata": {
        "id": "ckJrjgSWfTy9",
        "colab_type": "code",
        "colab": {
          "base_uri": "https://localhost:8080/",
          "height": 35
        },
        "outputId": "c8aebb3b-5596-4123-bd20-9b52baa7e981"
      },
      "source": [
        "#display circuit\n",
        "print(randomNumberGenerator)"
      ],
      "execution_count": null,
      "outputs": [
        {
          "output_type": "stream",
          "text": [
            "0: ───H───M('r')───\n"
          ],
          "name": "stdout"
        }
      ]
    },
    {
      "cell_type": "markdown",
      "metadata": {
        "id": "3i_Bq58VfV_5",
        "colab_type": "text"
      },
      "source": [
        "### Displaying an SVG circuit"
      ]
    },
    {
      "cell_type": "code",
      "metadata": {
        "id": "TtkYfFQtfWs7",
        "colab_type": "code",
        "colab": {
          "base_uri": "https://localhost:8080/",
          "height": 89
        },
        "outputId": "f838cb08-7ef8-45fe-a783-da6b1341cc11"
      },
      "source": [
        "# Here I'm defining a utility function to print circuits nicely using an svg\n",
        "from cirq.contrib.svg import circuit_to_svg\n",
        "from IPython.display import SVG, display\n",
        "import os\n",
        "\n",
        "def svg_circuit(circuit):\n",
        "  \"\"\"Convert the cirq.Circuit to a temp svg and display + garbage collect.\"\"\"\n",
        "  with open(\"temp.svg\", 'w+') as f:\n",
        "    f.write(circuit_to_svg(circuit))\n",
        "  display(SVG('temp.svg'))\n",
        "  os.remove('temp.svg')\n",
        "\n",
        "# Now we can use the above-defined function anywhere in the notebook\n",
        "svg_circuit(randomNumberGenerator)"
      ],
      "execution_count": null,
      "outputs": [
        {
          "output_type": "stream",
          "text": [
            "findfont: Font family ['Arial'] not found. Falling back to DejaVu Sans.\n"
          ],
          "name": "stderr"
        },
        {
          "output_type": "display_data",
          "data": {
            "text/plain": [
              "<IPython.core.display.SVG object>"
            ],
            "image/svg+xml": "<svg height=\"50.0\" width=\"223.879453125\" xmlns=\"http://www.w3.org/2000/svg\"><line stroke=\"#1967d2\" stroke-width=\"1\" x1=\"30.0\" x2=\"193.879453125\" y1=\"25.0\" y2=\"25.0\"/><rect fill=\"white\" height=\"40\" stroke=\"black\" stroke-width=\"0\" width=\"40\" x=\"10.0\" y=\"5.0\"/><text dominant-baseline=\"middle\" font-size=\"14px\" text-anchor=\"middle\" x=\"30.0\" y=\"25.0\">0: </text><rect fill=\"white\" height=\"40\" stroke=\"black\" stroke-width=\"1\" width=\"40\" x=\"70.0\" y=\"5.0\"/><text dominant-baseline=\"middle\" font-size=\"18px\" text-anchor=\"middle\" x=\"90.0\" y=\"25.0\">H</text><rect fill=\"white\" height=\"40\" stroke=\"black\" stroke-width=\"1\" width=\"43.879453125000005\" x=\"130.0\" y=\"5.0\"/><text dominant-baseline=\"middle\" font-size=\"14px\" text-anchor=\"middle\" x=\"151.9397265625\" y=\"25.0\">M('r')</text></svg>"
          },
          "metadata": {
            "tags": []
          }
        }
      ]
    },
    {
      "cell_type": "markdown",
      "metadata": {
        "id": "yO-3pBVffafk",
        "colab_type": "text"
      },
      "source": [
        "  ### Quantum Simulators\n",
        "\n",
        "  <p style=\"text-align: justify;\"> \n",
        "  Cirq provides two quantum computer simulators, the `Simulator` and the `XmonSimulator`, to locally execute quantum algorithms. The `Simulator` works for generic gates that implement their unitary matrix. The `XmonSimulator` is specialized for the native gate set of Google's quantum computers and can utilize multi-threading to improve performance in certain cases.\n",
        "  </p>\n",
        "\n",
        "  <p style=\"text-align: justify;\"> \n",
        "  To run the random bit generator circuit above with the `Simulator`, we can do the following:\n",
        "  </p>"
      ]
    },
    {
      "cell_type": "code",
      "metadata": {
        "id": "D2Nfs1IXfbij",
        "colab_type": "code",
        "colab": {
          "base_uri": "https://localhost:8080/",
          "height": 35
        },
        "outputId": "9ee8c152-e22d-4024-b5c1-309d937c80ba"
      },
      "source": [
        "# get the simulator\n",
        "simulator = cirq.Simulator()\n",
        "\n",
        "# run the circuit\n",
        "out = simulator.run(randomNumberGenerator, repetitions=50)\n",
        "\n",
        "# get the results and display them\n",
        "randomNumbers = out.histogram(key=\"r\")\n",
        "print(randomNumbers)"
      ],
      "execution_count": null,
      "outputs": [
        {
          "output_type": "stream",
          "text": [
            "Counter({1: 27, 0: 23})\n"
          ],
          "name": "stdout"
        }
      ]
    },
    {
      "cell_type": "code",
      "metadata": {
        "id": "K8O4ETfGfd7M",
        "colab_type": "code",
        "colab": {
          "base_uri": "https://localhost:8080/",
          "height": 297
        },
        "outputId": "515c7264-14f5-4608-c995-55408f689ca0"
      },
      "source": [
        "# Display the result as a Histogram\n",
        "randomHistogram = cirq.plot_state_histogram(out)\n",
        "print(\"counts =\", randomHistogram)"
      ],
      "execution_count": null,
      "outputs": [
        {
          "output_type": "display_data",
          "data": {
            "image/png": "[encoded data removed]",
            "text/plain": [
              "<Figure size 432x288 with 1 Axes>"
            ]
          },
          "metadata": {
            "tags": [],
            "needs_background": "light"
          }
        },
        {
          "output_type": "stream",
          "text": [
            "counts = [23. 27.]\n"
          ],
          "name": "stdout"
        }
      ]
    },
    {
      "cell_type": "code",
      "metadata": {
        "id": "_zxwKPT9ffyB",
        "colab_type": "code",
        "colab": {
          "base_uri": "https://localhost:8080/",
          "height": 617
        },
        "outputId": "22bb066a-cbda-438a-b2ad-5aeb4335f53f"
      },
      "source": [
        "\"\"\"Print out the architecture of the Bristlecone quantum computer.\n",
        "The 72-qubit Bristlecone computer, with which quantum supremacy may be demonstrated on, \n",
        "can be displayed similarly:\"\"\"\n",
        "s = \"Bristlecone has {} qubits arranged as follows:\\n\"\n",
        "print(s.format(len(cirq.google.Bristlecone.qubits)))\n",
        "print(cirq.google.Bristlecone)"
      ],
      "execution_count": null,
      "outputs": [
        {
          "output_type": "stream",
          "text": [
            "Bristlecone has 72 qubits arranged as follows:\n",
            "\n",
            "                                             (0, 5)────(0, 6)\n",
            "                                             │         │\n",
            "                                             │         │\n",
            "                                    (1, 4)───(1, 5)────(1, 6)────(1, 7)\n",
            "                                    │        │         │         │\n",
            "                                    │        │         │         │\n",
            "                           (2, 3)───(2, 4)───(2, 5)────(2, 6)────(2, 7)───(2, 8)\n",
            "                           │        │        │         │         │        │\n",
            "                           │        │        │         │         │        │\n",
            "                  (3, 2)───(3, 3)───(3, 4)───(3, 5)────(3, 6)────(3, 7)───(3, 8)───(3, 9)\n",
            "                  │        │        │        │         │         │        │        │\n",
            "                  │        │        │        │         │         │        │        │\n",
            "         (4, 1)───(4, 2)───(4, 3)───(4, 4)───(4, 5)────(4, 6)────(4, 7)───(4, 8)───(4, 9)───(4, 10)\n",
            "         │        │        │        │        │         │         │        │        │        │\n",
            "         │        │        │        │        │         │         │        │        │        │\n",
            "(5, 0)───(5, 1)───(5, 2)───(5, 3)───(5, 4)───(5, 5)────(5, 6)────(5, 7)───(5, 8)───(5, 9)───(5, 10)───(5, 11)\n",
            "         │        │        │        │        │         │         │        │        │        │\n",
            "         │        │        │        │        │         │         │        │        │        │\n",
            "         (6, 1)───(6, 2)───(6, 3)───(6, 4)───(6, 5)────(6, 6)────(6, 7)───(6, 8)───(6, 9)───(6, 10)\n",
            "                  │        │        │        │         │         │        │        │\n",
            "                  │        │        │        │         │         │        │        │\n",
            "                  (7, 2)───(7, 3)───(7, 4)───(7, 5)────(7, 6)────(7, 7)───(7, 8)───(7, 9)\n",
            "                           │        │        │         │         │        │\n",
            "                           │        │        │         │         │        │\n",
            "                           (8, 3)───(8, 4)───(8, 5)────(8, 6)────(8, 7)───(8, 8)\n",
            "                                    │        │         │         │\n",
            "                                    │        │         │         │\n",
            "                                    (9, 4)───(9, 5)────(9, 6)────(9, 7)\n",
            "                                             │         │\n",
            "                                             │         │\n",
            "                                             (10, 5)───(10, 6)\n"
          ],
          "name": "stdout"
        }
      ]
    },
    {
      "cell_type": "markdown",
      "metadata": {
        "id": "rzCg8ScqfjsC",
        "colab_type": "text"
      },
      "source": [
        "# Entangle 2 qubits [Bell state]\n",
        "\n",
        "Create a circuit to generate a Bell State:  \n",
        "1/sqrt(2) * ( |00> + |11> )"
      ]
    },
    {
      "cell_type": "code",
      "metadata": {
        "id": "w523olZoflTy",
        "colab_type": "code",
        "colab": {
          "base_uri": "https://localhost:8080/",
          "height": 199
        },
        "outputId": "030a262a-2abe-49c1-ae53-af9898297af6"
      },
      "source": [
        "bell_circuit = cirq.Circuit()\n",
        "q0, q1 = cirq.LineQubit.range(2)\n",
        "\n",
        "# apply H-gate\n",
        "bell_circuit.append(cirq.H(q0))\n",
        "# apply CNOT Gate\n",
        "bell_circuit.append(cirq.CNOT(q0, q1))\n",
        "\n",
        "# display circuit\n",
        "print(bell_circuit)\n",
        "\n",
        "# Initialize Simulator\n",
        "s=cirq.Simulator()\n",
        "\n",
        "print('Simulate the circuit:')\n",
        "results=s.simulate(bell_circuit)\n",
        "print(results)\n",
        "print()\n",
        "\n",
        "# For sampling, we need to add a measurement at the end\n",
        "bell_circuit.append(cirq.measure(q0, q1, key='q'))\n",
        "\n",
        "print('Sample the circuit:')\n",
        "samples=s.run(bell_circuit, repetitions=20)\n",
        "\n",
        "print()\n",
        "# Print a histogram of results\n",
        "print(samples.histogram(key='q'))"
      ],
      "execution_count": null,
      "outputs": [
        {
          "output_type": "stream",
          "text": [
            "0: ───H───@───\n",
            "          │\n",
            "1: ───────X───\n",
            "Simulate the circuit:\n",
            "measurements: (no measurements)\n",
            "output vector: 0.707|00⟩ + 0.707|11⟩\n",
            "\n",
            "Sample the circuit:\n",
            "\n",
            "Counter({0: 10, 3: 10})\n"
          ],
          "name": "stdout"
        }
      ]
    },
    {
      "cell_type": "code",
      "metadata": {
        "id": "DaEoJSSvfotT",
        "colab_type": "code",
        "colab": {
          "base_uri": "https://localhost:8080/",
          "height": 35
        },
        "outputId": "b070cdaf-5084-430e-bce7-1f5ff6b8d40c"
      },
      "source": [
        "# Result after measurement\n",
        "print(samples)"
      ],
      "execution_count": null,
      "outputs": [
        {
          "output_type": "stream",
          "text": [
            "q=00011101011011010010, 00011101011011010010\n"
          ],
          "name": "stdout"
        }
      ]
    },
    {
      "cell_type": "code",
      "metadata": {
        "id": "ZY7LH8dYfqaq",
        "colab_type": "code",
        "colab": {
          "base_uri": "https://localhost:8080/",
          "height": 121
        },
        "outputId": "5f2ba239-0fa4-4275-8b71-c54606a92ffa"
      },
      "source": [
        "# diaply the circuit in svg format\n",
        "svg_circuit(bell_circuit)"
      ],
      "execution_count": null,
      "outputs": [
        {
          "output_type": "display_data",
          "data": {
            "text/plain": [
              "<IPython.core.display.SVG object>"
            ],
            "image/svg+xml": "<svg height=\"100.0\" width=\"287.0103125\" xmlns=\"http://www.w3.org/2000/svg\"><line stroke=\"#1967d2\" stroke-width=\"1\" x1=\"30.0\" x2=\"257.0103125\" y1=\"25.0\" y2=\"25.0\"/><line stroke=\"#1967d2\" stroke-width=\"1\" x1=\"30.0\" x2=\"257.0103125\" y1=\"75.0\" y2=\"75.0\"/><line stroke=\"black\" stroke-width=\"3\" x1=\"150.0\" x2=\"150.0\" y1=\"25.0\" y2=\"75.0\"/><line stroke=\"black\" stroke-width=\"3\" x1=\"213.50515625\" x2=\"213.50515625\" y1=\"25.0\" y2=\"75.0\"/><rect fill=\"white\" height=\"40\" stroke=\"black\" stroke-width=\"0\" width=\"40\" x=\"10.0\" y=\"5.0\"/><text dominant-baseline=\"middle\" font-size=\"14px\" text-anchor=\"middle\" x=\"30.0\" y=\"25.0\">0: </text><rect fill=\"white\" height=\"40\" stroke=\"black\" stroke-width=\"0\" width=\"40\" x=\"10.0\" y=\"55.0\"/><text dominant-baseline=\"middle\" font-size=\"14px\" text-anchor=\"middle\" x=\"30.0\" y=\"75.0\">1: </text><rect fill=\"white\" height=\"40\" stroke=\"black\" stroke-width=\"1\" width=\"40\" x=\"70.0\" y=\"5.0\"/><text dominant-baseline=\"middle\" font-size=\"18px\" text-anchor=\"middle\" x=\"90.0\" y=\"25.0\">H</text><circle cx=\"150.0\" cy=\"25.0\" r=\"10.0\"/><rect fill=\"white\" height=\"40\" stroke=\"black\" stroke-width=\"1\" width=\"40\" x=\"130.0\" y=\"55.0\"/><text dominant-baseline=\"middle\" font-size=\"18px\" text-anchor=\"middle\" x=\"150.0\" y=\"75.0\">X</text><rect fill=\"white\" height=\"40\" stroke=\"black\" stroke-width=\"1\" width=\"47.0103125\" x=\"190.0\" y=\"5.0\"/><text dominant-baseline=\"middle\" font-size=\"14px\" text-anchor=\"middle\" x=\"213.50515625\" y=\"25.0\">M('q')</text><rect fill=\"white\" height=\"40\" stroke=\"black\" stroke-width=\"1\" width=\"47.0103125\" x=\"190.0\" y=\"55.0\"/><text dominant-baseline=\"middle\" font-size=\"18px\" text-anchor=\"middle\" x=\"213.50515625\" y=\"75.0\">M</text></svg>"
          },
          "metadata": {
            "tags": []
          }
        }
      ]
    },
    {
      "cell_type": "markdown",
      "metadata": {
        "id": "_sXhsk0zizLu",
        "colab_type": "text"
      },
      "source": [
        "You have successfully completed Level-1 of cirq tutorial, and now are equipped to execute Quantum Algorithms using this framework."
      ]
    }
  ]
}