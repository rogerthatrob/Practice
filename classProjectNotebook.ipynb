{
 "metadata": {
  "language_info": {
   "codemirror_mode": {
    "name": "ipython",
    "version": 3
   },
   "file_extension": ".py",
   "mimetype": "text/x-python",
   "name": "python",
   "nbconvert_exporter": "python",
   "pygments_lexer": "ipython3",
   "version": 3
  },
  "orig_nbformat": 2,
  "kernelspec": {
   "name": "python_defaultSpec_1596675804580",
   "display_name": "Python 3.8.5 64-bit"
  }
 },
 "nbformat": 4,
 "nbformat_minor": 2,
 "cells": [
  {
   "cell_type": "markdown",
   "metadata": {},
   "source": [
    "# The Problem & Algorithms to be Implemented and Analyzed\n",
    "<p> In this project students will study the Selection Problem. The Selection Problem is explained in the Textbook chapter 9 and in the notes Module 4.1.\n",
    "Selection Problem: given an array A[1 … n] of n elements, find the i<sup>th</sup> order statistic (e.g. i<sup>th</sup>smallest element) where 1 <= i <= n.\n",
    "\n",
    "__________"
   ]
  },
  {
   "cell_type": "markdown",
   "metadata": {},
   "source": [
    "## First Algorithm (ALG1)\n",
    "- strategy: sort the array A using Insertion sort and return ```A[i]```.\n",
    "- Insertion sort is discussed in the notes Module1.1\n",
    "- pseudocode using ```A[1..n]:```\n",
    "```\n",
    "ALG1(A,n,i)\n",
    " INSERTION-SORT(A,n)\n",
    " print A[i]\n",
    "```\n",
    "RT = O(n<sup>2</sup>)"
   ]
  },
  {
   "cell_type": "code",
   "execution_count": 54,
   "metadata": {
    "tags": []
   },
   "outputs": [
    {
     "output_type": "stream",
     "name": "stdout",
     "text": "the insertion sort sorted array is:\n10\n13\n50\n101\n120\n300\n500\n501\n"
    }
   ],
   "source": [
    "def InsertionSort(A):\n",
    "    for j in range(1, len(A)): #from the second postition in the array to the the length of the array\n",
    "        key = A[j]\n",
    "        #insert A[j] into the sorted sequence A[1...j-1]\n",
    "        i = j-1\n",
    "        while i>=0 and A[i] > key:\n",
    "            A[i+1] = A[i]\n",
    "            i = i-1\n",
    "        A[i+1] = key \n",
    "        \n",
    "#driver code to test out ALG1()\n",
    "A = [50,10,13,101,300,120,500,501] \n",
    "InsertionSort(A)\n",
    "print(\"the insertion sort sorted array is:\")\n",
    "for i in range(len(A)):\n",
    "    print(\"%d\" %A[i])\n"
   ]
  },
  {
   "cell_type": "markdown",
   "metadata": {},
   "source": [
    "## Second Algorithm (ALG2)\n",
    "- strategy: sort the array A using Heapsort and return ```A[i]```.\n",
    "- Heapsort is discussed in the notes Module 3.1\n",
    "- pseudocode using ```A[1..n]:```\n",
    "```\n",
    "ALG2(A,n,i)\n",
    " HEAPSORT(A,n)\n",
    " print A[i]\n",
    "```\n",
    "RT = O(nlog<sub>2</sub>n)\n"
   ]
  },
  {
   "cell_type": "markdown",
   "metadata": {},
   "source": [
    "need to build the buildmaxheap() and the maxheapify() functions "
   ]
  },
  {
   "cell_type": "code",
   "execution_count": 20,
   "metadata": {},
   "outputs": [
    {
     "output_type": "error",
     "ename": "AttributeError",
     "evalue": "'list' object has no attribute 'heapSize'",
     "traceback": [
      "\u001b[1;31m---------------------------------------------------------------------------\u001b[0m",
      "\u001b[1;31mAttributeError\u001b[0m                            Traceback (most recent call last)",
      "\u001b[1;32m<ipython-input-20-05d78a9c6da7>\u001b[0m in \u001b[0;36m<module>\u001b[1;34m\u001b[0m\n\u001b[0;32m      9\u001b[0m \u001b[1;31m#driver code to test out ALG2()\u001b[0m\u001b[1;33m\u001b[0m\u001b[1;33m\u001b[0m\u001b[1;33m\u001b[0m\u001b[0m\n\u001b[0;32m     10\u001b[0m \u001b[0mA\u001b[0m \u001b[1;33m=\u001b[0m \u001b[1;33m[\u001b[0m\u001b[1;36m10\u001b[0m\u001b[1;33m,\u001b[0m \u001b[1;36m20\u001b[0m\u001b[1;33m,\u001b[0m \u001b[1;36m9\u001b[0m\u001b[1;33m,\u001b[0m \u001b[1;36m15\u001b[0m\u001b[1;33m,\u001b[0m \u001b[1;36m3000\u001b[0m\u001b[1;33m]\u001b[0m\u001b[1;33m\u001b[0m\u001b[1;33m\u001b[0m\u001b[0m\n\u001b[1;32m---> 11\u001b[1;33m \u001b[0mHeapSort\u001b[0m\u001b[1;33m(\u001b[0m\u001b[0mA\u001b[0m\u001b[1;33m)\u001b[0m\u001b[1;33m\u001b[0m\u001b[1;33m\u001b[0m\u001b[0m\n\u001b[0m\u001b[0;32m     12\u001b[0m \u001b[0mn\u001b[0m \u001b[1;33m=\u001b[0m \u001b[0mlen\u001b[0m\u001b[1;33m(\u001b[0m\u001b[0mA\u001b[0m\u001b[1;33m)\u001b[0m\u001b[1;33m\u001b[0m\u001b[1;33m\u001b[0m\u001b[0m\n\u001b[0;32m     13\u001b[0m \u001b[0mprint\u001b[0m\u001b[1;33m(\u001b[0m\u001b[1;34m'sorted HeapSort() array is:'\u001b[0m\u001b[1;33m)\u001b[0m\u001b[1;33m\u001b[0m\u001b[1;33m\u001b[0m\u001b[0m\n",
      "\u001b[1;32m<ipython-input-20-05d78a9c6da7>\u001b[0m in \u001b[0;36mHeapSort\u001b[1;34m(A)\u001b[0m\n\u001b[0;32m      1\u001b[0m \u001b[1;32mdef\u001b[0m \u001b[0mHeapSort\u001b[0m\u001b[1;33m(\u001b[0m\u001b[0mA\u001b[0m\u001b[1;33m)\u001b[0m\u001b[1;33m:\u001b[0m\u001b[1;33m\u001b[0m\u001b[1;33m\u001b[0m\u001b[0m\n\u001b[1;32m----> 2\u001b[1;33m     \u001b[0mn\u001b[0m \u001b[1;33m=\u001b[0m \u001b[0mA\u001b[0m\u001b[1;33m.\u001b[0m\u001b[0mheapSize\u001b[0m \u001b[1;33m=\u001b[0m \u001b[0mlen\u001b[0m\u001b[1;33m(\u001b[0m\u001b[0mA\u001b[0m\u001b[1;33m)\u001b[0m \u001b[1;31m#heapSize?\u001b[0m\u001b[1;33m\u001b[0m\u001b[1;33m\u001b[0m\u001b[0m\n\u001b[0m\u001b[0;32m      3\u001b[0m     \u001b[0mBuildMaxHeap\u001b[0m\u001b[1;33m(\u001b[0m\u001b[0mA\u001b[0m\u001b[1;33m)\u001b[0m \u001b[1;31m#need to make this\u001b[0m\u001b[1;33m\u001b[0m\u001b[1;33m\u001b[0m\u001b[0m\n\u001b[0;32m      4\u001b[0m     \u001b[1;32mfor\u001b[0m \u001b[0mi\u001b[0m \u001b[1;32min\u001b[0m \u001b[0mrange\u001b[0m\u001b[1;33m(\u001b[0m\u001b[0mn\u001b[0m\u001b[1;33m-\u001b[0m\u001b[1;36m1\u001b[0m\u001b[1;33m,\u001b[0m \u001b[1;36m1\u001b[0m\u001b[1;33m,\u001b[0m \u001b[1;33m-\u001b[0m\u001b[1;36m1\u001b[0m\u001b[1;33m)\u001b[0m\u001b[1;33m:\u001b[0m \u001b[1;31m#start,stop,step\u001b[0m\u001b[1;33m\u001b[0m\u001b[1;33m\u001b[0m\u001b[0m\n\u001b[0;32m      5\u001b[0m         \u001b[0mA\u001b[0m\u001b[1;33m[\u001b[0m\u001b[0mi\u001b[0m\u001b[1;33m]\u001b[0m\u001b[1;33m,\u001b[0m \u001b[0mA\u001b[0m\u001b[1;33m[\u001b[0m\u001b[1;36m0\u001b[0m\u001b[1;33m]\u001b[0m \u001b[1;33m=\u001b[0m \u001b[0mA\u001b[0m\u001b[1;33m[\u001b[0m\u001b[1;36m0\u001b[0m\u001b[1;33m]\u001b[0m\u001b[1;33m,\u001b[0m \u001b[0mA\u001b[0m\u001b[1;33m[\u001b[0m\u001b[0mi\u001b[0m\u001b[1;33m]\u001b[0m \u001b[1;31m#swap\u001b[0m\u001b[1;33m\u001b[0m\u001b[1;33m\u001b[0m\u001b[0m\n",
      "\u001b[1;31mAttributeError\u001b[0m: 'list' object has no attribute 'heapSize'"
     ]
    }
   ],
   "source": [
    "def HeapSort(A):\n",
    "    n = A.heapSize = len(A) #heapSize?\n",
    "    BuildMaxHeap(A) #need to make this \n",
    "    for i in range(n-1, 1, -1): #start,stop,step\n",
    "        A[i], A[0] = A[0], A[i] #swap\n",
    "        A.heapSize = A.heapSize - 1\n",
    "        MaxHeapify(A,1) #need to make\n",
    "\n",
    "#driver code to test out ALG2()\n",
    "A = [10, 20, 9, 15, 3000]\n",
    "HeapSort(A)\n",
    "n = len(A)\n",
    "print('sorted HeapSort() array is:')\n",
    "for i in range(n):\n",
    "    print ('%d' %A[i])"
   ]
  },
  {
   "cell_type": "markdown",
   "metadata": {},
   "source": [
    "## Third Algorith (ALG3)\n",
    "- strategy: use the RANDOMIZED-SELECT algorithm from textbook/notes (Textbook chapter 9\n",
    "and notes Module 4.1)\n",
    "- pseudocode using ```A[1..n]```\n",
    "```\n",
    "ALG3(A,n,i)\n",
    " x = RandomSelect(A,1,n,i)\n",
    " print(x)\n",
    "```\n",
    "expected RT = O(n)\n"
   ]
  },
  {
   "cell_type": "code",
   "execution_count": null,
   "metadata": {},
   "outputs": [],
   "source": [
    "#ALG3"
   ]
  },
  {
   "cell_type": "markdown",
   "metadata": {},
   "source": [
    "## Main Pseudocode:\n",
    "```\n",
    "    #generate numbers for array A[1...m, 1...n]\n",
    "    m=5\n",
    "    for j=1 to m\n",
    "        for k=1 to n \n",
    "            A[j,k] = rand()\n",
    "\n",
    "    #measurements for ALG 1\n",
    "    for(N=10000, n<=20000, n=n+10000)\n",
    "        i=floor(2n/3)\n",
    "        for(j=1, j<=m, j=j+1)\n",
    "            B[1...n] = A[j, 1...n] \n",
    "            t1 = time() \n",
    "            ALG1(B,n,i)\n",
    "            t2 = time()\n",
    "            tALG1[j,n] = t2 - t1\n",
    "    #compute average\n",
    "    tAvgALG1[n] = ((tALG1[1,n] + tALG1[2,n] + ... + tALG1[m,n]) / (m))  \n",
    "\n",
    "    #repeat for ALG2\n",
    "    #repeat for ALG3\n",
    "    ```"
   ]
  },
  {
   "cell_type": "code",
   "execution_count": 112,
   "metadata": {
    "tags": []
   },
   "outputs": [
    {
     "output_type": "error",
     "ename": "NameError",
     "evalue": "name 'j' is not defined",
     "traceback": [
      "\u001b[1;31m---------------------------------------------------------------------------\u001b[0m",
      "\u001b[1;31mNameError\u001b[0m                                 Traceback (most recent call last)",
      "\u001b[1;32m<ipython-input-112-e54a7652f882>\u001b[0m in \u001b[0;36m<module>\u001b[1;34m\u001b[0m\n\u001b[0;32m     16\u001b[0m     \u001b[0mfloor\u001b[0m \u001b[1;33m=\u001b[0m \u001b[1;36m2\u001b[0m\u001b[1;33m*\u001b[0m\u001b[0mn\u001b[0m \u001b[1;33m/\u001b[0m \u001b[1;36m3\u001b[0m\u001b[1;33m\u001b[0m\u001b[1;33m\u001b[0m\u001b[0m\n\u001b[0;32m     17\u001b[0m     \u001b[0mi\u001b[0m \u001b[1;33m=\u001b[0m \u001b[0mfloor\u001b[0m\u001b[1;33m\u001b[0m\u001b[1;33m\u001b[0m\u001b[0m\n\u001b[1;32m---> 18\u001b[1;33m     \u001b[1;32mfor\u001b[0m \u001b[0mj\u001b[0m \u001b[1;32min\u001b[0m \u001b[0mrange\u001b[0m\u001b[1;33m(\u001b[0m\u001b[1;36m1\u001b[0m\u001b[1;33m,\u001b[0m \u001b[0mm\u001b[0m \u001b[1;33m=\u001b[0m \u001b[1;36m0\u001b[0m\u001b[1;33m,\u001b[0m \u001b[0mj\u001b[0m\u001b[1;33m=\u001b[0m\u001b[0mj\u001b[0m\u001b[1;33m+\u001b[0m\u001b[1;36m1\u001b[0m\u001b[1;33m)\u001b[0m\u001b[1;33m:\u001b[0m\u001b[1;33m\u001b[0m\u001b[1;33m\u001b[0m\u001b[0m\n\u001b[0m\u001b[0;32m     19\u001b[0m         \u001b[0mB\u001b[0m\u001b[1;33m[\u001b[0m\u001b[1;36m1\u001b[0m\u001b[1;33m,\u001b[0m\u001b[0mn\u001b[0m\u001b[1;33m]\u001b[0m \u001b[1;33m=\u001b[0m \u001b[0mA\u001b[0m\u001b[1;33m[\u001b[0m\u001b[0mj\u001b[0m\u001b[1;33m,\u001b[0m\u001b[0mn\u001b[0m\u001b[1;33m-\u001b[0m\u001b[1;36m1\u001b[0m\u001b[1;33m]\u001b[0m\u001b[1;33m\u001b[0m\u001b[1;33m\u001b[0m\u001b[0m\n\u001b[0;32m     20\u001b[0m         \u001b[0mt1\u001b[0m \u001b[1;33m=\u001b[0m \u001b[0mtime\u001b[0m\u001b[1;33m(\u001b[0m\u001b[1;33m)\u001b[0m\u001b[1;33m\u001b[0m\u001b[1;33m\u001b[0m\u001b[0m\n",
      "\u001b[1;31mNameError\u001b[0m: name 'j' is not defined"
     ]
    }
   ],
   "source": [
    "import random\n",
    "\n",
    "def main():\n",
    "    A = [[],[],[],[],[]]\n",
    "    \n",
    "    #And then use two for loops to add random values to A.\n",
    "    # The syntax would look something like:\n",
    "    for index in range(0,5):\n",
    "        for j in range(0,20):\n",
    "            someRandomValue = random.randint(0, 5) # 1 \n",
    "            A[index].append(someRandomValue) # 2 \n",
    "\n",
    "#measurements for alg1\n",
    "n = 10\n",
    "for n in range(10, 20, n+100):\n",
    "    floor = 2*n / 3\n",
    "    i = floor\n",
    "    for j in range(1, m = 0, j+1):\n",
    "        B[1,n] = A[j,n-1]\n",
    "        t1 = time()\n",
    "        ALG1(B,n,i) # 3 \n",
    "        t2 = time()\n",
    "        tALG1[j,n] = t2 - t1\n",
    "\n",
    "#compute average\n",
    "tAvgALG1[n] = ((tALG1[1,n] + tALG1[2,n] + ... + tALG1[m,n]) / (m))  \n",
    "\n",
    " \n",
    "\n",
    "\n",
    "\n",
    "\n",
    "if __name__ == \"__main__\":\n",
    "    main()"
   ]
  },
  {
   "cell_type": "markdown",
   "metadata": {},
   "source": [
    "1. use random library to get this value\n",
    "2. The append() method in python adds a single item to the existing list. It doesn’t return a new list of items but will modify the original list by adding the item to the end of the list.\n",
    "3. the alg is in InsertionSort def, how should i rename or rescructor the fucition"
   ]
  },
  {
   "cell_type": "markdown",
   "metadata": {},
   "source": [
    "-----\n",
    "# Planning of the Experiments\n",
    "\n",
    "- Decide which programming language you want to use C, C++, Java, or Python\n",
    "- We will measure the RT for the following input sizes n = 10000, 20000, 30000, 40000, …. 200000. More specifically, n takes 20 values from 10k to 200k with increment of 10k.\n",
    "- The number of iterations (or runs) for each value of n is m = 5 iterations. For example, for n = 10000 elements, you will measure the RT of each algorithm on m = 5 different arrays of length 10000 and report the average RT.\n",
    "- In this project, let us take i = ¬2n/3¼ for all the experiments\n",
    "- You need to run all three algorithms on exactly the same input arrays\n",
    "- To generate the arrays A, use a random number generator. Then for each array instance run the algorithms. One option is to use rand() which generates a random number between 0 and RAND_MAX = 32767. Include #include<stdlib.h>\n",
    "- To measure the running time, you need a function to return the current time, such as \"gettimeofday\" which gives the time in sec and microseconds. Use \"man gettimeofday\" to see the manual description. Then you call this function before and after you run the algorithm and compute the running time as the difference of the two values."
   ]
  },
  {
   "cell_type": "markdown",
   "metadata": {},
   "source": [
    "----\n",
    "# Tables and Graphs for the Project Report\n",
    "\n"
   ]
  }
 ]
}